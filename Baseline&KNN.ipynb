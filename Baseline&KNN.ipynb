{
  "nbformat": 4,
  "nbformat_minor": 0,
  "metadata": {
    "colab": {
      "name": "Baseline&KNN.ipynb",
      "provenance": [],
      "machine_shape": "hm",
      "authorship_tag": "ABX9TyMy2mLf9Xk2JJvPgnlCfNil",
      "include_colab_link": true
    },
    "kernelspec": {
      "name": "python3",
      "display_name": "Python 3"
    }
  },
  "cells": [
    {
      "cell_type": "markdown",
      "metadata": {
        "id": "view-in-github",
        "colab_type": "text"
      },
      "source": [
        "<a href=\"https://colab.research.google.com/github/ale1995co/Final-Capstone/blob/master/Baseline%26KNN.ipynb\" target=\"_parent\"><img src=\"https://colab.research.google.com/assets/colab-badge.svg\" alt=\"Open In Colab\"/></a>"
      ]
    },
    {
      "cell_type": "markdown",
      "metadata": {
        "id": "1Qh1dwst3AUs",
        "colab_type": "text"
      },
      "source": [
        "# An Anime Recommender System"
      ]
    },
    {
      "cell_type": "code",
      "metadata": {
        "id": "gqV_gHuwdFXr",
        "colab_type": "code",
        "colab": {
          "base_uri": "https://localhost:8080/",
          "height": 125
        },
        "outputId": "4b84f541-e844-4616-99c0-cbf6a03618f2"
      },
      "source": [
        "# mount Google Drive\n",
        "from google.colab import drive\n",
        "drive.mount('/content/gdrive')"
      ],
      "execution_count": 1,
      "outputs": [
        {
          "output_type": "stream",
          "text": [
            "Go to this URL in a browser: https://accounts.google.com/o/oauth2/auth?client_id=947318989803-6bn6qk8qdgf4n4g3pfee6491hc0brc4i.apps.googleusercontent.com&redirect_uri=urn%3aietf%3awg%3aoauth%3a2.0%3aoob&response_type=code&scope=email%20https%3a%2f%2fwww.googleapis.com%2fauth%2fdocs.test%20https%3a%2f%2fwww.googleapis.com%2fauth%2fdrive%20https%3a%2f%2fwww.googleapis.com%2fauth%2fdrive.photos.readonly%20https%3a%2f%2fwww.googleapis.com%2fauth%2fpeopleapi.readonly\n",
            "\n",
            "Enter your authorization code:\n",
            "··········\n",
            "Mounted at /content/gdrive\n"
          ],
          "name": "stdout"
        }
      ]
    },
    {
      "cell_type": "code",
      "metadata": {
        "id": "G7zjipSUnCQb",
        "colab_type": "code",
        "colab": {
          "base_uri": "https://localhost:8080/",
          "height": 16
        },
        "outputId": "d59b5dcf-bd02-4180-d61c-0f3348738c41"
      },
      "source": [
        "import numpy as np \n",
        "import pandas as pd \n",
        "import os\n",
        "import datetime\n",
        "import seaborn as sns\n",
        "import matplotlib.pyplot as plt\n",
        "import plotly as py\n",
        "import plotly.express as px\n",
        "import plotly.graph_objs as go\n",
        "from plotly.offline import download_plotlyjs, init_notebook_mode, plot, iplot\n",
        "init_notebook_mode(connected=True) \n",
        "from wordcloud import WordCloud\n",
        "import warnings\n",
        "warnings.filterwarnings('ignore')\n"
      ],
      "execution_count": 2,
      "outputs": [
        {
          "output_type": "display_data",
          "data": {
            "text/html": [
              "        <script type=\"text/javascript\">\n",
              "        window.PlotlyConfig = {MathJaxConfig: 'local'};\n",
              "        if (window.MathJax) {MathJax.Hub.Config({SVG: {font: \"STIX-Web\"}});}\n",
              "        if (typeof require !== 'undefined') {\n",
              "        require.undef(\"plotly\");\n",
              "        requirejs.config({\n",
              "            paths: {\n",
              "                'plotly': ['https://cdn.plot.ly/plotly-latest.min']\n",
              "            }\n",
              "        });\n",
              "        require(['plotly'], function(Plotly) {\n",
              "            window._Plotly = Plotly;\n",
              "        });\n",
              "        }\n",
              "        </script>\n",
              "        "
            ]
          },
          "metadata": {
            "tags": []
          }
        }
      ]
    },
    {
      "cell_type": "markdown",
      "metadata": {
        "id": "Z9Qjk0HY3mjv",
        "colab_type": "text"
      },
      "source": [
        "In this notebook presents a solution for a recommender system for the MyAnimeList portal. MyAnimeList.net is a platform where people can rate their anime and score them 1-10. One improvement that can help the website is to have some kind of reccomendation system. This notebook will provide a user-based and an item-based collaborative filtering system."
      ]
    },
    {
      "cell_type": "markdown",
      "metadata": {
        "id": "uqnJ32mx4UmO",
        "colab_type": "text"
      },
      "source": [
        "# Context "
      ]
    },
    {
      "cell_type": "markdown",
      "metadata": {
        "id": "Vo375do35Fs_",
        "colab_type": "text"
      },
      "source": [
        "MyAnimeList website is like a IMDB of Japanese content. Essentially Anime is Japanese animation. I'm an avid fan of Anime. I thought this would be a good final capstone and help suggest new anime for myself would be a neat idea. \n",
        "\n",
        "Couple of companies like Netflix and Spotify use recommendation system all the time. There are many ways to build a reccomendation system. "
      ]
    },
    {
      "cell_type": "markdown",
      "metadata": {
        "id": "Amo3MY2v7CEB",
        "colab_type": "text"
      },
      "source": [
        "# Datasets\n"
      ]
    },
    {
      "cell_type": "markdown",
      "metadata": {
        "id": "lOq0edzo7FIv",
        "colab_type": "text"
      },
      "source": [
        "The datasets I will use came from azazoth42.(https://www.kaggle.com/azathoth42/myanimelist). He did alot of the dirty work by websraping the data from myanimelist.net. There are three CSVs that I'm going to use.\n",
        "\n",
        "The datasets are mainly divided in three. One with info about the MyAnimeList customers (df_users) such as location, gender, birth date and so on. Another one for info about the anime, which brings data like the title of the show, what genre is it inside and even the opening themes. The last one (and also the biggest one) is all the scores that a certain user had with a show (that have 31M rows of interactions."
      ]
    },
    {
      "cell_type": "markdown",
      "metadata": {
        "id": "KBhvJkJd2o2M",
        "colab_type": "text"
      },
      "source": [
        "# Load Data"
      ]
    },
    {
      "cell_type": "code",
      "metadata": {
        "id": "JHb4N4ElnW0H",
        "colab_type": "code",
        "colab": {}
      },
      "source": [
        "df_users = pd.read_csv('/content/gdrive/My Drive/Colab Notebooks/Colab Datasets/Final Capstone/users_filtered.csv')\n",
        "df_anime = pd.read_csv('/content/gdrive/My Drive/Colab Notebooks/Colab Datasets/Final Capstone/anime_filtered.csv')\n",
        "df_userlists = pd.read_csv('/content/gdrive/My Drive/Colab Notebooks/Colab Datasets/Final Capstone/animelists_filtered.csv')\n"
      ],
      "execution_count": 0,
      "outputs": []
    },
    {
      "cell_type": "markdown",
      "metadata": {
        "id": "HRaXLVJYnrdD",
        "colab_type": "text"
      },
      "source": [
        "# Data Exploration"
      ]
    },
    {
      "cell_type": "code",
      "metadata": {
        "id": "AHYSVrZmnulJ",
        "colab_type": "code",
        "colab": {
          "base_uri": "https://localhost:8080/",
          "height": 656
        },
        "outputId": "baff6116-d167-44a6-b368-1087fcfe93d5"
      },
      "source": [
        "df_anime.info()"
      ],
      "execution_count": 4,
      "outputs": [
        {
          "output_type": "stream",
          "text": [
            "<class 'pandas.core.frame.DataFrame'>\n",
            "RangeIndex: 14474 entries, 0 to 14473\n",
            "Data columns (total 31 columns):\n",
            "anime_id          14474 non-null int64\n",
            "title             14474 non-null object\n",
            "title_english     5723 non-null object\n",
            "title_japanese    14440 non-null object\n",
            "title_synonyms    8936 non-null object\n",
            "image_url         14378 non-null object\n",
            "type              14474 non-null object\n",
            "source            14474 non-null object\n",
            "episodes          14474 non-null int64\n",
            "status            14474 non-null object\n",
            "airing            14474 non-null bool\n",
            "aired_string      14474 non-null object\n",
            "aired             14474 non-null object\n",
            "duration          14474 non-null object\n",
            "rating            14474 non-null object\n",
            "score             14474 non-null float64\n",
            "scored_by         14474 non-null int64\n",
            "rank              12901 non-null float64\n",
            "popularity        14474 non-null int64\n",
            "members           14474 non-null int64\n",
            "favorites         14474 non-null int64\n",
            "background        1057 non-null object\n",
            "premiered         4096 non-null object\n",
            "broadcast         4271 non-null object\n",
            "related           14474 non-null object\n",
            "producer          8288 non-null object\n",
            "licensor          3373 non-null object\n",
            "studio            8544 non-null object\n",
            "genre             14410 non-null object\n",
            "opening_theme     14474 non-null object\n",
            "ending_theme      14474 non-null object\n",
            "dtypes: bool(1), float64(2), int64(6), object(22)\n",
            "memory usage: 3.3+ MB\n"
          ],
          "name": "stdout"
        }
      ]
    },
    {
      "cell_type": "markdown",
      "metadata": {
        "id": "_ogTVvAC2LBm",
        "colab_type": "text"
      },
      "source": [
        "There are 14474 unique animes"
      ]
    },
    {
      "cell_type": "code",
      "metadata": {
        "id": "Igwc9p_IoiVC",
        "colab_type": "code",
        "colab": {
          "base_uri": "https://localhost:8080/",
          "height": 407
        },
        "outputId": "1d7d500a-d2b7-4a9b-fe68-c31f0f8519b5"
      },
      "source": [
        "df_users.info()"
      ],
      "execution_count": 5,
      "outputs": [
        {
          "output_type": "stream",
          "text": [
            "<class 'pandas.core.frame.DataFrame'>\n",
            "RangeIndex: 116133 entries, 0 to 116132\n",
            "Data columns (total 17 columns):\n",
            "username                    116132 non-null object\n",
            "user_id                     116133 non-null int64\n",
            "user_watching               116133 non-null int64\n",
            "user_completed              116133 non-null int64\n",
            "user_onhold                 116133 non-null int64\n",
            "user_dropped                116133 non-null int64\n",
            "user_plantowatch            116133 non-null int64\n",
            "user_days_spent_watching    116133 non-null float64\n",
            "gender                      116133 non-null object\n",
            "location                    116127 non-null object\n",
            "birth_date                  116133 non-null object\n",
            "access_rank                 0 non-null float64\n",
            "join_date                   116133 non-null object\n",
            "last_online                 116133 non-null object\n",
            "stats_mean_score            116133 non-null float64\n",
            "stats_rewatched             116133 non-null float64\n",
            "stats_episodes              116133 non-null float64\n",
            "dtypes: float64(5), int64(6), object(6)\n",
            "memory usage: 15.1+ MB\n"
          ],
          "name": "stdout"
        }
      ]
    },
    {
      "cell_type": "markdown",
      "metadata": {
        "id": "WJG7affF2QQX",
        "colab_type": "text"
      },
      "source": [
        "There are 116132 unique users"
      ]
    },
    {
      "cell_type": "code",
      "metadata": {
        "id": "FqVK-vQeokf5",
        "colab_type": "code",
        "colab": {
          "base_uri": "https://localhost:8080/",
          "height": 301
        },
        "outputId": "81e3b45f-f102-49e3-ea43-3ad1a29d58e7"
      },
      "source": [
        "df_userlists.info()"
      ],
      "execution_count": 6,
      "outputs": [
        {
          "output_type": "stream",
          "text": [
            "<class 'pandas.core.frame.DataFrame'>\n",
            "RangeIndex: 35802006 entries, 0 to 35802005\n",
            "Data columns (total 11 columns):\n",
            "username               object\n",
            "anime_id               int64\n",
            "my_watched_episodes    int64\n",
            "my_start_date          object\n",
            "my_finish_date         object\n",
            "my_score               int64\n",
            "my_status              int64\n",
            "my_rewatching          float64\n",
            "my_rewatching_ep       int64\n",
            "my_last_updated        int64\n",
            "my_tags                object\n",
            "dtypes: float64(1), int64(6), object(4)\n",
            "memory usage: 2.9+ GB\n"
          ],
          "name": "stdout"
        }
      ]
    },
    {
      "cell_type": "markdown",
      "metadata": {
        "id": "pDCjRqCt2Yvw",
        "colab_type": "text"
      },
      "source": [
        "There are 35,802,006 ratings in the website. "
      ]
    },
    {
      "cell_type": "code",
      "metadata": {
        "id": "wUVw9Q1Dor0w",
        "colab_type": "code",
        "colab": {
          "base_uri": "https://localhost:8080/",
          "height": 457
        },
        "outputId": "f8747cfb-fd64-46d8-96f7-32f903ba9974"
      },
      "source": [
        "df_anime.head(3)"
      ],
      "execution_count": 7,
      "outputs": [
        {
          "output_type": "execute_result",
          "data": {
            "text/html": [
              "<div>\n",
              "<style scoped>\n",
              "    .dataframe tbody tr th:only-of-type {\n",
              "        vertical-align: middle;\n",
              "    }\n",
              "\n",
              "    .dataframe tbody tr th {\n",
              "        vertical-align: top;\n",
              "    }\n",
              "\n",
              "    .dataframe thead th {\n",
              "        text-align: right;\n",
              "    }\n",
              "</style>\n",
              "<table border=\"1\" class=\"dataframe\">\n",
              "  <thead>\n",
              "    <tr style=\"text-align: right;\">\n",
              "      <th></th>\n",
              "      <th>anime_id</th>\n",
              "      <th>title</th>\n",
              "      <th>title_english</th>\n",
              "      <th>title_japanese</th>\n",
              "      <th>title_synonyms</th>\n",
              "      <th>image_url</th>\n",
              "      <th>type</th>\n",
              "      <th>source</th>\n",
              "      <th>episodes</th>\n",
              "      <th>status</th>\n",
              "      <th>airing</th>\n",
              "      <th>aired_string</th>\n",
              "      <th>aired</th>\n",
              "      <th>duration</th>\n",
              "      <th>rating</th>\n",
              "      <th>score</th>\n",
              "      <th>scored_by</th>\n",
              "      <th>rank</th>\n",
              "      <th>popularity</th>\n",
              "      <th>members</th>\n",
              "      <th>favorites</th>\n",
              "      <th>background</th>\n",
              "      <th>premiered</th>\n",
              "      <th>broadcast</th>\n",
              "      <th>related</th>\n",
              "      <th>producer</th>\n",
              "      <th>licensor</th>\n",
              "      <th>studio</th>\n",
              "      <th>genre</th>\n",
              "      <th>opening_theme</th>\n",
              "      <th>ending_theme</th>\n",
              "    </tr>\n",
              "  </thead>\n",
              "  <tbody>\n",
              "    <tr>\n",
              "      <th>0</th>\n",
              "      <td>11013</td>\n",
              "      <td>Inu x Boku SS</td>\n",
              "      <td>Inu X Boku Secret Service</td>\n",
              "      <td>妖狐×僕SS</td>\n",
              "      <td>Youko x Boku SS</td>\n",
              "      <td>https://myanimelist.cdn-dena.com/images/anime/...</td>\n",
              "      <td>TV</td>\n",
              "      <td>Manga</td>\n",
              "      <td>12</td>\n",
              "      <td>Finished Airing</td>\n",
              "      <td>False</td>\n",
              "      <td>Jan 13, 2012 to Mar 30, 2012</td>\n",
              "      <td>{'from': '2012-01-13', 'to': '2012-03-30'}</td>\n",
              "      <td>24 min. per ep.</td>\n",
              "      <td>PG-13 - Teens 13 or older</td>\n",
              "      <td>7.63</td>\n",
              "      <td>139250</td>\n",
              "      <td>1274.0</td>\n",
              "      <td>231</td>\n",
              "      <td>283882</td>\n",
              "      <td>2809</td>\n",
              "      <td>Inu x Boku SS was licensed by Sentai Filmworks...</td>\n",
              "      <td>Winter 2012</td>\n",
              "      <td>Fridays at Unknown</td>\n",
              "      <td>{'Adaptation': [{'mal_id': 17207, 'type': 'man...</td>\n",
              "      <td>Aniplex, Square Enix, Mainichi Broadcasting Sy...</td>\n",
              "      <td>Sentai Filmworks</td>\n",
              "      <td>David Production</td>\n",
              "      <td>Comedy, Supernatural, Romance, Shounen</td>\n",
              "      <td>['\"Nirvana\" by MUCC']</td>\n",
              "      <td>['#1: \"Nirvana\" by MUCC (eps 1, 11-12)', '#2: ...</td>\n",
              "    </tr>\n",
              "    <tr>\n",
              "      <th>1</th>\n",
              "      <td>2104</td>\n",
              "      <td>Seto no Hanayome</td>\n",
              "      <td>My Bride is a Mermaid</td>\n",
              "      <td>瀬戸の花嫁</td>\n",
              "      <td>The Inland Sea Bride</td>\n",
              "      <td>https://myanimelist.cdn-dena.com/images/anime/...</td>\n",
              "      <td>TV</td>\n",
              "      <td>Manga</td>\n",
              "      <td>26</td>\n",
              "      <td>Finished Airing</td>\n",
              "      <td>False</td>\n",
              "      <td>Apr 2, 2007 to Oct 1, 2007</td>\n",
              "      <td>{'from': '2007-04-02', 'to': '2007-10-01'}</td>\n",
              "      <td>24 min. per ep.</td>\n",
              "      <td>PG-13 - Teens 13 or older</td>\n",
              "      <td>7.89</td>\n",
              "      <td>91206</td>\n",
              "      <td>727.0</td>\n",
              "      <td>366</td>\n",
              "      <td>204003</td>\n",
              "      <td>2579</td>\n",
              "      <td>NaN</td>\n",
              "      <td>Spring 2007</td>\n",
              "      <td>Unknown</td>\n",
              "      <td>{'Adaptation': [{'mal_id': 759, 'type': 'manga...</td>\n",
              "      <td>TV Tokyo, AIC, Square Enix, Sotsu</td>\n",
              "      <td>Funimation</td>\n",
              "      <td>Gonzo</td>\n",
              "      <td>Comedy, Parody, Romance, School, Shounen</td>\n",
              "      <td>['\"Romantic summer\" by SUN&amp;LUNAR']</td>\n",
              "      <td>['#1: \"Ashita e no Hikari (明日への光)\" by Asuka Hi...</td>\n",
              "    </tr>\n",
              "    <tr>\n",
              "      <th>2</th>\n",
              "      <td>5262</td>\n",
              "      <td>Shugo Chara!! Doki</td>\n",
              "      <td>Shugo Chara!! Doki</td>\n",
              "      <td>しゅごキャラ！！どきっ</td>\n",
              "      <td>Shugo Chara Ninenme, Shugo Chara! Second Year</td>\n",
              "      <td>https://myanimelist.cdn-dena.com/images/anime/...</td>\n",
              "      <td>TV</td>\n",
              "      <td>Manga</td>\n",
              "      <td>51</td>\n",
              "      <td>Finished Airing</td>\n",
              "      <td>False</td>\n",
              "      <td>Oct 4, 2008 to Sep 25, 2009</td>\n",
              "      <td>{'from': '2008-10-04', 'to': '2009-09-25'}</td>\n",
              "      <td>24 min. per ep.</td>\n",
              "      <td>PG - Children</td>\n",
              "      <td>7.55</td>\n",
              "      <td>37129</td>\n",
              "      <td>1508.0</td>\n",
              "      <td>1173</td>\n",
              "      <td>70127</td>\n",
              "      <td>802</td>\n",
              "      <td>NaN</td>\n",
              "      <td>Fall 2008</td>\n",
              "      <td>Unknown</td>\n",
              "      <td>{'Adaptation': [{'mal_id': 101, 'type': 'manga...</td>\n",
              "      <td>TV Tokyo, Sotsu</td>\n",
              "      <td>NaN</td>\n",
              "      <td>Satelight</td>\n",
              "      <td>Comedy, Magic, School, Shoujo</td>\n",
              "      <td>['#1: \"Minna no Tamago (みんなのたまご)\" by Shugo Cha...</td>\n",
              "      <td>['#1: \"Rottara Rottara (ロッタラ ロッタラ)\" by Buono! ...</td>\n",
              "    </tr>\n",
              "  </tbody>\n",
              "</table>\n",
              "</div>"
            ],
            "text/plain": [
              "   anime_id  ...                                       ending_theme\n",
              "0     11013  ...  ['#1: \"Nirvana\" by MUCC (eps 1, 11-12)', '#2: ...\n",
              "1      2104  ...  ['#1: \"Ashita e no Hikari (明日への光)\" by Asuka Hi...\n",
              "2      5262  ...  ['#1: \"Rottara Rottara (ロッタラ ロッタラ)\" by Buono! ...\n",
              "\n",
              "[3 rows x 31 columns]"
            ]
          },
          "metadata": {
            "tags": []
          },
          "execution_count": 7
        }
      ]
    },
    {
      "cell_type": "code",
      "metadata": {
        "id": "yxJnUgDmov0w",
        "colab_type": "code",
        "colab": {
          "base_uri": "https://localhost:8080/",
          "height": 137
        },
        "outputId": "6adce024-ffc1-4f8f-92a0-cf92857577ff"
      },
      "source": [
        "df_users.head(3)"
      ],
      "execution_count": 8,
      "outputs": [
        {
          "output_type": "execute_result",
          "data": {
            "text/html": [
              "<div>\n",
              "<style scoped>\n",
              "    .dataframe tbody tr th:only-of-type {\n",
              "        vertical-align: middle;\n",
              "    }\n",
              "\n",
              "    .dataframe tbody tr th {\n",
              "        vertical-align: top;\n",
              "    }\n",
              "\n",
              "    .dataframe thead th {\n",
              "        text-align: right;\n",
              "    }\n",
              "</style>\n",
              "<table border=\"1\" class=\"dataframe\">\n",
              "  <thead>\n",
              "    <tr style=\"text-align: right;\">\n",
              "      <th></th>\n",
              "      <th>username</th>\n",
              "      <th>user_id</th>\n",
              "      <th>user_watching</th>\n",
              "      <th>user_completed</th>\n",
              "      <th>user_onhold</th>\n",
              "      <th>user_dropped</th>\n",
              "      <th>user_plantowatch</th>\n",
              "      <th>user_days_spent_watching</th>\n",
              "      <th>gender</th>\n",
              "      <th>location</th>\n",
              "      <th>birth_date</th>\n",
              "      <th>access_rank</th>\n",
              "      <th>join_date</th>\n",
              "      <th>last_online</th>\n",
              "      <th>stats_mean_score</th>\n",
              "      <th>stats_rewatched</th>\n",
              "      <th>stats_episodes</th>\n",
              "    </tr>\n",
              "  </thead>\n",
              "  <tbody>\n",
              "    <tr>\n",
              "      <th>0</th>\n",
              "      <td>karthiga</td>\n",
              "      <td>2255153</td>\n",
              "      <td>3</td>\n",
              "      <td>49</td>\n",
              "      <td>1</td>\n",
              "      <td>0</td>\n",
              "      <td>0</td>\n",
              "      <td>55.31</td>\n",
              "      <td>Female</td>\n",
              "      <td>Chennai, India</td>\n",
              "      <td>1990-04-29</td>\n",
              "      <td>NaN</td>\n",
              "      <td>2013-03-03</td>\n",
              "      <td>2014-02-04 01:32:00</td>\n",
              "      <td>7.43</td>\n",
              "      <td>0.0</td>\n",
              "      <td>3391.0</td>\n",
              "    </tr>\n",
              "    <tr>\n",
              "      <th>1</th>\n",
              "      <td>RedvelvetDaisuki</td>\n",
              "      <td>1897606</td>\n",
              "      <td>61</td>\n",
              "      <td>396</td>\n",
              "      <td>39</td>\n",
              "      <td>0</td>\n",
              "      <td>206</td>\n",
              "      <td>118.07</td>\n",
              "      <td>Female</td>\n",
              "      <td>Manila</td>\n",
              "      <td>1995-01-01</td>\n",
              "      <td>NaN</td>\n",
              "      <td>2012-12-13</td>\n",
              "      <td>1900-05-13 02:47:00</td>\n",
              "      <td>6.78</td>\n",
              "      <td>80.0</td>\n",
              "      <td>7094.0</td>\n",
              "    </tr>\n",
              "    <tr>\n",
              "      <th>2</th>\n",
              "      <td>Damonashu</td>\n",
              "      <td>37326</td>\n",
              "      <td>45</td>\n",
              "      <td>195</td>\n",
              "      <td>27</td>\n",
              "      <td>25</td>\n",
              "      <td>59</td>\n",
              "      <td>83.70</td>\n",
              "      <td>Male</td>\n",
              "      <td>Detroit,Michigan</td>\n",
              "      <td>1991-08-01</td>\n",
              "      <td>NaN</td>\n",
              "      <td>2008-02-13</td>\n",
              "      <td>1900-03-24 12:48:00</td>\n",
              "      <td>6.15</td>\n",
              "      <td>6.0</td>\n",
              "      <td>4936.0</td>\n",
              "    </tr>\n",
              "  </tbody>\n",
              "</table>\n",
              "</div>"
            ],
            "text/plain": [
              "           username  user_id  ...  stats_rewatched  stats_episodes\n",
              "0          karthiga  2255153  ...              0.0          3391.0\n",
              "1  RedvelvetDaisuki  1897606  ...             80.0          7094.0\n",
              "2         Damonashu    37326  ...              6.0          4936.0\n",
              "\n",
              "[3 rows x 17 columns]"
            ]
          },
          "metadata": {
            "tags": []
          },
          "execution_count": 8
        }
      ]
    },
    {
      "cell_type": "code",
      "metadata": {
        "id": "rj6wqK2woxgw",
        "colab_type": "code",
        "colab": {
          "base_uri": "https://localhost:8080/",
          "height": 137
        },
        "outputId": "73ad2bf4-cddb-4edf-a85d-3fe0f5c16d55"
      },
      "source": [
        "df_userlists.head(3)"
      ],
      "execution_count": 9,
      "outputs": [
        {
          "output_type": "execute_result",
          "data": {
            "text/html": [
              "<div>\n",
              "<style scoped>\n",
              "    .dataframe tbody tr th:only-of-type {\n",
              "        vertical-align: middle;\n",
              "    }\n",
              "\n",
              "    .dataframe tbody tr th {\n",
              "        vertical-align: top;\n",
              "    }\n",
              "\n",
              "    .dataframe thead th {\n",
              "        text-align: right;\n",
              "    }\n",
              "</style>\n",
              "<table border=\"1\" class=\"dataframe\">\n",
              "  <thead>\n",
              "    <tr style=\"text-align: right;\">\n",
              "      <th></th>\n",
              "      <th>username</th>\n",
              "      <th>anime_id</th>\n",
              "      <th>my_watched_episodes</th>\n",
              "      <th>my_start_date</th>\n",
              "      <th>my_finish_date</th>\n",
              "      <th>my_score</th>\n",
              "      <th>my_status</th>\n",
              "      <th>my_rewatching</th>\n",
              "      <th>my_rewatching_ep</th>\n",
              "      <th>my_last_updated</th>\n",
              "      <th>my_tags</th>\n",
              "    </tr>\n",
              "  </thead>\n",
              "  <tbody>\n",
              "    <tr>\n",
              "      <th>0</th>\n",
              "      <td>karthiga</td>\n",
              "      <td>21</td>\n",
              "      <td>586</td>\n",
              "      <td>0000-00-00</td>\n",
              "      <td>0000-00-00</td>\n",
              "      <td>9</td>\n",
              "      <td>1</td>\n",
              "      <td>NaN</td>\n",
              "      <td>0</td>\n",
              "      <td>1362307973</td>\n",
              "      <td>NaN</td>\n",
              "    </tr>\n",
              "    <tr>\n",
              "      <th>1</th>\n",
              "      <td>RedvelvetDaisuki</td>\n",
              "      <td>21</td>\n",
              "      <td>0</td>\n",
              "      <td>0000-00-00</td>\n",
              "      <td>0000-00-00</td>\n",
              "      <td>0</td>\n",
              "      <td>3</td>\n",
              "      <td>0.0</td>\n",
              "      <td>0</td>\n",
              "      <td>1355480701</td>\n",
              "      <td>NaN</td>\n",
              "    </tr>\n",
              "    <tr>\n",
              "      <th>2</th>\n",
              "      <td>Damonashu</td>\n",
              "      <td>21</td>\n",
              "      <td>418</td>\n",
              "      <td>0000-00-00</td>\n",
              "      <td>0000-00-00</td>\n",
              "      <td>10</td>\n",
              "      <td>1</td>\n",
              "      <td>0.0</td>\n",
              "      <td>0</td>\n",
              "      <td>1254296345</td>\n",
              "      <td>NaN</td>\n",
              "    </tr>\n",
              "  </tbody>\n",
              "</table>\n",
              "</div>"
            ],
            "text/plain": [
              "           username  anime_id  ...  my_last_updated my_tags\n",
              "0          karthiga        21  ...       1362307973     NaN\n",
              "1  RedvelvetDaisuki        21  ...       1355480701     NaN\n",
              "2         Damonashu        21  ...       1254296345     NaN\n",
              "\n",
              "[3 rows x 11 columns]"
            ]
          },
          "metadata": {
            "tags": []
          },
          "execution_count": 9
        }
      ]
    },
    {
      "cell_type": "code",
      "metadata": {
        "id": "GCPID5TuozUI",
        "colab_type": "code",
        "colab": {
          "base_uri": "https://localhost:8080/",
          "height": 197
        },
        "outputId": "a1b69706-eb9a-4393-c3a2-dfa91eddf2be"
      },
      "source": [
        "# merging the df_anime and df_users. So we get the ratings for each anime.\n",
        "anime = df_anime[df_anime.genre.notnull()][['anime_id','title','type','source','score','scored_by','rank','popularity','genre']]\n",
        "users = df_users[df_users.gender.isin(['Female','Male'])][['username','gender','user_completed','user_days_spent_watching','birth_date' ]]\n",
        "userlists = df_userlists[df_userlists.my_status.isin([1,2]) & df_userlists.anime_id.notnull()][['username', 'anime_id', 'my_score', ]]\n",
        "\n",
        "userlists = pd.merge(userlists,users, how='inner')\n",
        "userlists = pd.merge(userlists,anime, how='left')\n",
        "\n",
        "userlists_sub = userlists[userlists.genre.notnull()].head(100000)\n",
        "userlists_sub.head()"
      ],
      "execution_count": 73,
      "outputs": [
        {
          "output_type": "execute_result",
          "data": {
            "text/html": [
              "<div>\n",
              "<style scoped>\n",
              "    .dataframe tbody tr th:only-of-type {\n",
              "        vertical-align: middle;\n",
              "    }\n",
              "\n",
              "    .dataframe tbody tr th {\n",
              "        vertical-align: top;\n",
              "    }\n",
              "\n",
              "    .dataframe thead th {\n",
              "        text-align: right;\n",
              "    }\n",
              "</style>\n",
              "<table border=\"1\" class=\"dataframe\">\n",
              "  <thead>\n",
              "    <tr style=\"text-align: right;\">\n",
              "      <th></th>\n",
              "      <th>username</th>\n",
              "      <th>anime_id</th>\n",
              "      <th>my_score</th>\n",
              "      <th>gender</th>\n",
              "      <th>user_completed</th>\n",
              "      <th>user_days_spent_watching</th>\n",
              "      <th>birth_date</th>\n",
              "      <th>title</th>\n",
              "      <th>type</th>\n",
              "      <th>source</th>\n",
              "      <th>score</th>\n",
              "      <th>scored_by</th>\n",
              "      <th>rank</th>\n",
              "      <th>popularity</th>\n",
              "      <th>genre</th>\n",
              "    </tr>\n",
              "  </thead>\n",
              "  <tbody>\n",
              "    <tr>\n",
              "      <th>0</th>\n",
              "      <td>karthiga</td>\n",
              "      <td>21</td>\n",
              "      <td>9</td>\n",
              "      <td>Female</td>\n",
              "      <td>49</td>\n",
              "      <td>55.31</td>\n",
              "      <td>1990-04-29</td>\n",
              "      <td>One Piece</td>\n",
              "      <td>TV</td>\n",
              "      <td>Manga</td>\n",
              "      <td>8.54</td>\n",
              "      <td>423868.0</td>\n",
              "      <td>91.0</td>\n",
              "      <td>35.0</td>\n",
              "      <td>Action, Adventure, Comedy, Super Power, Drama,...</td>\n",
              "    </tr>\n",
              "    <tr>\n",
              "      <th>1</th>\n",
              "      <td>karthiga</td>\n",
              "      <td>59</td>\n",
              "      <td>7</td>\n",
              "      <td>Female</td>\n",
              "      <td>49</td>\n",
              "      <td>55.31</td>\n",
              "      <td>1990-04-29</td>\n",
              "      <td>Chobits</td>\n",
              "      <td>TV</td>\n",
              "      <td>Manga</td>\n",
              "      <td>7.53</td>\n",
              "      <td>175388.0</td>\n",
              "      <td>1546.0</td>\n",
              "      <td>188.0</td>\n",
              "      <td>Sci-Fi, Comedy, Drama, Romance, Ecchi, Seinen</td>\n",
              "    </tr>\n",
              "    <tr>\n",
              "      <th>2</th>\n",
              "      <td>karthiga</td>\n",
              "      <td>74</td>\n",
              "      <td>7</td>\n",
              "      <td>Female</td>\n",
              "      <td>49</td>\n",
              "      <td>55.31</td>\n",
              "      <td>1990-04-29</td>\n",
              "      <td>Gakuen Alice</td>\n",
              "      <td>TV</td>\n",
              "      <td>Manga</td>\n",
              "      <td>7.77</td>\n",
              "      <td>33244.0</td>\n",
              "      <td>941.0</td>\n",
              "      <td>1291.0</td>\n",
              "      <td>Comedy, School, Shoujo, Super Power</td>\n",
              "    </tr>\n",
              "    <tr>\n",
              "      <th>3</th>\n",
              "      <td>karthiga</td>\n",
              "      <td>120</td>\n",
              "      <td>7</td>\n",
              "      <td>Female</td>\n",
              "      <td>49</td>\n",
              "      <td>55.31</td>\n",
              "      <td>1990-04-29</td>\n",
              "      <td>Fruits Basket</td>\n",
              "      <td>TV</td>\n",
              "      <td>Manga</td>\n",
              "      <td>7.77</td>\n",
              "      <td>167968.0</td>\n",
              "      <td>939.0</td>\n",
              "      <td>222.0</td>\n",
              "      <td>Slice of Life, Comedy, Drama, Romance, Fantasy...</td>\n",
              "    </tr>\n",
              "    <tr>\n",
              "      <th>4</th>\n",
              "      <td>karthiga</td>\n",
              "      <td>178</td>\n",
              "      <td>7</td>\n",
              "      <td>Female</td>\n",
              "      <td>49</td>\n",
              "      <td>55.31</td>\n",
              "      <td>1990-04-29</td>\n",
              "      <td>Ultra Maniac</td>\n",
              "      <td>TV</td>\n",
              "      <td>Manga</td>\n",
              "      <td>7.26</td>\n",
              "      <td>9663.0</td>\n",
              "      <td>2594.0</td>\n",
              "      <td>2490.0</td>\n",
              "      <td>Magic, Comedy, Romance, School, Shoujo</td>\n",
              "    </tr>\n",
              "  </tbody>\n",
              "</table>\n",
              "</div>"
            ],
            "text/plain": [
              "   username  ...                                              genre\n",
              "0  karthiga  ...  Action, Adventure, Comedy, Super Power, Drama,...\n",
              "1  karthiga  ...      Sci-Fi, Comedy, Drama, Romance, Ecchi, Seinen\n",
              "2  karthiga  ...                Comedy, School, Shoujo, Super Power\n",
              "3  karthiga  ...  Slice of Life, Comedy, Drama, Romance, Fantasy...\n",
              "4  karthiga  ...             Magic, Comedy, Romance, School, Shoujo\n",
              "\n",
              "[5 rows x 15 columns]"
            ]
          },
          "metadata": {
            "tags": []
          },
          "execution_count": 73
        }
      ]
    },
    {
      "cell_type": "markdown",
      "metadata": {
        "id": "LxWE_4LZquHR",
        "colab_type": "text"
      },
      "source": [
        "# Data Visualization"
      ]
    },
    {
      "cell_type": "code",
      "metadata": {
        "id": "HOARdWXbqzAG",
        "colab_type": "code",
        "colab": {
          "base_uri": "https://localhost:8080/",
          "height": 827
        },
        "outputId": "e798c107-e649-4c09-fd38-e30d5df640d1"
      },
      "source": [
        "#Made top 100 anime based poplarity and ranks\n",
        "anime_rank_100 = df_anime[df_anime.popularity!=0].sort_values(by='rank').head(100).loc[:,['popularity','rank', 'title','type', 'source', 'scored_by','favorites','score']]\n",
        "popularity_and_rank_100 = anime_rank_100[(anime_rank_100.popularity <= 100)]\n",
        "popularity_and_rank_100[\"point\"] = (popularity_and_rank_100[\"scored_by\"] * popularity_and_rank_100[\"favorites\"] * popularity_and_rank_100[\"score\"]) / 10000000000\n",
        "popularity_and_rank_100"
      ],
      "execution_count": 11,
      "outputs": [
        {
          "output_type": "execute_result",
          "data": {
            "text/html": [
              "<div>\n",
              "<style scoped>\n",
              "    .dataframe tbody tr th:only-of-type {\n",
              "        vertical-align: middle;\n",
              "    }\n",
              "\n",
              "    .dataframe tbody tr th {\n",
              "        vertical-align: top;\n",
              "    }\n",
              "\n",
              "    .dataframe thead th {\n",
              "        text-align: right;\n",
              "    }\n",
              "</style>\n",
              "<table border=\"1\" class=\"dataframe\">\n",
              "  <thead>\n",
              "    <tr style=\"text-align: right;\">\n",
              "      <th></th>\n",
              "      <th>popularity</th>\n",
              "      <th>rank</th>\n",
              "      <th>title</th>\n",
              "      <th>type</th>\n",
              "      <th>source</th>\n",
              "      <th>scored_by</th>\n",
              "      <th>favorites</th>\n",
              "      <th>score</th>\n",
              "      <th>point</th>\n",
              "    </tr>\n",
              "  </thead>\n",
              "  <tbody>\n",
              "    <tr>\n",
              "      <th>2555</th>\n",
              "      <td>4</td>\n",
              "      <td>1.0</td>\n",
              "      <td>Fullmetal Alchemist: Brotherhood</td>\n",
              "      <td>TV</td>\n",
              "      <td>Manga</td>\n",
              "      <td>733592</td>\n",
              "      <td>106895</td>\n",
              "      <td>9.25</td>\n",
              "      <td>72.536018</td>\n",
              "    </tr>\n",
              "    <tr>\n",
              "      <th>1028</th>\n",
              "      <td>33</td>\n",
              "      <td>2.0</td>\n",
              "      <td>Kimi no Na wa.</td>\n",
              "      <td>Movie</td>\n",
              "      <td>Original</td>\n",
              "      <td>471398</td>\n",
              "      <td>34912</td>\n",
              "      <td>9.19</td>\n",
              "      <td>15.124394</td>\n",
              "    </tr>\n",
              "    <tr>\n",
              "      <th>2999</th>\n",
              "      <td>8</td>\n",
              "      <td>5.0</td>\n",
              "      <td>Steins;Gate</td>\n",
              "      <td>TV</td>\n",
              "      <td>Visual novel</td>\n",
              "      <td>563857</td>\n",
              "      <td>92423</td>\n",
              "      <td>9.14</td>\n",
              "      <td>47.631607</td>\n",
              "    </tr>\n",
              "    <tr>\n",
              "      <th>418</th>\n",
              "      <td>35</td>\n",
              "      <td>8.0</td>\n",
              "      <td>Hunter x Hunter (2011)</td>\n",
              "      <td>TV</td>\n",
              "      <td>Manga</td>\n",
              "      <td>403377</td>\n",
              "      <td>64375</td>\n",
              "      <td>9.11</td>\n",
              "      <td>23.656296</td>\n",
              "    </tr>\n",
              "    <tr>\n",
              "      <th>6572</th>\n",
              "      <td>77</td>\n",
              "      <td>12.0</td>\n",
              "      <td>Koe no Katachi</td>\n",
              "      <td>Movie</td>\n",
              "      <td>Manga</td>\n",
              "      <td>296261</td>\n",
              "      <td>19815</td>\n",
              "      <td>9.04</td>\n",
              "      <td>5.306852</td>\n",
              "    </tr>\n",
              "    <tr>\n",
              "      <th>2783</th>\n",
              "      <td>55</td>\n",
              "      <td>14.0</td>\n",
              "      <td>Clannad: After Story</td>\n",
              "      <td>TV</td>\n",
              "      <td>Visual novel</td>\n",
              "      <td>363239</td>\n",
              "      <td>47380</td>\n",
              "      <td>9.01</td>\n",
              "      <td>15.506448</td>\n",
              "    </tr>\n",
              "    <tr>\n",
              "      <th>6553</th>\n",
              "      <td>95</td>\n",
              "      <td>15.0</td>\n",
              "      <td>Gintama</td>\n",
              "      <td>TV</td>\n",
              "      <td>Manga</td>\n",
              "      <td>141830</td>\n",
              "      <td>33781</td>\n",
              "      <td>9.01</td>\n",
              "      <td>4.316834</td>\n",
              "    </tr>\n",
              "    <tr>\n",
              "      <th>7403</th>\n",
              "      <td>22</td>\n",
              "      <td>18.0</td>\n",
              "      <td>Code Geass: Hangyaku no Lelouch R2</td>\n",
              "      <td>TV</td>\n",
              "      <td>Original</td>\n",
              "      <td>543904</td>\n",
              "      <td>44230</td>\n",
              "      <td>8.95</td>\n",
              "      <td>21.530902</td>\n",
              "    </tr>\n",
              "    <tr>\n",
              "      <th>7105</th>\n",
              "      <td>39</td>\n",
              "      <td>19.0</td>\n",
              "      <td>Sen to Chihiro no Kamikakushi</td>\n",
              "      <td>Movie</td>\n",
              "      <td>Original</td>\n",
              "      <td>498602</td>\n",
              "      <td>15412</td>\n",
              "      <td>8.92</td>\n",
              "      <td>6.854533</td>\n",
              "    </tr>\n",
              "    <tr>\n",
              "      <th>11640</th>\n",
              "      <td>37</td>\n",
              "      <td>21.0</td>\n",
              "      <td>Shigatsu wa Kimi no Uso</td>\n",
              "      <td>TV</td>\n",
              "      <td>Manga</td>\n",
              "      <td>413527</td>\n",
              "      <td>39664</td>\n",
              "      <td>8.88</td>\n",
              "      <td>14.565096</td>\n",
              "    </tr>\n",
              "    <tr>\n",
              "      <th>9132</th>\n",
              "      <td>38</td>\n",
              "      <td>27.0</td>\n",
              "      <td>Cowboy Bebop</td>\n",
              "      <td>TV</td>\n",
              "      <td>Original</td>\n",
              "      <td>365465</td>\n",
              "      <td>39145</td>\n",
              "      <td>8.81</td>\n",
              "      <td>12.603698</td>\n",
              "    </tr>\n",
              "    <tr>\n",
              "      <th>2068</th>\n",
              "      <td>79</td>\n",
              "      <td>29.0</td>\n",
              "      <td>Mononoke Hime</td>\n",
              "      <td>Movie</td>\n",
              "      <td>Original</td>\n",
              "      <td>333730</td>\n",
              "      <td>10689</td>\n",
              "      <td>8.80</td>\n",
              "      <td>3.139171</td>\n",
              "    </tr>\n",
              "    <tr>\n",
              "      <th>13726</th>\n",
              "      <td>9</td>\n",
              "      <td>30.0</td>\n",
              "      <td>Code Geass: Hangyaku no Lelouch</td>\n",
              "      <td>TV</td>\n",
              "      <td>Original</td>\n",
              "      <td>627740</td>\n",
              "      <td>63614</td>\n",
              "      <td>8.79</td>\n",
              "      <td>35.101153</td>\n",
              "    </tr>\n",
              "    <tr>\n",
              "      <th>4193</th>\n",
              "      <td>57</td>\n",
              "      <td>35.0</td>\n",
              "      <td>Boku no Hero Academia 2nd Season</td>\n",
              "      <td>TV</td>\n",
              "      <td>Manga</td>\n",
              "      <td>350352</td>\n",
              "      <td>11671</td>\n",
              "      <td>8.76</td>\n",
              "      <td>3.581927</td>\n",
              "    </tr>\n",
              "    <tr>\n",
              "      <th>10918</th>\n",
              "      <td>24</td>\n",
              "      <td>41.0</td>\n",
              "      <td>Tengen Toppa Gurren Lagann</td>\n",
              "      <td>TV</td>\n",
              "      <td>Original</td>\n",
              "      <td>449656</td>\n",
              "      <td>50040</td>\n",
              "      <td>8.74</td>\n",
              "      <td>19.665687</td>\n",
              "    </tr>\n",
              "    <tr>\n",
              "      <th>2258</th>\n",
              "      <td>89</td>\n",
              "      <td>43.0</td>\n",
              "      <td>Howl no Ugoku Shiro</td>\n",
              "      <td>Movie</td>\n",
              "      <td>Novel</td>\n",
              "      <td>334114</td>\n",
              "      <td>9753</td>\n",
              "      <td>8.73</td>\n",
              "      <td>2.844770</td>\n",
              "    </tr>\n",
              "    <tr>\n",
              "      <th>8863</th>\n",
              "      <td>5</td>\n",
              "      <td>44.0</td>\n",
              "      <td>One Punch Man</td>\n",
              "      <td>TV</td>\n",
              "      <td>Web manga</td>\n",
              "      <td>691845</td>\n",
              "      <td>30747</td>\n",
              "      <td>8.73</td>\n",
              "      <td>18.570594</td>\n",
              "    </tr>\n",
              "    <tr>\n",
              "      <th>7913</th>\n",
              "      <td>1</td>\n",
              "      <td>51.0</td>\n",
              "      <td>Death Note</td>\n",
              "      <td>TV</td>\n",
              "      <td>Manga</td>\n",
              "      <td>1009477</td>\n",
              "      <td>88696</td>\n",
              "      <td>8.67</td>\n",
              "      <td>77.628208</td>\n",
              "    </tr>\n",
              "    <tr>\n",
              "      <th>3706</th>\n",
              "      <td>81</td>\n",
              "      <td>54.0</td>\n",
              "      <td>Fate/Zero 2nd Season</td>\n",
              "      <td>TV</td>\n",
              "      <td>Novel</td>\n",
              "      <td>313188</td>\n",
              "      <td>10953</td>\n",
              "      <td>8.66</td>\n",
              "      <td>2.970682</td>\n",
              "    </tr>\n",
              "    <tr>\n",
              "      <th>5805</th>\n",
              "      <td>86</td>\n",
              "      <td>57.0</td>\n",
              "      <td>Haikyuu!!</td>\n",
              "      <td>TV</td>\n",
              "      <td>Manga</td>\n",
              "      <td>278372</td>\n",
              "      <td>23743</td>\n",
              "      <td>8.65</td>\n",
              "      <td>5.717119</td>\n",
              "    </tr>\n",
              "    <tr>\n",
              "      <th>9749</th>\n",
              "      <td>40</td>\n",
              "      <td>77.0</td>\n",
              "      <td>Boku dake ga Inai Machi</td>\n",
              "      <td>TV</td>\n",
              "      <td>Manga</td>\n",
              "      <td>440402</td>\n",
              "      <td>21248</td>\n",
              "      <td>8.56</td>\n",
              "      <td>8.010158</td>\n",
              "    </tr>\n",
              "    <tr>\n",
              "      <th>4862</th>\n",
              "      <td>45</td>\n",
              "      <td>81.0</td>\n",
              "      <td>Ano Hi Mita Hana no Namae wo Bokutachi wa Mada...</td>\n",
              "      <td>TV</td>\n",
              "      <td>Original</td>\n",
              "      <td>397955</td>\n",
              "      <td>21155</td>\n",
              "      <td>8.55</td>\n",
              "      <td>7.198021</td>\n",
              "    </tr>\n",
              "    <tr>\n",
              "      <th>7262</th>\n",
              "      <td>54</td>\n",
              "      <td>85.0</td>\n",
              "      <td>Shokugeki no Souma</td>\n",
              "      <td>TV</td>\n",
              "      <td>Manga</td>\n",
              "      <td>356271</td>\n",
              "      <td>15394</td>\n",
              "      <td>8.55</td>\n",
              "      <td>4.689193</td>\n",
              "    </tr>\n",
              "    <tr>\n",
              "      <th>34</th>\n",
              "      <td>35</td>\n",
              "      <td>91.0</td>\n",
              "      <td>One Piece</td>\n",
              "      <td>TV</td>\n",
              "      <td>Manga</td>\n",
              "      <td>423868</td>\n",
              "      <td>69760</td>\n",
              "      <td>8.54</td>\n",
              "      <td>25.251953</td>\n",
              "    </tr>\n",
              "    <tr>\n",
              "      <th>9232</th>\n",
              "      <td>42</td>\n",
              "      <td>94.0</td>\n",
              "      <td>Kiseijuu: Sei no Kakuritsu</td>\n",
              "      <td>TV</td>\n",
              "      <td>Manga</td>\n",
              "      <td>410107</td>\n",
              "      <td>15963</td>\n",
              "      <td>8.52</td>\n",
              "      <td>5.577650</td>\n",
              "    </tr>\n",
              "    <tr>\n",
              "      <th>5245</th>\n",
              "      <td>84</td>\n",
              "      <td>100.0</td>\n",
              "      <td>Mob Psycho 100</td>\n",
              "      <td>TV</td>\n",
              "      <td>Web manga</td>\n",
              "      <td>272959</td>\n",
              "      <td>8926</td>\n",
              "      <td>8.51</td>\n",
              "      <td>2.073404</td>\n",
              "    </tr>\n",
              "  </tbody>\n",
              "</table>\n",
              "</div>"
            ],
            "text/plain": [
              "       popularity   rank  ... score      point\n",
              "2555            4    1.0  ...  9.25  72.536018\n",
              "1028           33    2.0  ...  9.19  15.124394\n",
              "2999            8    5.0  ...  9.14  47.631607\n",
              "418            35    8.0  ...  9.11  23.656296\n",
              "6572           77   12.0  ...  9.04   5.306852\n",
              "2783           55   14.0  ...  9.01  15.506448\n",
              "6553           95   15.0  ...  9.01   4.316834\n",
              "7403           22   18.0  ...  8.95  21.530902\n",
              "7105           39   19.0  ...  8.92   6.854533\n",
              "11640          37   21.0  ...  8.88  14.565096\n",
              "9132           38   27.0  ...  8.81  12.603698\n",
              "2068           79   29.0  ...  8.80   3.139171\n",
              "13726           9   30.0  ...  8.79  35.101153\n",
              "4193           57   35.0  ...  8.76   3.581927\n",
              "10918          24   41.0  ...  8.74  19.665687\n",
              "2258           89   43.0  ...  8.73   2.844770\n",
              "8863            5   44.0  ...  8.73  18.570594\n",
              "7913            1   51.0  ...  8.67  77.628208\n",
              "3706           81   54.0  ...  8.66   2.970682\n",
              "5805           86   57.0  ...  8.65   5.717119\n",
              "9749           40   77.0  ...  8.56   8.010158\n",
              "4862           45   81.0  ...  8.55   7.198021\n",
              "7262           54   85.0  ...  8.55   4.689193\n",
              "34             35   91.0  ...  8.54  25.251953\n",
              "9232           42   94.0  ...  8.52   5.577650\n",
              "5245           84  100.0  ...  8.51   2.073404\n",
              "\n",
              "[26 rows x 9 columns]"
            ]
          },
          "metadata": {
            "tags": []
          },
          "execution_count": 11
        }
      ]
    },
    {
      "cell_type": "code",
      "metadata": {
        "id": "chmudOZjrnxy",
        "colab_type": "code",
        "colab": {
          "base_uri": "https://localhost:8080/",
          "height": 197
        },
        "outputId": "45114866-84fe-4044-f41f-00fef29419a8"
      },
      "source": [
        "anime_sorted_by_pop = df_anime[df_anime.popularity!=0].sort_values(by='popularity').head(100).loc[:,['title','popularity','rank']]\n",
        "anime_sorted_by_pop.head()\n"
      ],
      "execution_count": 14,
      "outputs": [
        {
          "output_type": "execute_result",
          "data": {
            "text/html": [
              "<div>\n",
              "<style scoped>\n",
              "    .dataframe tbody tr th:only-of-type {\n",
              "        vertical-align: middle;\n",
              "    }\n",
              "\n",
              "    .dataframe tbody tr th {\n",
              "        vertical-align: top;\n",
              "    }\n",
              "\n",
              "    .dataframe thead th {\n",
              "        text-align: right;\n",
              "    }\n",
              "</style>\n",
              "<table border=\"1\" class=\"dataframe\">\n",
              "  <thead>\n",
              "    <tr style=\"text-align: right;\">\n",
              "      <th></th>\n",
              "      <th>title</th>\n",
              "      <th>popularity</th>\n",
              "      <th>rank</th>\n",
              "    </tr>\n",
              "  </thead>\n",
              "  <tbody>\n",
              "    <tr>\n",
              "      <th>7913</th>\n",
              "      <td>Death Note</td>\n",
              "      <td>1</td>\n",
              "      <td>51.0</td>\n",
              "    </tr>\n",
              "    <tr>\n",
              "      <th>8123</th>\n",
              "      <td>Shingeki no Kyojin</td>\n",
              "      <td>2</td>\n",
              "      <td>110.0</td>\n",
              "    </tr>\n",
              "    <tr>\n",
              "      <th>6296</th>\n",
              "      <td>Sword Art Online</td>\n",
              "      <td>3</td>\n",
              "      <td>1259.0</td>\n",
              "    </tr>\n",
              "    <tr>\n",
              "      <th>2555</th>\n",
              "      <td>Fullmetal Alchemist: Brotherhood</td>\n",
              "      <td>4</td>\n",
              "      <td>1.0</td>\n",
              "    </tr>\n",
              "    <tr>\n",
              "      <th>8863</th>\n",
              "      <td>One Punch Man</td>\n",
              "      <td>5</td>\n",
              "      <td>44.0</td>\n",
              "    </tr>\n",
              "  </tbody>\n",
              "</table>\n",
              "</div>"
            ],
            "text/plain": [
              "                                 title  popularity    rank\n",
              "7913                        Death Note           1    51.0\n",
              "8123                Shingeki no Kyojin           2   110.0\n",
              "6296                  Sword Art Online           3  1259.0\n",
              "2555  Fullmetal Alchemist: Brotherhood           4     1.0\n",
              "8863                     One Punch Man           5    44.0"
            ]
          },
          "metadata": {
            "tags": []
          },
          "execution_count": 14
        }
      ]
    },
    {
      "cell_type": "code",
      "metadata": {
        "id": "69uEDfU6sCRq",
        "colab_type": "code",
        "colab": {
          "base_uri": "https://localhost:8080/",
          "height": 336
        },
        "outputId": "5a7474f2-0b8b-45ba-fefe-8fb5a0021d59"
      },
      "source": [
        "f,ax1 = plt.subplots(figsize =(25,5))\n",
        "sns.pointplot(x='popularity',y='rank',data=anime_sorted_by_pop,color='red')\n",
        "plt.grid()"
      ],
      "execution_count": 15,
      "outputs": [
        {
          "output_type": "display_data",
          "data": {
            "image/png": "[encoded data removed]",
            "text/plain": [
              "<Figure size 1800x360 with 1 Axes>"
            ]
          },
          "metadata": {
            "tags": []
          }
        }
      ]
    },
    {
      "cell_type": "code",
      "metadata": {
        "id": "G5hB-m0dsGoK",
        "colab_type": "code",
        "colab": {
          "base_uri": "https://localhost:8080/",
          "height": 77
        },
        "outputId": "e3b90147-61cb-41c7-b4fa-9735086c898c"
      },
      "source": [
        "anime_sorted_by_pop[anime_sorted_by_pop[\"popularity\"]==32]"
      ],
      "execution_count": 17,
      "outputs": [
        {
          "output_type": "execute_result",
          "data": {
            "text/html": [
              "<div>\n",
              "<style scoped>\n",
              "    .dataframe tbody tr th:only-of-type {\n",
              "        vertical-align: middle;\n",
              "    }\n",
              "\n",
              "    .dataframe tbody tr th {\n",
              "        vertical-align: top;\n",
              "    }\n",
              "\n",
              "    .dataframe thead th {\n",
              "        text-align: right;\n",
              "    }\n",
              "</style>\n",
              "<table border=\"1\" class=\"dataframe\">\n",
              "  <thead>\n",
              "    <tr style=\"text-align: right;\">\n",
              "      <th></th>\n",
              "      <th>title</th>\n",
              "      <th>popularity</th>\n",
              "      <th>rank</th>\n",
              "    </tr>\n",
              "  </thead>\n",
              "  <tbody>\n",
              "    <tr>\n",
              "      <th>4825</th>\n",
              "      <td>Highschool of the Dead</td>\n",
              "      <td>32</td>\n",
              "      <td>2184.0</td>\n",
              "    </tr>\n",
              "  </tbody>\n",
              "</table>\n",
              "</div>"
            ],
            "text/plain": [
              "                       title  popularity    rank\n",
              "4825  Highschool of the Dead          32  2184.0"
            ]
          },
          "metadata": {
            "tags": []
          },
          "execution_count": 17
        }
      ]
    },
    {
      "cell_type": "markdown",
      "metadata": {
        "id": "1BwweM-t9BFw",
        "colab_type": "text"
      },
      "source": [
        "This anime is popular but not well recieved by the users. "
      ]
    },
    {
      "cell_type": "markdown",
      "metadata": {
        "id": "9kiStJFQ90JG",
        "colab_type": "text"
      },
      "source": [
        "#Genre"
      ]
    },
    {
      "cell_type": "code",
      "metadata": {
        "id": "s4wkLLENsXJl",
        "colab_type": "code",
        "colab": {
          "base_uri": "https://localhost:8080/",
          "height": 123
        },
        "outputId": "a9818b61-60fc-4b13-98c3-f70b9337f43d"
      },
      "source": [
        "anime_genre = anime.genre\n",
        "anime_genre.head()"
      ],
      "execution_count": 18,
      "outputs": [
        {
          "output_type": "execute_result",
          "data": {
            "text/plain": [
              "0      Comedy, Supernatural, Romance, Shounen\n",
              "1    Comedy, Parody, Romance, School, Shounen\n",
              "2               Comedy, Magic, School, Shoujo\n",
              "3      Comedy, Drama, Magic, Romance, Fantasy\n",
              "4             Comedy, Drama, Romance, Shounen\n",
              "Name: genre, dtype: object"
            ]
          },
          "metadata": {
            "tags": []
          },
          "execution_count": 18
        }
      ]
    },
    {
      "cell_type": "code",
      "metadata": {
        "id": "JPnxdaXjsXpy",
        "colab_type": "code",
        "colab": {}
      },
      "source": [
        "genre_list = []\n",
        "\n",
        "genre_splited = []\n",
        "\n",
        "for i in anime_genre.index:\n",
        "    for j in anime_genre[i].split(\", \"):\n",
        "        genre_splited.append(j)\n",
        "        if j not in genre_list:\n",
        "            genre_list.append(j)        "
      ],
      "execution_count": 0,
      "outputs": []
    },
    {
      "cell_type": "code",
      "metadata": {
        "id": "iy-zEVy6sZey",
        "colab_type": "code",
        "colab": {
          "base_uri": "https://localhost:8080/",
          "height": 34
        },
        "outputId": "2b5f03e6-943f-4838-925c-d7e9a3e8ea58"
      },
      "source": [
        "genre_splited[0:6]"
      ],
      "execution_count": 20,
      "outputs": [
        {
          "output_type": "execute_result",
          "data": {
            "text/plain": [
              "['Comedy', 'Supernatural', 'Romance', 'Shounen', 'Comedy', 'Parody']"
            ]
          },
          "metadata": {
            "tags": []
          },
          "execution_count": 20
        }
      ]
    },
    {
      "cell_type": "code",
      "metadata": {
        "id": "YQ3HunQUsa96",
        "colab_type": "code",
        "colab": {
          "base_uri": "https://localhost:8080/",
          "height": 678
        },
        "outputId": "5705a4c1-41c0-4409-abdf-57f5a92ccda8"
      },
      "source": [
        "anime_genres_count = pd.Series(genre_splited).value_counts() \n",
        "\n",
        "plt.figure(figsize=(15,10))\n",
        "sns.barplot(x=anime_genres_count.index.tolist(), y=anime_genres_count.tolist())\n",
        "plt.xlabel('Genres')\n",
        "plt.ylabel('Anime Count')\n",
        "plt.title('The Most Popular Genres In The Anime Industry (Regarded all Multi-label Genre Tags)') \n",
        "plt.xticks(rotation= 75) \n",
        "plt.show()"
      ],
      "execution_count": 25,
      "outputs": [
        {
          "output_type": "display_data",
          "data": {
            "image/png": "[encoded data removed]",
            "text/plain": [
              "<Figure size 1080x720 with 1 Axes>"
            ]
          },
          "metadata": {
            "tags": []
          }
        }
      ]
    },
    {
      "cell_type": "markdown",
      "metadata": {
        "id": "YL4twGF595wS",
        "colab_type": "text"
      },
      "source": [
        "Most popular genre is comedy. Most anime has multi-genres."
      ]
    },
    {
      "cell_type": "code",
      "metadata": {
        "id": "iCktfXSytsF0",
        "colab_type": "code",
        "colab": {}
      },
      "source": [
        "genre_firsts = []\n",
        "\n",
        "for i in anime_genre.index:\n",
        "    genre_firsts.append(anime_genre[i].split(\", \")[0])"
      ],
      "execution_count": 0,
      "outputs": []
    },
    {
      "cell_type": "code",
      "metadata": {
        "id": "bp9geSwjt54S",
        "colab_type": "code",
        "colab": {
          "base_uri": "https://localhost:8080/",
          "height": 730
        },
        "outputId": "e6daf479-acda-4cce-e835-e7c3214d239f"
      },
      "source": [
        "anime_genres_firsts = pd.Series(genre_firsts).value_counts()   \n",
        "\n",
        "plt.figure(figsize=(10,12))\n",
        "sns.barplot(x=anime_genres_firsts[0:25].tolist(), y=anime_genres_firsts[0:25].index.tolist())\n",
        "plt.xlabel('Genres')\n",
        "plt.ylabel('Anime Count')\n",
        "plt.title('25 Of The Most Popular Genres In The Anime Industry (Considered First Genre Tag)') \n",
        "plt.show()"
      ],
      "execution_count": 27,
      "outputs": [
        {
          "output_type": "display_data",
          "data": {
            "image/png": "[encoded data removed]",
            "text/plain": [
              "<Figure size 720x864 with 1 Axes>"
            ]
          },
          "metadata": {
            "tags": []
          }
        }
      ]
    },
    {
      "cell_type": "markdown",
      "metadata": {
        "id": "GZE--Thb-GPw",
        "colab_type": "text"
      },
      "source": [
        "Action is the genre that is popular with the first genre tag. Most of the time, the genre appear first on the anime is the main focus of the show. "
      ]
    },
    {
      "cell_type": "code",
      "metadata": {
        "id": "jGydt6jat8Pr",
        "colab_type": "code",
        "colab": {}
      },
      "source": [
        " # Only 100 k rows are accounted because the system would crash if we did all the rows. \n",
        " # for 43 genre\n",
        "F = [0]*43\n",
        "M =   [0]*43\n",
        "\n",
        "genre_df = pd.DataFrame({'genre': genre_list, 'Female': F, 'Male': M})\n",
        "genre_df.set_index('genre', inplace=True)\n",
        "\n",
        "for i in userlists_sub.index:\n",
        "    for j in userlists_sub.genre[i].split(\", \"):\n",
        "        genre_df[userlists_sub.gender[i]][j] +=1 "
      ],
      "execution_count": 0,
      "outputs": []
    },
    {
      "cell_type": "code",
      "metadata": {
        "id": "HZhmfEjAt-Y7",
        "colab_type": "code",
        "colab": {
          "base_uri": "https://localhost:8080/",
          "height": 227
        },
        "outputId": "adaa2239-0d27-48a5-8d22-e39c9245af64"
      },
      "source": [
        "genre_df.head()"
      ],
      "execution_count": 30,
      "outputs": [
        {
          "output_type": "execute_result",
          "data": {
            "text/html": [
              "<div>\n",
              "<style scoped>\n",
              "    .dataframe tbody tr th:only-of-type {\n",
              "        vertical-align: middle;\n",
              "    }\n",
              "\n",
              "    .dataframe tbody tr th {\n",
              "        vertical-align: top;\n",
              "    }\n",
              "\n",
              "    .dataframe thead th {\n",
              "        text-align: right;\n",
              "    }\n",
              "</style>\n",
              "<table border=\"1\" class=\"dataframe\">\n",
              "  <thead>\n",
              "    <tr style=\"text-align: right;\">\n",
              "      <th></th>\n",
              "      <th>Female</th>\n",
              "      <th>Male</th>\n",
              "    </tr>\n",
              "    <tr>\n",
              "      <th>genre</th>\n",
              "      <th></th>\n",
              "      <th></th>\n",
              "    </tr>\n",
              "  </thead>\n",
              "  <tbody>\n",
              "    <tr>\n",
              "      <th>Comedy</th>\n",
              "      <td>11204</td>\n",
              "      <td>38868</td>\n",
              "    </tr>\n",
              "    <tr>\n",
              "      <th>Supernatural</th>\n",
              "      <td>5183</td>\n",
              "      <td>16980</td>\n",
              "    </tr>\n",
              "    <tr>\n",
              "      <th>Romance</th>\n",
              "      <td>6659</td>\n",
              "      <td>20983</td>\n",
              "    </tr>\n",
              "    <tr>\n",
              "      <th>Shounen</th>\n",
              "      <td>5737</td>\n",
              "      <td>20616</td>\n",
              "    </tr>\n",
              "    <tr>\n",
              "      <th>Parody</th>\n",
              "      <td>833</td>\n",
              "      <td>3110</td>\n",
              "    </tr>\n",
              "  </tbody>\n",
              "</table>\n",
              "</div>"
            ],
            "text/plain": [
              "              Female   Male\n",
              "genre                      \n",
              "Comedy         11204  38868\n",
              "Supernatural    5183  16980\n",
              "Romance         6659  20983\n",
              "Shounen         5737  20616\n",
              "Parody           833   3110"
            ]
          },
          "metadata": {
            "tags": []
          },
          "execution_count": 30
        }
      ]
    },
    {
      "cell_type": "code",
      "metadata": {
        "id": "H8QtxMljucYz",
        "colab_type": "code",
        "colab": {
          "base_uri": "https://localhost:8080/",
          "height": 947
        },
        "outputId": "e6368bab-7ac3-459a-971e-c16c75861f60"
      },
      "source": [
        "#genre\n",
        "Female = []\n",
        "Male = []\n",
        "\n",
        "for i in genre_list:\n",
        "    Female.append(genre_df.loc[i,'Female']/sum(genre_df.loc[i,:]))\n",
        "    Male.append(genre_df.loc[i,'Male']/sum(genre_df.loc[i,:]))  \n",
        "\n",
        "f,ax = plt.subplots(figsize=(8,16))\n",
        "sns.barplot(x=Female, y=genre_list, label='Female', color='r', alpha = 0.7)\n",
        "sns.barplot(x=Male, y=genre_list, label='Male', color='b', alpha = 0.4)\n",
        "\n",
        "ax.set(xlabel='Percentage of Genders', ylabel='Genres', title='Percentage of Anime Genres According to Gender')\n",
        "ax.legend(loc='lower right',frameon= True)\n",
        "plt.show()"
      ],
      "execution_count": 31,
      "outputs": [
        {
          "output_type": "display_data",
          "data": {
            "image/png": "[encoded data removed]",
            "text/plain": [
              "<Figure size 576x1152 with 1 Axes>"
            ]
          },
          "metadata": {
            "tags": []
          }
        }
      ]
    },
    {
      "cell_type": "markdown",
      "metadata": {
        "id": "bnPB8Aop_IVx",
        "colab_type": "text"
      },
      "source": [
        "You can see there are more male users than female users. Male dominated most of the genre but female dominate some of them."
      ]
    },
    {
      "cell_type": "code",
      "metadata": {
        "id": "LzTytYzDueQj",
        "colab_type": "code",
        "colab": {}
      },
      "source": [
        "users['birth_date'] = pd.to_datetime(users['birth_date'], errors = 'coerce')\n",
        "users=users[users.birth_date.notnull()]\n",
        "\n",
        "birth_date = users.birth_date\n",
        "gender = users.gender\n",
        "spent = users.user_days_spent_watching\n",
        " \n",
        "age = []\n",
        "for each in birth_date:\n",
        "    age.append(round((datetime.datetime.now()-each).days/365.25,1))"
      ],
      "execution_count": 0,
      "outputs": []
    },
    {
      "cell_type": "code",
      "metadata": {
        "id": "IcTS8IwXujtT",
        "colab_type": "code",
        "colab": {
          "base_uri": "https://localhost:8080/",
          "height": 392
        },
        "outputId": "09f839ea-225c-4fe3-f22f-6e666e363557"
      },
      "source": [
        "age_dict = {'gender':gender,'age':age,'spent':spent}\n",
        "users_age_spent = pd.DataFrame(age_dict,columns=['gender','age','spent'])\n",
        "\n",
        "fig, ax = plt.subplots(nrows=1, ncols=1,figsize=(5, 6))\n",
        "sns.boxplot(x=\"gender\", y=\"age\", data=users_age_spent, palette=\"Set1\", ax=ax)\n",
        "ax.set_ylim([0, 60])\n",
        "plt.show()"
      ],
      "execution_count": 33,
      "outputs": [
        {
          "output_type": "display_data",
          "data": {
            "image/png": "[encoded data removed]",
            "text/plain": [
              "<Figure size 360x432 with 1 Axes>"
            ]
          },
          "metadata": {
            "tags": []
          }
        }
      ]
    },
    {
      "cell_type": "markdown",
      "metadata": {
        "id": "cTHN8XSR_kjE",
        "colab_type": "text"
      },
      "source": [
        "Average users seem to be in their 20's-30's"
      ]
    },
    {
      "cell_type": "code",
      "metadata": {
        "id": "7r9_h4ELul9S",
        "colab_type": "code",
        "colab": {}
      },
      "source": [
        "age.sort()\n",
        "age[0:5]\n",
        "\n",
        "#in the first step i dropped obvious outliers\n",
        "\n",
        "users_age_spent.drop(users_age_spent[users_age_spent.spent>1000].index, inplace=True)\n",
        "users_age_spent.drop(users_age_spent[users_age_spent.age>80].index, inplace=True)"
      ],
      "execution_count": 0,
      "outputs": []
    },
    {
      "cell_type": "markdown",
      "metadata": {
        "id": "pBRHYdD9ACmg",
        "colab_type": "text"
      },
      "source": [
        "I drop some users that spend over 1000 days watching anime and users who are over 80. It's not best parameter because it's online. So alot of users could fake their information. "
      ]
    },
    {
      "cell_type": "code",
      "metadata": {
        "id": "QrUECNbbu1Fz",
        "colab_type": "code",
        "colab": {
          "base_uri": "https://localhost:8080/",
          "height": 197
        },
        "outputId": "d8836126-01a1-4ba5-d86c-c595553f3b6b"
      },
      "source": [
        "users_age_spent.head()"
      ],
      "execution_count": 35,
      "outputs": [
        {
          "output_type": "execute_result",
          "data": {
            "text/html": [
              "<div>\n",
              "<style scoped>\n",
              "    .dataframe tbody tr th:only-of-type {\n",
              "        vertical-align: middle;\n",
              "    }\n",
              "\n",
              "    .dataframe tbody tr th {\n",
              "        vertical-align: top;\n",
              "    }\n",
              "\n",
              "    .dataframe thead th {\n",
              "        text-align: right;\n",
              "    }\n",
              "</style>\n",
              "<table border=\"1\" class=\"dataframe\">\n",
              "  <thead>\n",
              "    <tr style=\"text-align: right;\">\n",
              "      <th></th>\n",
              "      <th>gender</th>\n",
              "      <th>age</th>\n",
              "      <th>spent</th>\n",
              "    </tr>\n",
              "  </thead>\n",
              "  <tbody>\n",
              "    <tr>\n",
              "      <th>0</th>\n",
              "      <td>Female</td>\n",
              "      <td>29.9</td>\n",
              "      <td>55.31</td>\n",
              "    </tr>\n",
              "    <tr>\n",
              "      <th>1</th>\n",
              "      <td>Female</td>\n",
              "      <td>25.2</td>\n",
              "      <td>118.07</td>\n",
              "    </tr>\n",
              "    <tr>\n",
              "      <th>2</th>\n",
              "      <td>Male</td>\n",
              "      <td>28.6</td>\n",
              "      <td>83.70</td>\n",
              "    </tr>\n",
              "    <tr>\n",
              "      <th>3</th>\n",
              "      <td>Male</td>\n",
              "      <td>29.2</td>\n",
              "      <td>167.16</td>\n",
              "    </tr>\n",
              "    <tr>\n",
              "      <th>4</th>\n",
              "      <td>Female</td>\n",
              "      <td>21.5</td>\n",
              "      <td>15.20</td>\n",
              "    </tr>\n",
              "  </tbody>\n",
              "</table>\n",
              "</div>"
            ],
            "text/plain": [
              "   gender   age   spent\n",
              "0  Female  29.9   55.31\n",
              "1  Female  25.2  118.07\n",
              "2    Male  28.6   83.70\n",
              "3    Male  29.2  167.16\n",
              "4  Female  21.5   15.20"
            ]
          },
          "metadata": {
            "tags": []
          },
          "execution_count": 35
        }
      ]
    },
    {
      "cell_type": "code",
      "metadata": {
        "id": "c1sbJEGyu32L",
        "colab_type": "code",
        "colab": {
          "base_uri": "https://localhost:8080/",
          "height": 392
        },
        "outputId": "320ba0e0-57ee-4564-e2dd-5b4710d9e1bc"
      },
      "source": [
        "fig, ax = plt.subplots(nrows=1, ncols=1,figsize=(5, 6))\n",
        "sns.boxplot(x=\"gender\", y=\"spent\", data=users_age_spent, palette=\"Set1\", ax=ax)\n",
        "ax.set_ylim([0, 300])\n",
        "plt.show()"
      ],
      "execution_count": 36,
      "outputs": [
        {
          "output_type": "display_data",
          "data": {
            "image/png": "[encoded data removed]",
            "text/plain": [
              "<Figure size 360x432 with 1 Axes>"
            ]
          },
          "metadata": {
            "tags": []
          }
        }
      ]
    },
    {
      "cell_type": "markdown",
      "metadata": {
        "id": "TNT--JklAYZf",
        "colab_type": "text"
      },
      "source": [
        "Male users tend to watch more anime on average compare to female. "
      ]
    },
    {
      "cell_type": "code",
      "metadata": {
        "id": "-ImUxS9Nu817",
        "colab_type": "code",
        "colab": {
          "base_uri": "https://localhost:8080/",
          "height": 551
        },
        "outputId": "9ef7d26b-3662-4bea-af60-96f3ff856a9b"
      },
      "source": [
        "users_age_spent.plot(kind='scatter', x='age', y='spent', alpha=0.5, figsize = (15,9),\n",
        "                     color=[\"r\" if each ==\"Female\" else \"b\" for each in users_age_spent.gender])\n",
        "plt.show()"
      ],
      "execution_count": 37,
      "outputs": [
        {
          "output_type": "display_data",
          "data": {
            "image/png": "[encoded data removed]",
            "text/plain": [
              "<Figure size 1080x648 with 1 Axes>"
            ]
          },
          "metadata": {
            "tags": []
          }
        }
      ]
    },
    {
      "cell_type": "code",
      "metadata": {
        "id": "P8P1xUu7vCiz",
        "colab_type": "code",
        "colab": {
          "base_uri": "https://localhost:8080/",
          "height": 416
        },
        "outputId": "dad322ba-1c37-4b5b-e2a3-f753e1483b15"
      },
      "source": [
        "F_stats = df_users[(df_users[\"gender\"]=='Female') & (df_users[\"stats_episodes\"]>=0)].loc[:,[\"stats_rewatched\",\"stats_mean_score\"]]     \n",
        "M_stats = df_users[(df_users[\"gender\"]=='Male') & (df_users[\"stats_episodes\"]>=0)].loc[:,[\"stats_rewatched\",\"stats_mean_score\"]]    \n",
        "\n",
        "f,ax=plt.subplots(1,2,figsize=(14,6))\n",
        "F_stats.stats_mean_score.plot.hist(ax=ax[0],bins=10,edgecolor='black',color='mediumvioletred')\n",
        "ax[0].set_title('Female Mean Score')\n",
        "x1=list(range(0,11,1))\n",
        "ax[0].set_xticks(x1)\n",
        "M_stats.stats_mean_score.plot.hist(ax=ax[1],bins=10,edgecolor='black',color='slateblue')\n",
        "ax[1].set_title('Male Mean Score')\n",
        "x2=list(range(0,11,1))\n",
        "ax[1].set_xticks(x2)\n",
        "plt.suptitle('Anime Rating by Gender')\n",
        "plt.show()"
      ],
      "execution_count": 38,
      "outputs": [
        {
          "output_type": "display_data",
          "data": {
            "image/png": "[encoded data removed]",
            "text/plain": [
              "<Figure size 1008x432 with 2 Axes>"
            ]
          },
          "metadata": {
            "tags": []
          }
        }
      ]
    },
    {
      "cell_type": "markdown",
      "metadata": {
        "id": "cgjIhEPRAo4X",
        "colab_type": "text"
      },
      "source": [
        "Look like female users tend to score higher than male users but both look like the distribution is about the same with normalization."
      ]
    },
    {
      "cell_type": "markdown",
      "metadata": {
        "id": "QrCWaQXHA8O5",
        "colab_type": "text"
      },
      "source": [
        "# Season"
      ]
    },
    {
      "cell_type": "code",
      "metadata": {
        "id": "fkcbAg4OvMnL",
        "colab_type": "code",
        "colab": {}
      },
      "source": [
        "anime_premiered = df_anime[df_anime.premiered.notnull()].premiered\n",
        "release_seasons = []\n",
        "\n",
        "for i in anime_premiered.index:\n",
        "    release_seasons.append(anime_premiered[i].split(\" \")[0])\n",
        "\n",
        "apc = pd.Series(release_seasons).value_counts()   \n",
        "anime_premiered_count = pd.DataFrame({'season':apc.index, 'premier':apc.values, 'order':[1,3,4,2]})\n",
        "anime_premiered_count.set_index('order', inplace=True)\n",
        "anime_premiered_count.sort_index(inplace=True)"
      ],
      "execution_count": 0,
      "outputs": []
    },
    {
      "cell_type": "code",
      "metadata": {
        "id": "cEcXS9i0vTfj",
        "colab_type": "code",
        "colab": {
          "base_uri": "https://localhost:8080/",
          "height": 197
        },
        "outputId": "f3cc1b22-751a-495f-dcef-138777e7ec2f"
      },
      "source": [
        "anime_premiered_count"
      ],
      "execution_count": 40,
      "outputs": [
        {
          "output_type": "execute_result",
          "data": {
            "text/html": [
              "<div>\n",
              "<style scoped>\n",
              "    .dataframe tbody tr th:only-of-type {\n",
              "        vertical-align: middle;\n",
              "    }\n",
              "\n",
              "    .dataframe tbody tr th {\n",
              "        vertical-align: top;\n",
              "    }\n",
              "\n",
              "    .dataframe thead th {\n",
              "        text-align: right;\n",
              "    }\n",
              "</style>\n",
              "<table border=\"1\" class=\"dataframe\">\n",
              "  <thead>\n",
              "    <tr style=\"text-align: right;\">\n",
              "      <th></th>\n",
              "      <th>season</th>\n",
              "      <th>premier</th>\n",
              "    </tr>\n",
              "    <tr>\n",
              "      <th>order</th>\n",
              "      <th></th>\n",
              "      <th></th>\n",
              "    </tr>\n",
              "  </thead>\n",
              "  <tbody>\n",
              "    <tr>\n",
              "      <th>1</th>\n",
              "      <td>Spring</td>\n",
              "      <td>1420</td>\n",
              "    </tr>\n",
              "    <tr>\n",
              "      <th>2</th>\n",
              "      <td>Summer</td>\n",
              "      <td>683</td>\n",
              "    </tr>\n",
              "    <tr>\n",
              "      <th>3</th>\n",
              "      <td>Fall</td>\n",
              "      <td>1211</td>\n",
              "    </tr>\n",
              "    <tr>\n",
              "      <th>4</th>\n",
              "      <td>Winter</td>\n",
              "      <td>782</td>\n",
              "    </tr>\n",
              "  </tbody>\n",
              "</table>\n",
              "</div>"
            ],
            "text/plain": [
              "       season  premier\n",
              "order                 \n",
              "1      Spring     1420\n",
              "2      Summer      683\n",
              "3        Fall     1211\n",
              "4      Winter      782"
            ]
          },
          "metadata": {
            "tags": []
          },
          "execution_count": 40
        }
      ]
    },
    {
      "cell_type": "code",
      "metadata": {
        "id": "aFSuGAe1vVXT",
        "colab_type": "code",
        "colab": {
          "base_uri": "https://localhost:8080/",
          "height": 326
        },
        "outputId": "554c8bdd-34d9-4440-875f-8767f8fc50a1"
      },
      "source": [
        "plt.figure(figsize=(5,4))\n",
        "sns.barplot(x='season',y='premier', data=anime_premiered_count, palette=\"muted\")\n",
        "plt.xticks(rotation=60)\n",
        "plt.title('Animes Released on the Premiere Seasons',color = 'darkred',fontsize=12)\n",
        "plt.show()"
      ],
      "execution_count": 41,
      "outputs": [
        {
          "output_type": "display_data",
          "data": {
            "image/png": "[encoded data removed]",
            "text/plain": [
              "<Figure size 360x288 with 1 Axes>"
            ]
          },
          "metadata": {
            "tags": []
          }
        }
      ]
    },
    {
      "cell_type": "markdown",
      "metadata": {
        "id": "QCUyC5r_BHaH",
        "colab_type": "text"
      },
      "source": [
        "Anime releasing in Spring time is the most frequent while Summer is the lowest."
      ]
    },
    {
      "cell_type": "code",
      "metadata": {
        "id": "gSn7jcS1vXfT",
        "colab_type": "code",
        "colab": {}
      },
      "source": [
        "anime_premiered = df_anime[df_anime.premiered.notnull()].premiered\n",
        "premier_seasons = []\n",
        "premier_years = []\n",
        "\n",
        "\n",
        "for i in anime_premiered.index:\n",
        "    if(2009 <= int(anime_premiered[i].split(\" \")[1]) <= 2018):\n",
        "        premier_seasons.append(anime_premiered[i].split(\" \")[0])\n",
        "        premier_years.append(anime_premiered[i].split(\" \")[1])\n",
        "        \n",
        "premier_df = pd.DataFrame({\n",
        "                            'Year':premier_years,\n",
        "                            'Spring': [1 if each == 'Spring' else 0 for each in premier_seasons],\n",
        "                            'Summer': [1 if each == 'Summer' else 0 for each in premier_seasons],\n",
        "                            'Fall':   [1 if each == 'Fall'   else 0 for each in premier_seasons],\n",
        "                            'Winter': [1 if each == 'Winter' else 0 for each in premier_seasons],\n",
        "                            })\n",
        "\n",
        "premier_years_seasons = premier_df.groupby(['Year'])['Spring','Summer','Fall','Winter'].agg('sum')"
      ],
      "execution_count": 0,
      "outputs": []
    },
    {
      "cell_type": "code",
      "metadata": {
        "id": "xw45LExAvZkz",
        "colab_type": "code",
        "colab": {
          "base_uri": "https://localhost:8080/",
          "height": 364
        },
        "outputId": "5894f4e5-df41-4fda-c504-85d4364b4c76"
      },
      "source": [
        "premier_years_seasons.plot(kind='bar',stacked=True, figsize=(10,5), title='Animes Released on the Premiere Seasons by Years (Last 10 year)')\n",
        "plt.show()"
      ],
      "execution_count": 44,
      "outputs": [
        {
          "output_type": "display_data",
          "data": {
            "image/png": "[encoded data removed]",
            "text/plain": [
              "<Figure size 720x360 with 1 Axes>"
            ]
          },
          "metadata": {
            "tags": []
          }
        }
      ]
    },
    {
      "cell_type": "code",
      "metadata": {
        "id": "zFpEIJ-hvlQb",
        "colab_type": "code",
        "colab": {}
      },
      "source": [
        "animesources= df_anime['source'].value_counts(dropna=False)\n",
        "animesources = animesources[animesources.index != 'Unknown']"
      ],
      "execution_count": 0,
      "outputs": []
    },
    {
      "cell_type": "code",
      "metadata": {
        "id": "szy-058ovvhz",
        "colab_type": "code",
        "colab": {
          "base_uri": "https://localhost:8080/",
          "height": 123
        },
        "outputId": "711dd25c-3113-45f0-ab83-f16e036bf711"
      },
      "source": [
        "animesources.head(5)"
      ],
      "execution_count": 46,
      "outputs": [
        {
          "output_type": "execute_result",
          "data": {
            "text/plain": [
              "Original        3367\n",
              "Manga           3119\n",
              "Visual novel     887\n",
              "Game             607\n",
              "Light novel      563\n",
              "Name: source, dtype: int64"
            ]
          },
          "metadata": {
            "tags": []
          },
          "execution_count": 46
        }
      ]
    },
    {
      "cell_type": "code",
      "metadata": {
        "id": "Y67mvrJkvw1r",
        "colab_type": "code",
        "colab": {
          "base_uri": "https://localhost:8080/",
          "height": 452
        },
        "outputId": "cef2b8bd-ba08-47e5-efb6-36f8e39697c6"
      },
      "source": [
        "plt.figure(figsize=(10,6))\n",
        "sns.barplot(x=animesources.index,y=animesources.values, palette=\"Blues_d\")\n",
        "plt.xticks(rotation=60)\n",
        "plt.title('Sources of Animes',color = 'darkblue',fontsize=15)\n",
        "plt.show()"
      ],
      "execution_count": 47,
      "outputs": [
        {
          "output_type": "display_data",
          "data": {
            "image/png": "[encoded data removed]",
            "text/plain": [
              "<Figure size 720x432 with 1 Axes>"
            ]
          },
          "metadata": {
            "tags": []
          }
        }
      ]
    },
    {
      "cell_type": "markdown",
      "metadata": {
        "id": "I7Q8CoWFBUcV",
        "colab_type": "text"
      },
      "source": [
        "Anime that is original is the highest. Second is manga. Manga is like Japanese comics."
      ]
    },
    {
      "cell_type": "code",
      "metadata": {
        "id": "kv9VDlX3vyjj",
        "colab_type": "code",
        "colab": {}
      },
      "source": [
        "location = [x.split(\",\")[1].strip() if len(x.split(\",\")) > 1 else x.split(\",\")[0].strip() for x in df_users[\"location\"].astype(\"str\")]"
      ],
      "execution_count": 0,
      "outputs": []
    },
    {
      "cell_type": "code",
      "metadata": {
        "id": "KvOjaKLJv757",
        "colab_type": "code",
        "colab": {
          "base_uri": "https://localhost:8080/",
          "height": 123
        },
        "outputId": "7874e118-6ec4-4b85-9fba-0101788e8a31"
      },
      "source": [
        "pd.Series(location).value_counts()[:5] "
      ],
      "execution_count": 49,
      "outputs": [
        {
          "output_type": "execute_result",
          "data": {
            "text/plain": [
              "Poland        3755\n",
              "California    2947\n",
              "Germany       2250\n",
              "Canada        2223\n",
              "Brazil        2071\n",
              "dtype: int64"
            ]
          },
          "metadata": {
            "tags": []
          },
          "execution_count": 49
        }
      ]
    },
    {
      "cell_type": "code",
      "metadata": {
        "id": "LT0vCj_Gv9zj",
        "colab_type": "code",
        "colab": {}
      },
      "source": [
        "location = [\"USA\" if x in (\"USA\", \"United States of America\", \"U.S.A.\", \"US\", \"U.S.\", \"U.S.A\", \n",
        "                           \"usa\", \"United States\", \"California\", \"Texas\", \"New York\", \"Florida\", \n",
        "                           \"Ohio\", \"Michigan\", \"Illinois\", \"Washington\", \"Pennsylvania\", \"Virginia\", \n",
        "                           \"Arizona\", \"Maryland\", \"Tennessee\",  \"New Jersey\", \"North Carolina\", \n",
        "                           \"Colorado\", \"Oregon\", \"Indiana\", \"Massachusetts\", \"Minnesota\", \"NY\", \"CA\", \n",
        "                           \"TX\", \"FL\", \"PA\", \"IL\", \"MA\", \"NC\", \"NJ\", \"AZ\", \"GA\", \"VA\", \"IN\",\"TN\", \n",
        "                           \"MI\", \"SC\", \"MN\", \"NYC\", \"MD\", \"MO\", \"WI\", \"Tx\", \"CT\", \"NV\", \"OR\", \"KY\", \n",
        "                           \"OH\", \"Ca\", \"CO\", \"LA\", \"DC\", \"AL\", \"ny\", \"NH\", \"Philadelphia\", \"north carolina\", \n",
        "                           \"Missouri\", \"Nevada\", \"Kentucky\", \"Louisiana\", \"Connecticut\", \"california\", \n",
        "                           \"Oklahoma\", \"Alabama\", \"Hawaii\", \"Kansas\", \"Utah\", \"Iowa\", \"South Carolina\", \n",
        "                           \"Arkansas\", \"Nebraska\", \"texas\", \"Southern California\", \"New England\", \n",
        "                           \"Mississippi\", \"florida\", \"new york\", \"Idaho\", \"New Mexico\", \"Chicago\", \n",
        "                           \"New Hampshire\", \"Los Angeles\", \"Rhode Island\", \"New York City\", \"Maine\", \n",
        "                           \"America\", \"Alaska\", \"Delaware\", \"Northern Ireland\", \"ohio\", \"Seattle\", \n",
        "                           \"West Virginia\", \"North Dakota\", \"South Dakota\", \"Boston\", \"Vermont\", \"Montana\", \n",
        "                           \"michigan\", \"washington\", \"New york\", \"Las Vegas\", \"Wisconsin\", \n",
        "                           \"Washington State\", \"SoCal\")  else x for x in location]\n",
        "location = [\"UK\" if x in (\"England\", \"england\", \"United Kingdom\", \"Scotland\", \"Glasgow\", \"London\", \"london\", \n",
        "                          \"Wales\", \"Manchester\", \"Nottingham\", \"Kent\", \"England.\", \"united kingdom\", \"Essex\", \n",
        "                          \"UK\", \"Uk\", \"uk\", \"Britain\", \"Liverpool\", \"Birmingham\") else x for x in location]\n",
        "location = [\"Netherlands\" if x in (\"Netherlands\", \"The Netherlands\", \"Nederland\", \"Netherland\", \"the Netherlands\", \n",
        "                                   \"The netherlands\", \"netherlands\", \"Holland\", \"Amsterdam\", \"Utrecht\", \"Rotterdam\", \n",
        "                                   \"Limburg\", \"the netherlands\", \"Zuid-Holland\") else x for x in location]\n",
        "location = [\"Canada\" if x in (\"Canada\", \"canada\", \"CANADA\", \"Ontario\", \"ON\", \"Quebec\", \"Québec\", \"Alberta\", \n",
        "                              \"Toronto\", \"Vancouver\", \"British Columbia\", \"Saskatchewan\", \"ontario\", \"BC\", \n",
        "                              \"Montreal\", \"Manitoba\", \"Nova Scotia\") else x for x in location]\n",
        "location = [\"Brazil\" if x in (\"Brazil\", \"Brasil\", \"São Paulo\", \"Sao Paulo\", \"São Paulo - Brazil\", \"Paraná\", \n",
        "                              \"Pará\", \"Rio de Janeiro\", \"RJ\", \"RS\", \"SP\", \"MG\", \"DF\", \"Porto Alegre\", \n",
        "                              \"Minas Gerais\", \"brasil\", \"Brasil.\", \"Rio Grande do Sul\", \"Santa Catarina\", \n",
        "                              \"Bahia\", \"Ceará\", \"Pernambuco\", \"Brazil.\", \"brazil\", \n",
        "                              \"Goiás\") else x for x in location]\n",
        "location = [\"Russia\" if x in (\"Russia\", \"Moscow\", \"Russian Federation\", \"Saint-Petersburg\", \"St. Petersburg\", \n",
        "                              \"Saint Petersburg\", \"Novosibirsk\", \"Россия\", \n",
        "                              \"St.Petersburg\") else x for x in location]\n",
        "location = [\"Japan\" if x in (\"Japan\", \"japan\", \"Tokyo\", \"tokyo\", \"Ikebukuro\", \"Kyoto\", \n",
        "                             \"Osaka\") else x for x in location]\n",
        "location = [\"Turkey\" if x in (\"Turkey\", \"Istanbul\", \"İstanbul\", \"istanbul\", \"Ankara\", \"Bursa\", \"Türkiye\", \n",
        "                              \"Turkiye\", \"turkey\", \n",
        "                              \"İzmir\", \"Izmir\", \"Antalya\", \"TURKEY\") else x for x in location]\n",
        "location = [\"Philippines\" if x in (\"Philippines\", \"philippines\", \"Manila\", \"Cavite\", \"Phillipines\", \n",
        "                                   \"Metro Manila\", \"manila\", \"Cebu\", \"Laguna\", \n",
        "                                   \"Quezon City\") else x for x in location]\n",
        "location = [\"Indonesia\" if x in (\"Indonesia\", \"Jakarta\", \"indonesia\", \"Bandung\", \"West Java\", \"Central Java\", \n",
        "                                 \"jakarta\", \"Jawa Timur\", \"Banten\", \"Jawa Barat\", \"East Java\", \"Indonesian\", \n",
        "                                 \"Yogyakarta\") else x for x in location]\n",
        "location = [\"Spain\" if x in (\"Spain\", \"España\", \"Barcelona\", \"Madrid\", \"Valencia\", \n",
        "                             \"Catalonia\") else x for x in location]\n",
        "location = [\"Poland\" if x in (\"Poland\", \"poland\", \"Warsaw\", \"Warszawa\", \"Poznań\", \"Łódź\", \"Gdańsk\", \"Wrocław\", \n",
        "                              \"Kraków\", \"Cracow\", \"Szczecin\", \"Gdynia\", \"Bydgoszcz\", \"Lublin\", \"Białystok\", \n",
        "                              \"Katowice\", \"Rzeszów\", \"Lodz\") else x for x in location]\n",
        "location = [\"France\" if x in (\"France\", \"Paris\", \"france\", \"paris\", \"FRANCE\") else x for x in location]\n",
        "location = [\"Australia\" if x in (\"Australia\", \"australia\", \"Sydney\", \"Melbourne\", \"Victoria\", \"WA\", \"NSW\",\n",
        "                                 \"Western Australia\", \"New South Wales\", \"Adelaide\", \"Queensland\", \"Perth\",\n",
        "                                 \"South Australia\", \"Brisbane\") else x for x in location]\n",
        "location = [\"Portugal\" if x in (\"Portugal\", \"Lisbon\", \"Porto\", \"Lisboa\", \"portugal\") else x for x in location]\n",
        "location = [\"Italy\" if x in (\"Italy\", \"Italia\", \"italy\", \"Rome\", \"Roma\", \"italia\") else x for x in location]\n",
        "location = [\"Mexico\" if x in (\"Mexico\", \"México\", \"Mexico City\", \"mexico\", \"Baja California\", \n",
        "                              \"Jalisco\") else x for x in location]\n",
        "location = [\"Argentina\" if x in (\"Argentina\", \"Buenos Aires\") else x for x in location]\n",
        "location = [\"Greece\" if x in (\"Greece\", \"Athens\", \"greece\", \"athens\") else x for x in location]\n",
        "location = [\"Hungary\" if x in (\"Hungary\", \"Budapest\") else x for x in location]\n",
        "location = [\"India\" if x in (\"India\", \"india\", \"INDIA\", \"Mumbai\") else x for x in location]\n",
        "location = [\"Sweden\" if x in (\"Sweden\", \"sweden\", \"Stockholm\", \"Gothenburg\") else x for x in location]\n",
        "location = [\"Latvia\" if x in (\"Latvia\", \"Riga\") else x for x in location]\n",
        "location = [\"Germany\" if x in (\"Germany\", \"Berlin\", \"Deutschland\", \"NRW\", \"Hamburg\", \"germany\", \n",
        "                               \"Bavaria\", \"Hessen\") else x for x in location]\n",
        "location = [\"Malaysia\" if x in (\"Malaysia\", \"malaysia\", \"Kuala Lumpur\", \"Selangor\", \n",
        "                                \"Sarawak\") else x for x in location]\n",
        "location = [\"Bulgaria\" if x in (\"Bulgaria\", \"Sofia\") else x for x in location]\n",
        "location = [\"Singapore\" if x in (\"Singapore\", \"singapore\") else x for x in location]\n",
        "location = [\"Romania\" if x in (\"Romania\", \"Bucharest\") else x for x in location]\n",
        "location = [\"Austria\" if x in (\"Austria\", \"Vienna\") else x for x in location]\n",
        "location = [\"Israel\" if x in (\"Israel\", \"israel\") else x for x in location]\n",
        "location = [\"Lithuania\" if x in (\"Lithuania\", \"Vilnius\", \"Kaunas\") else x for x in location]\n",
        "location = [\"Czech Republic\" if x in (\"Czech Republic\", \"Czech republic\", \"Prague\") else x for x in location]\n",
        "location = [\"Estonia\" if x in (\"Estonia\", \"Tallinn\") else x for x in location]\n",
        "location = [\"Ukraine\" if x in (\"Ukraine\", \"Kiev\", \"Odessa\") else x for x in location]\n",
        "location = [\"Norway\" if x in (\"Norway\", \"Oslo\", \"norway\") else x for x in location]\n",
        "location = [\"Colombia\" if x in (\"Colombia\", \"Cali\") else x for x in location]\n",
        "location = [\"New Zealand\" if x in (\"New Zealand\", \"Auckland\", \"NZ\") else x for x in location]\n",
        "location = [\"Finland\" if x in (\"New Zealand\", \"Helsinki\") else x for x in location]\n",
        "location = [\"Belgium\" if x in (\"Belgium\", \"belgium\", \"Antwerp\") else x for x in location]\n",
        "location = [\"China\" if x in (\"China\", \"Hong Kong\") else x for x in location]\n",
        "location = [\"Vietnam\" if x in (\"Vietnam\", \"Viet Nam\") else x for x in location]\n",
        "location = [\"Peru\" if x in (\"Peru\", \"Perú\", \"Lima\") else x for x in location]\n",
        "location = [\"Saudi Arabia\" if x in (\"Saudi Arabia\", \"Riyadh\", \"KSA\", \"K.S.A\", \"Jeddah\", \"saudi arabia\", \n",
        "                                    \"jeddah\") else x for x in location]\n",
        "location = [\"Kuwait\" if x in (\"Kuwait\", \"kuwait\") else x for x in location]\n",
        "location = [\"Thailand\" if x in (\"Thailand\", \"Bangkok\") else x for x in location]\n",
        "location = [\"Bangladesh\" if x in (\"Bangladesh\", \"Dhaka\", \"bangladesh\") else x for x in location]\n",
        "location = [\"United Arab Emirates\" if x in (\"UAE\", \"Dubai\") else x for x in location]\n",
        "location = [\"Ireland\" if x in (\"Ireland\", \"Dublin\") else x for x in location]\n",
        "location = [\"Chile\" if x in (\"Chile\", \"Santiago\") else x for x in location]\n",
        "location = [\"Serbia\" if x in (\"Serbia\", \"Belgrade\") else x for x in location]\n",
        "location = [\"Egypt\" if x in (\"Egypt\", \"Cairo\") else x for x in location]\n",
        "location = [\"Belarus\" if x in (\"Belarus\", \"Minsk\") else x for x in location]\n",
        "location = [\"Denmark\" if x in (\"Denmark\", \"Copenhagen\") else x for x in location]\n",
        "location = [\"South Korea\" if x in (\"South Korea\", \"Korea\", \"Seoul\") else x for x in location]\n",
        "location = [\"Croatia\" if x in (\"Croatia\", \"Zagreb\") else x for x in location]\n",
        "location = [\"Georgia\" if x in (\"Georgia\", \"Tbilisi\", \"georgia\") else x for x in location]\n",
        "#Georgia can be state of America \"Georgia\" or country \"Georgia\". I putted it in country category. \n",
        "#And i putted GA in state category.\n",
        "# Use this reference from the user who made the datasets"
      ],
      "execution_count": 0,
      "outputs": []
    },
    {
      "cell_type": "code",
      "metadata": {
        "id": "ZB8R8zERwMEs",
        "colab_type": "code",
        "colab": {
          "base_uri": "https://localhost:8080/",
          "height": 390
        },
        "outputId": "368fee81-7a8a-41fa-d9ca-49155b17129f"
      },
      "source": [
        "pd.Series(location).value_counts()[:20] "
      ],
      "execution_count": 56,
      "outputs": [
        {
          "output_type": "execute_result",
          "data": {
            "text/plain": [
              "USA            20932\n",
              "Brazil          5337\n",
              "Poland          4686\n",
              "UK              4361\n",
              "Canada          4184\n",
              "Philippines     2707\n",
              "Australia       2639\n",
              "Germany         2505\n",
              "Russia          2381\n",
              "Netherlands     2071\n",
              "Indonesia       1976\n",
              "France          1763\n",
              "Portugal        1730\n",
              "Finland         1554\n",
              "Sweden          1499\n",
              "Spain           1246\n",
              "Italy           1178\n",
              "Norway           958\n",
              "Turkey           869\n",
              "Romania          863\n",
              "dtype: int64"
            ]
          },
          "metadata": {
            "tags": []
          },
          "execution_count": 56
        }
      ]
    },
    {
      "cell_type": "markdown",
      "metadata": {
        "id": "HJwkWUnsB3Ts",
        "colab_type": "text"
      },
      "source": [
        "It's expected that the United States. Since the website is in english =."
      ]
    },
    {
      "cell_type": "code",
      "metadata": {
        "id": "KViNNxtl0WbL",
        "colab_type": "code",
        "colab": {}
      },
      "source": [
        "loc = pd.Series(location).value_counts()[:25] "
      ],
      "execution_count": 0,
      "outputs": []
    },
    {
      "cell_type": "code",
      "metadata": {
        "id": "b0E0V-2HwOgb",
        "colab_type": "code",
        "colab": {
          "base_uri": "https://localhost:8080/",
          "height": 363
        },
        "outputId": "93cae455-b22f-4edc-9fe3-fa55c0370abe"
      },
      "source": [
        "loc.plot(kind='bar')\n",
        "figsize=(10,6)\n",
        "plt.ylabel('Members')\n",
        "plt.xlabel('Country')\n",
        "plt.title('Total Members by Country')"
      ],
      "execution_count": 72,
      "outputs": [
        {
          "output_type": "execute_result",
          "data": {
            "text/plain": [
              "Text(0.5, 1.0, 'Total Members by Country')"
            ]
          },
          "metadata": {
            "tags": []
          },
          "execution_count": 72
        },
        {
          "output_type": "display_data",
          "data": {
            "image/png": "[encoded data removed]",
            "text/plain": [
              "<Figure size 432x288 with 1 Axes>"
            ]
          },
          "metadata": {
            "tags": []
          }
        }
      ]
    },
    {
      "cell_type": "markdown",
      "metadata": {
        "id": "PYO5YX0lCRUd",
        "colab_type": "text"
      },
      "source": [
        "# Setting up the Data for the Recommendation system"
      ]
    },
    {
      "cell_type": "code",
      "metadata": {
        "id": "F0658tKFCZKH",
        "colab_type": "code",
        "colab": {}
      },
      "source": [
        "# df_userlists is a huge file of 2gb. Only taking columns that is important for the recommndation system\n",
        "score_df = df_userlists[['username', 'anime_id', 'my_score', ]]"
      ],
      "execution_count": 0,
      "outputs": []
    },
    {
      "cell_type": "code",
      "metadata": {
        "id": "Z4kO-RGlEzoj",
        "colab_type": "code",
        "colab": {}
      },
      "source": [
        "#Can't have rate anything less than one.\n",
        "score_df = score_df[score_df.my_score !=0]"
      ],
      "execution_count": 0,
      "outputs": []
    },
    {
      "cell_type": "code",
      "metadata": {
        "id": "IuMaoPNlFUyb",
        "colab_type": "code",
        "colab": {
          "base_uri": "https://localhost:8080/",
          "height": 34
        },
        "outputId": "389d281d-2c83-4cc0-aa27-b159f924302c"
      },
      "source": [
        "#Analysing all the possible values for the score, this will be used as a parameter later on\n",
        "lower_rating = score_df['my_score'].min()\n",
        "upper_rating = score_df['my_score'].max()\n",
        "print('Range of ratings vary between: {0} to {1}'.format(lower_rating, upper_rating))"
      ],
      "execution_count": 89,
      "outputs": [
        {
          "output_type": "stream",
          "text": [
            "Range of ratings vary between: 1 to 10\n"
          ],
          "name": "stdout"
        }
      ]
    },
    {
      "cell_type": "code",
      "metadata": {
        "id": "m5sjI-aPFLqq",
        "colab_type": "code",
        "colab": {}
      },
      "source": [
        "#Counting how many relevant scores each user have done, resetting the index (so the series could become a DF again) and changing the column names\n",
        "UsersAndScores = score_df['username'].value_counts().reset_index().rename(columns={\"username\": \"animes_rated\", \"index\": \"username\"})"
      ],
      "execution_count": 0,
      "outputs": []
    },
    {
      "cell_type": "code",
      "metadata": {
        "id": "1NeQyWhNFkiT",
        "colab_type": "code",
        "colab": {
          "base_uri": "https://localhost:8080/",
          "height": 281
        },
        "outputId": "47c85035-d88e-4611-a908-a0bccef49146"
      },
      "source": [
        "#Taking one percent because anymore will crash the system\n",
        "UsersSampled = df_users.sample(frac = .01, random_state = 7)\n",
        "UsersSampled.head()"
      ],
      "execution_count": 91,
      "outputs": [
        {
          "output_type": "execute_result",
          "data": {
            "text/html": [
              "<div>\n",
              "<style scoped>\n",
              "    .dataframe tbody tr th:only-of-type {\n",
              "        vertical-align: middle;\n",
              "    }\n",
              "\n",
              "    .dataframe tbody tr th {\n",
              "        vertical-align: top;\n",
              "    }\n",
              "\n",
              "    .dataframe thead th {\n",
              "        text-align: right;\n",
              "    }\n",
              "</style>\n",
              "<table border=\"1\" class=\"dataframe\">\n",
              "  <thead>\n",
              "    <tr style=\"text-align: right;\">\n",
              "      <th></th>\n",
              "      <th>username</th>\n",
              "      <th>user_id</th>\n",
              "      <th>user_watching</th>\n",
              "      <th>user_completed</th>\n",
              "      <th>user_onhold</th>\n",
              "      <th>user_dropped</th>\n",
              "      <th>user_plantowatch</th>\n",
              "      <th>user_days_spent_watching</th>\n",
              "      <th>gender</th>\n",
              "      <th>location</th>\n",
              "      <th>birth_date</th>\n",
              "      <th>access_rank</th>\n",
              "      <th>join_date</th>\n",
              "      <th>last_online</th>\n",
              "      <th>stats_mean_score</th>\n",
              "      <th>stats_rewatched</th>\n",
              "      <th>stats_episodes</th>\n",
              "    </tr>\n",
              "  </thead>\n",
              "  <tbody>\n",
              "    <tr>\n",
              "      <th>113744</th>\n",
              "      <td>adam1x6</td>\n",
              "      <td>3924291</td>\n",
              "      <td>1</td>\n",
              "      <td>83</td>\n",
              "      <td>0</td>\n",
              "      <td>0</td>\n",
              "      <td>34</td>\n",
              "      <td>25.40</td>\n",
              "      <td>Male</td>\n",
              "      <td>Pittsburgh, PA</td>\n",
              "      <td>1989-09-25</td>\n",
              "      <td>NaN</td>\n",
              "      <td>2014-07-13</td>\n",
              "      <td>1900-04-15 08:40:00</td>\n",
              "      <td>8.17</td>\n",
              "      <td>0.0</td>\n",
              "      <td>1491.0</td>\n",
              "    </tr>\n",
              "    <tr>\n",
              "      <th>92980</th>\n",
              "      <td>GLobalTune</td>\n",
              "      <td>5537957</td>\n",
              "      <td>3</td>\n",
              "      <td>0</td>\n",
              "      <td>0</td>\n",
              "      <td>0</td>\n",
              "      <td>0</td>\n",
              "      <td>0.08</td>\n",
              "      <td>Male</td>\n",
              "      <td>Holbaek, Denmark</td>\n",
              "      <td>2000-01-28</td>\n",
              "      <td>NaN</td>\n",
              "      <td>2016-07-09</td>\n",
              "      <td>2016-07-15 12:24:00</td>\n",
              "      <td>8.00</td>\n",
              "      <td>0.0</td>\n",
              "      <td>5.0</td>\n",
              "    </tr>\n",
              "    <tr>\n",
              "      <th>96809</th>\n",
              "      <td>r0idzipoo</td>\n",
              "      <td>303577</td>\n",
              "      <td>3</td>\n",
              "      <td>110</td>\n",
              "      <td>0</td>\n",
              "      <td>2</td>\n",
              "      <td>133</td>\n",
              "      <td>29.60</td>\n",
              "      <td>Male</td>\n",
              "      <td>Gilbert,AZ</td>\n",
              "      <td>1993-02-09</td>\n",
              "      <td>NaN</td>\n",
              "      <td>2010-03-11</td>\n",
              "      <td>2015-02-04 17:52:00</td>\n",
              "      <td>8.69</td>\n",
              "      <td>0.0</td>\n",
              "      <td>1681.0</td>\n",
              "    </tr>\n",
              "    <tr>\n",
              "      <th>106580</th>\n",
              "      <td>sanjitoshi</td>\n",
              "      <td>5572939</td>\n",
              "      <td>7</td>\n",
              "      <td>194</td>\n",
              "      <td>3</td>\n",
              "      <td>59</td>\n",
              "      <td>46</td>\n",
              "      <td>83.29</td>\n",
              "      <td>Female</td>\n",
              "      <td>İstanbul, Turkey</td>\n",
              "      <td>1997-11-19</td>\n",
              "      <td>NaN</td>\n",
              "      <td>2016-07-23</td>\n",
              "      <td>1900-05-09 14:20:00</td>\n",
              "      <td>7.61</td>\n",
              "      <td>0.0</td>\n",
              "      <td>5202.0</td>\n",
              "    </tr>\n",
              "    <tr>\n",
              "      <th>62510</th>\n",
              "      <td>KanaeShiki</td>\n",
              "      <td>254627</td>\n",
              "      <td>3</td>\n",
              "      <td>324</td>\n",
              "      <td>10</td>\n",
              "      <td>77</td>\n",
              "      <td>78</td>\n",
              "      <td>95.35</td>\n",
              "      <td>Female</td>\n",
              "      <td>Winnipeg, Manitoba, Canada</td>\n",
              "      <td>1985-02-04</td>\n",
              "      <td>NaN</td>\n",
              "      <td>2009-11-03</td>\n",
              "      <td>1900-03-28 09:39:00</td>\n",
              "      <td>6.18</td>\n",
              "      <td>0.0</td>\n",
              "      <td>6025.0</td>\n",
              "    </tr>\n",
              "  </tbody>\n",
              "</table>\n",
              "</div>"
            ],
            "text/plain": [
              "          username  user_id  ...  stats_rewatched  stats_episodes\n",
              "113744     adam1x6  3924291  ...              0.0          1491.0\n",
              "92980   GLobalTune  5537957  ...              0.0             5.0\n",
              "96809    r0idzipoo   303577  ...              0.0          1681.0\n",
              "106580  sanjitoshi  5572939  ...              0.0          5202.0\n",
              "62510   KanaeShiki   254627  ...              0.0          6025.0\n",
              "\n",
              "[5 rows x 17 columns]"
            ]
          },
          "metadata": {
            "tags": []
          },
          "execution_count": 91
        }
      ]
    },
    {
      "cell_type": "code",
      "metadata": {
        "id": "Z9d_LUw2GFNJ",
        "colab_type": "code",
        "colab": {}
      },
      "source": [
        "UsersAndScoresSampled = pd.merge(UsersAndScores, UsersSampled, left_on = 'username', right_on = 'username', how = 'inner')"
      ],
      "execution_count": 0,
      "outputs": []
    },
    {
      "cell_type": "code",
      "metadata": {
        "id": "0AjoCgNnGawx",
        "colab_type": "code",
        "colab": {}
      },
      "source": [
        "#Grouping users whom had the same amount of animes rated\n",
        "UserRatedsAggregated = UsersAndScoresSampled['animes_rated'].value_counts().reset_index().rename(columns={\"animes_rated\": \"group_size\", \"index\": \"animes_rated\"}).sort_values(by=['animes_rated'])"
      ],
      "execution_count": 0,
      "outputs": []
    },
    {
      "cell_type": "code",
      "metadata": {
        "id": "FHH-vRJEGfCj",
        "colab_type": "code",
        "colab": {
          "base_uri": "https://localhost:8080/",
          "height": 197
        },
        "outputId": "b40fd6cf-f93c-49ec-94a8-41f063c031e2"
      },
      "source": [
        "#Counting how many relevant scores each anime has, resetting the index (so the series could become a DF again) and changing the column names\n",
        "RatedsPerAnime = score_df['anime_id'].value_counts().reset_index().rename(columns={\"anime_id\": \"number_of_users\", \"index\": \"anime_id\"})\n",
        "RatedsPerAnime.head()"
      ],
      "execution_count": 94,
      "outputs": [
        {
          "output_type": "execute_result",
          "data": {
            "text/html": [
              "<div>\n",
              "<style scoped>\n",
              "    .dataframe tbody tr th:only-of-type {\n",
              "        vertical-align: middle;\n",
              "    }\n",
              "\n",
              "    .dataframe tbody tr th {\n",
              "        vertical-align: top;\n",
              "    }\n",
              "\n",
              "    .dataframe thead th {\n",
              "        text-align: right;\n",
              "    }\n",
              "</style>\n",
              "<table border=\"1\" class=\"dataframe\">\n",
              "  <thead>\n",
              "    <tr style=\"text-align: right;\">\n",
              "      <th></th>\n",
              "      <th>anime_id</th>\n",
              "      <th>number_of_users</th>\n",
              "    </tr>\n",
              "  </thead>\n",
              "  <tbody>\n",
              "    <tr>\n",
              "      <th>0</th>\n",
              "      <td>1535</td>\n",
              "      <td>72602</td>\n",
              "    </tr>\n",
              "    <tr>\n",
              "      <th>1</th>\n",
              "      <td>20</td>\n",
              "      <td>55469</td>\n",
              "    </tr>\n",
              "    <tr>\n",
              "      <th>2</th>\n",
              "      <td>1575</td>\n",
              "      <td>55462</td>\n",
              "    </tr>\n",
              "    <tr>\n",
              "      <th>3</th>\n",
              "      <td>11757</td>\n",
              "      <td>54737</td>\n",
              "    </tr>\n",
              "    <tr>\n",
              "      <th>4</th>\n",
              "      <td>16498</td>\n",
              "      <td>54666</td>\n",
              "    </tr>\n",
              "  </tbody>\n",
              "</table>\n",
              "</div>"
            ],
            "text/plain": [
              "   anime_id  number_of_users\n",
              "0      1535            72602\n",
              "1        20            55469\n",
              "2      1575            55462\n",
              "3     11757            54737\n",
              "4     16498            54666"
            ]
          },
          "metadata": {
            "tags": []
          },
          "execution_count": 94
        }
      ]
    },
    {
      "cell_type": "code",
      "metadata": {
        "id": "eEm2kCNvGg5j",
        "colab_type": "code",
        "colab": {
          "base_uri": "https://localhost:8080/",
          "height": 947
        },
        "outputId": "01439164-b928-4b9c-ed68-bdd1b7d637e1"
      },
      "source": [
        "#Grouping users whom had the same amount of animes rated\n",
        "AnimeRatedsAggregated = RatedsPerAnime['number_of_users'].value_counts().reset_index().rename(columns={\"number_of_users\": \"group_size\", \"index\": \"number_of_users\"}).sort_values(by=['number_of_users'])\n",
        "AnimeRatedsAggregated.head(n = 30)"
      ],
      "execution_count": 95,
      "outputs": [
        {
          "output_type": "execute_result",
          "data": {
            "text/html": [
              "<div>\n",
              "<style scoped>\n",
              "    .dataframe tbody tr th:only-of-type {\n",
              "        vertical-align: middle;\n",
              "    }\n",
              "\n",
              "    .dataframe tbody tr th {\n",
              "        vertical-align: top;\n",
              "    }\n",
              "\n",
              "    .dataframe thead th {\n",
              "        text-align: right;\n",
              "    }\n",
              "</style>\n",
              "<table border=\"1\" class=\"dataframe\">\n",
              "  <thead>\n",
              "    <tr style=\"text-align: right;\">\n",
              "      <th></th>\n",
              "      <th>number_of_users</th>\n",
              "      <th>group_size</th>\n",
              "    </tr>\n",
              "  </thead>\n",
              "  <tbody>\n",
              "    <tr>\n",
              "      <th>0</th>\n",
              "      <td>1</td>\n",
              "      <td>456</td>\n",
              "    </tr>\n",
              "    <tr>\n",
              "      <th>1</th>\n",
              "      <td>2</td>\n",
              "      <td>394</td>\n",
              "    </tr>\n",
              "    <tr>\n",
              "      <th>2</th>\n",
              "      <td>3</td>\n",
              "      <td>367</td>\n",
              "    </tr>\n",
              "    <tr>\n",
              "      <th>3</th>\n",
              "      <td>4</td>\n",
              "      <td>289</td>\n",
              "    </tr>\n",
              "    <tr>\n",
              "      <th>4</th>\n",
              "      <td>5</td>\n",
              "      <td>263</td>\n",
              "    </tr>\n",
              "    <tr>\n",
              "      <th>5</th>\n",
              "      <td>6</td>\n",
              "      <td>220</td>\n",
              "    </tr>\n",
              "    <tr>\n",
              "      <th>6</th>\n",
              "      <td>7</td>\n",
              "      <td>199</td>\n",
              "    </tr>\n",
              "    <tr>\n",
              "      <th>7</th>\n",
              "      <td>8</td>\n",
              "      <td>162</td>\n",
              "    </tr>\n",
              "    <tr>\n",
              "      <th>8</th>\n",
              "      <td>9</td>\n",
              "      <td>150</td>\n",
              "    </tr>\n",
              "    <tr>\n",
              "      <th>9</th>\n",
              "      <td>10</td>\n",
              "      <td>142</td>\n",
              "    </tr>\n",
              "    <tr>\n",
              "      <th>10</th>\n",
              "      <td>11</td>\n",
              "      <td>133</td>\n",
              "    </tr>\n",
              "    <tr>\n",
              "      <th>12</th>\n",
              "      <td>12</td>\n",
              "      <td>111</td>\n",
              "    </tr>\n",
              "    <tr>\n",
              "      <th>16</th>\n",
              "      <td>13</td>\n",
              "      <td>88</td>\n",
              "    </tr>\n",
              "    <tr>\n",
              "      <th>11</th>\n",
              "      <td>14</td>\n",
              "      <td>112</td>\n",
              "    </tr>\n",
              "    <tr>\n",
              "      <th>15</th>\n",
              "      <td>15</td>\n",
              "      <td>93</td>\n",
              "    </tr>\n",
              "    <tr>\n",
              "      <th>14</th>\n",
              "      <td>16</td>\n",
              "      <td>97</td>\n",
              "    </tr>\n",
              "    <tr>\n",
              "      <th>17</th>\n",
              "      <td>17</td>\n",
              "      <td>87</td>\n",
              "    </tr>\n",
              "    <tr>\n",
              "      <th>13</th>\n",
              "      <td>18</td>\n",
              "      <td>102</td>\n",
              "    </tr>\n",
              "    <tr>\n",
              "      <th>18</th>\n",
              "      <td>19</td>\n",
              "      <td>75</td>\n",
              "    </tr>\n",
              "    <tr>\n",
              "      <th>20</th>\n",
              "      <td>20</td>\n",
              "      <td>71</td>\n",
              "    </tr>\n",
              "    <tr>\n",
              "      <th>19</th>\n",
              "      <td>21</td>\n",
              "      <td>74</td>\n",
              "    </tr>\n",
              "    <tr>\n",
              "      <th>25</th>\n",
              "      <td>22</td>\n",
              "      <td>56</td>\n",
              "    </tr>\n",
              "    <tr>\n",
              "      <th>23</th>\n",
              "      <td>23</td>\n",
              "      <td>61</td>\n",
              "    </tr>\n",
              "    <tr>\n",
              "      <th>22</th>\n",
              "      <td>24</td>\n",
              "      <td>68</td>\n",
              "    </tr>\n",
              "    <tr>\n",
              "      <th>24</th>\n",
              "      <td>25</td>\n",
              "      <td>57</td>\n",
              "    </tr>\n",
              "    <tr>\n",
              "      <th>26</th>\n",
              "      <td>26</td>\n",
              "      <td>56</td>\n",
              "    </tr>\n",
              "    <tr>\n",
              "      <th>32</th>\n",
              "      <td>27</td>\n",
              "      <td>42</td>\n",
              "    </tr>\n",
              "    <tr>\n",
              "      <th>27</th>\n",
              "      <td>28</td>\n",
              "      <td>54</td>\n",
              "    </tr>\n",
              "    <tr>\n",
              "      <th>21</th>\n",
              "      <td>29</td>\n",
              "      <td>68</td>\n",
              "    </tr>\n",
              "    <tr>\n",
              "      <th>37</th>\n",
              "      <td>30</td>\n",
              "      <td>38</td>\n",
              "    </tr>\n",
              "  </tbody>\n",
              "</table>\n",
              "</div>"
            ],
            "text/plain": [
              "    number_of_users  group_size\n",
              "0                 1         456\n",
              "1                 2         394\n",
              "2                 3         367\n",
              "3                 4         289\n",
              "4                 5         263\n",
              "5                 6         220\n",
              "6                 7         199\n",
              "7                 8         162\n",
              "8                 9         150\n",
              "9                10         142\n",
              "10               11         133\n",
              "12               12         111\n",
              "16               13          88\n",
              "11               14         112\n",
              "15               15          93\n",
              "14               16          97\n",
              "17               17          87\n",
              "13               18         102\n",
              "18               19          75\n",
              "20               20          71\n",
              "19               21          74\n",
              "25               22          56\n",
              "23               23          61\n",
              "22               24          68\n",
              "24               25          57\n",
              "26               26          56\n",
              "32               27          42\n",
              "27               28          54\n",
              "21               29          68\n",
              "37               30          38"
            ]
          },
          "metadata": {
            "tags": []
          },
          "execution_count": 95
        }
      ]
    },
    {
      "cell_type": "code",
      "metadata": {
        "id": "-alQpycSG2Td",
        "colab_type": "code",
        "colab": {
          "base_uri": "https://localhost:8080/",
          "height": 320
        },
        "outputId": "bbf38257-a1b0-4f6d-e7e1-bb08f886e065"
      },
      "source": [
        "#Creating the plots so we can gather information about the distribution of ratings in the sample\n",
        "plt.suptitle(\"Distribution of users\", fontsize=13, fontweight=0, color='black', style='italic', y=1.02)\n",
        "plt.plot('animes_rated', 'group_size', data = UserRatedsAggregated, color = 'blue')\n",
        "plt.xlabel('Number of animes rated')\n",
        "plt.ylabel('Number of people in that group')\n",
        "plt.xlim(left = 0, right = 2000)\n",
        "plt.show()"
      ],
      "execution_count": 96,
      "outputs": [
        {
          "output_type": "display_data",
          "data": {
            "image/png": "[encoded data removed]",
            "text/plain": [
              "<Figure size 432x288 with 1 Axes>"
            ]
          },
          "metadata": {
            "tags": []
          }
        }
      ]
    },
    {
      "cell_type": "code",
      "metadata": {
        "id": "Zth6eNBVG8nT",
        "colab_type": "code",
        "colab": {
          "base_uri": "https://localhost:8080/",
          "height": 320
        },
        "outputId": "22f1e233-1900-404b-bc25-c264b800d5ee"
      },
      "source": [
        "#Creating the plots so we can gather information about the distribution of ratings in the sample\n",
        "plt.suptitle(\"Distribution of animes\", fontsize=13, fontweight=0, color='black', style='italic', y=1.02)\n",
        "plt.plot('number_of_users', 'group_size', data = AnimeRatedsAggregated, color = 'olive')\n",
        "plt.xlabel('Number of users rated')\n",
        "plt.ylabel('Number of animes in that group')\n",
        "plt.xlim(left = 0, right = 2000)\n",
        "plt.show()"
      ],
      "execution_count": 97,
      "outputs": [
        {
          "output_type": "display_data",
          "data": {
            "image/png": "[encoded data removed]",
            "text/plain": [
              "<Figure size 432x288 with 1 Axes>"
            ]
          },
          "metadata": {
            "tags": []
          }
        }
      ]
    },
    {
      "cell_type": "code",
      "metadata": {
        "id": "i6bep988HEok",
        "colab_type": "code",
        "colab": {}
      },
      "source": [
        "#Creating a dataframe of users  and animes with more than 10 interactions\n",
        "UserRatedsCutten = UsersAndScoresSampled[UsersAndScoresSampled['animes_rated'] >= 10]\n",
        "AnimeRatedsCutten = RatedsPerAnime[RatedsPerAnime['number_of_users'] >= 10]\n",
        "#Joining (merging) our new dataframes with the interactions one (this will already deal with the sample problem,\n",
        "#as it is an inner join). The \"HotStart\" name comes from a pun about solving the \"Cold Start\" issue\n",
        "ScoresDFHotStart = pd.merge(score_df, UserRatedsCutten, left_on = 'username', right_on = 'username', how = 'inner')\n",
        "ScoresDFHotStart = pd.merge(ScoresDFHotStart, AnimeRatedsCutten, left_on = 'anime_id', right_on = 'anime_id', how = 'inner')"
      ],
      "execution_count": 0,
      "outputs": []
    },
    {
      "cell_type": "code",
      "metadata": {
        "id": "mlogK8JRHWkb",
        "colab_type": "code",
        "colab": {
          "base_uri": "https://localhost:8080/",
          "height": 278
        },
        "outputId": "f6eb928e-3ec7-4a7d-f869-33d28331137b"
      },
      "source": [
        "#Grouping the different scores and resetting the index (so the series could become a DF again) \n",
        "AnimeRates = score_df['my_score'].value_counts().reset_index().sort_values('index')\n",
        "plt.plot('index', 'my_score', data = AnimeRates, color = 'red')\n",
        "plt.xticks(np.arange(11))\n",
        "plt.ticklabel_format(axis = 'y', style = 'plain')\n",
        "plt.xlabel('Score')\n",
        "plt.ylabel('Frequency of that score')\n",
        "plt.show()"
      ],
      "execution_count": 99,
      "outputs": [
        {
          "output_type": "display_data",
          "data": {
            "image/png": "[encoded data removed]",
            "text/plain": [
              "<Figure size 432x288 with 1 Axes>"
            ]
          },
          "metadata": {
            "tags": []
          }
        }
      ]
    },
    {
      "cell_type": "code",
      "metadata": {
        "id": "RS3YXmvqHctM",
        "colab_type": "code",
        "colab": {
          "base_uri": "https://localhost:8080/",
          "height": 34
        },
        "outputId": "20415525-fef2-4330-d480-a0f4abdec104"
      },
      "source": [
        "#Just for the record, lets see the difference in numbers between our initial DF and the sampled and cleaned one\n",
        "\n",
        "print('The initial dataframe has {0} registers and the sampled one has {1} rows.'.format(score_df['username'].count(), ScoresDFHotStart['username'].count()))"
      ],
      "execution_count": 100,
      "outputs": [
        {
          "output_type": "stream",
          "text": [
            "The initial dataframe has 21633401 registers and the sampled one has 221448 rows.\n"
          ],
          "name": "stdout"
        }
      ]
    },
    {
      "cell_type": "markdown",
      "metadata": {
        "id": "lL_H7idvRI6c",
        "colab_type": "text"
      },
      "source": [
        "# Training, testing and results"
      ]
    },
    {
      "cell_type": "markdown",
      "metadata": {
        "id": "Ks303RI7RPbI",
        "colab_type": "text"
      },
      "source": [
        "I'm going to build a user-based algorithm and item_based system. I feel like two of them would be a good asset for existing users and new users. I will split the data in a Training and a Test dataset (with a 80/20 proportion). I'm going to use the library Surprise that compare which algothirm is the best by comparing the metrics.  "
      ]
    },
    {
      "cell_type": "markdown",
      "metadata": {
        "id": "Cwo9ylQZSXAy",
        "colab_type": "text"
      },
      "source": [
        "# Metrics"
      ]
    },
    {
      "cell_type": "markdown",
      "metadata": {
        "id": "zKML8lhTScDI",
        "colab_type": "text"
      },
      "source": [
        "I'm going to use RMSE and precision. RMSE is gives a high weight to large errors compared to MSE. Precision over recall is ideal because the metric gives importance to items that you actually recommend. the problem with the Recall@k is that I won't be able to recommend all the relevant items since some of my users have 1000 animes scored. "
      ]
    },
    {
      "cell_type": "code",
      "metadata": {
        "id": "UtEr5CgEHjT8",
        "colab_type": "code",
        "colab": {}
      },
      "source": [
        "def precision_recall_at_k(predictions, k=10, threshold= 7):\n",
        "    '''Return precision and recall at k metrics for each user.'''\n",
        "\n",
        "    # First map the predictions to each user.\n",
        "    user_est_true = defaultdict(list)\n",
        "    for uid, _, true_r, est, _ in predictions:\n",
        "        user_est_true[uid].append((est, true_r))\n",
        "    # Creates a dict with the key being a user and the value bringing the estimated rating and the true rating.\n",
        "\n",
        "    precisions = dict()\n",
        "    recalls = dict()\n",
        "    for uid, user_ratings in user_est_true.items():\n",
        "\n",
        "        # Sort user ratings by estimated value\n",
        "        user_ratings.sort(key=lambda x: x[0], reverse=True)\n",
        "\n",
        "        # Number of relevant items\n",
        "        n_rel = sum((true_r >= threshold) for (_, true_r) in user_ratings)\n",
        "\n",
        "        # Number of recommended items in top k\n",
        "        n_rec_k = sum((est >= threshold) for (est, _) in user_ratings[:k])\n",
        "\n",
        "        # Number of relevant and recommended items in top k\n",
        "        n_rel_and_rec_k = sum(((true_r >= threshold) and (est >= threshold))\n",
        "                              for (est, true_r) in user_ratings[:k])\n",
        "\n",
        "        # Precision@K: Proportion of recommended items that are relevant\n",
        "        precisions[uid] = n_rel_and_rec_k / n_rec_k if n_rec_k != 0 else 1\n",
        "\n",
        "        # Recall@K: Proportion of relevant items that are recommended\n",
        "        recalls[uid] = n_rel_and_rec_k /  n_rel if n_rel != 0 else 1\n",
        "\n",
        "    return precisions, recalls"
      ],
      "execution_count": 0,
      "outputs": []
    },
    {
      "cell_type": "markdown",
      "metadata": {
        "id": "fvDb45X3SaiS",
        "colab_type": "text"
      },
      "source": [
        ""
      ]
    },
    {
      "cell_type": "code",
      "metadata": {
        "id": "g2mavDpWH_X8",
        "colab_type": "code",
        "colab": {
          "base_uri": "https://localhost:8080/",
          "height": 301
        },
        "outputId": "b4e68f06-01d0-44a9-8806-74879be5e873"
      },
      "source": [
        "!pip install surprise"
      ],
      "execution_count": 104,
      "outputs": [
        {
          "output_type": "stream",
          "text": [
            "Collecting surprise\n",
            "  Downloading https://files.pythonhosted.org/packages/61/de/e5cba8682201fcf9c3719a6fdda95693468ed061945493dea2dd37c5618b/surprise-0.1-py2.py3-none-any.whl\n",
            "Collecting scikit-surprise\n",
            "\u001b[?25l  Downloading https://files.pythonhosted.org/packages/f5/da/b5700d96495fb4f092be497f02492768a3d96a3f4fa2ae7dea46d4081cfa/scikit-surprise-1.1.0.tar.gz (6.4MB)\n",
            "\u001b[K     |████████████████████████████████| 6.5MB 2.6MB/s \n",
            "\u001b[?25hRequirement already satisfied: joblib>=0.11 in /usr/local/lib/python3.6/dist-packages (from scikit-surprise->surprise) (0.14.1)\n",
            "Requirement already satisfied: numpy>=1.11.2 in /usr/local/lib/python3.6/dist-packages (from scikit-surprise->surprise) (1.17.5)\n",
            "Requirement already satisfied: scipy>=1.0.0 in /usr/local/lib/python3.6/dist-packages (from scikit-surprise->surprise) (1.4.1)\n",
            "Requirement already satisfied: six>=1.10.0 in /usr/local/lib/python3.6/dist-packages (from scikit-surprise->surprise) (1.12.0)\n",
            "Building wheels for collected packages: scikit-surprise\n",
            "  Building wheel for scikit-surprise (setup.py) ... \u001b[?25l\u001b[?25hdone\n",
            "  Created wheel for scikit-surprise: filename=scikit_surprise-1.1.0-cp36-cp36m-linux_x86_64.whl size=1678237 sha256=81de22a06f4475586715267f0b895836a16d92f13ebde09f94560983e625061f\n",
            "  Stored in directory: /root/.cache/pip/wheels/cc/fa/8c/16c93fccce688ae1bde7d979ff102f7bee980d9cfeb8641bcf\n",
            "Successfully built scikit-surprise\n",
            "Installing collected packages: scikit-surprise, surprise\n",
            "Successfully installed scikit-surprise-1.1.0 surprise-0.1\n"
          ],
          "name": "stdout"
        }
      ]
    },
    {
      "cell_type": "code",
      "metadata": {
        "id": "869NWdQCH8F7",
        "colab_type": "code",
        "colab": {}
      },
      "source": [
        "import surprise as sp"
      ],
      "execution_count": 0,
      "outputs": []
    },
    {
      "cell_type": "code",
      "metadata": {
        "id": "ELSMfIIiIiSo",
        "colab_type": "code",
        "colab": {}
      },
      "source": [
        "from scipy.sparse.linalg import svds\n",
        "from collections import defaultdict\n",
        "import time"
      ],
      "execution_count": 0,
      "outputs": []
    },
    {
      "cell_type": "code",
      "metadata": {
        "id": "nleURfoTHtG8",
        "colab_type": "code",
        "colab": {
          "base_uri": "https://localhost:8080/",
          "height": 392
        },
        "outputId": "1c9810a6-7588-4c2a-df06-c2814871c411"
      },
      "source": [
        "random_state = 7\n",
        "reader = sp.Reader(rating_scale=(0, 10))\n",
        "data = sp.Dataset.load_from_df(ScoresDFHotStart[['username', 'anime_id', 'my_score']], reader)\n",
        "trainset, testset = sp.model_selection.train_test_split(data, test_size=.25, random_state = random_state)\n",
        "analysis = defaultdict(list)\n",
        "\n",
        "test_dict = { 'SlopeOne' : sp.SlopeOne(), 'NMF' : sp.NMF(random_state=random_state), 'NormalPredictor' : sp.NormalPredictor(), 'KNNBaseline' : sp.KNNBaseline(random_state=random_state), 'KNNBasic' : sp.KNNBasic(random_state=random_state), 'KNNWithMeans' : sp.KNNWithMeans(random_state=random_state), 'KNNWithZScore' : sp.KNNWithZScore(random_state=random_state), 'BaselineOnly' : sp.BaselineOnly(), 'CoClustering': sp.CoClustering(random_state=random_state)}\n",
        "\n",
        "for key, value in test_dict.items():\n",
        "    start = time.time()    \n",
        "    value.fit(trainset)\n",
        "    predictions = value.test(testset)\n",
        "\n",
        "    rmse = sp.accuracy.rmse(predictions)\n",
        "    precisions, recalls = precision_recall_at_k(predictions, k=10, threshold=7)\n",
        "    precision_avg = sum(prec for prec in precisions.values()) / len(precisions)\n",
        "\n",
        "    analysis[value] = (key, rmse, precision_avg, time.time() - start)\n",
        "\n",
        "print(analysis)"
      ],
      "execution_count": 128,
      "outputs": [
        {
          "output_type": "stream",
          "text": [
            "RMSE: 1.2900\n",
            "RMSE: 2.1737\n",
            "RMSE: 2.3093\n",
            "Estimating biases using als...\n",
            "Computing the msd similarity matrix...\n",
            "Done computing similarity matrix.\n",
            "RMSE: 1.2569\n",
            "Computing the msd similarity matrix...\n",
            "Done computing similarity matrix.\n",
            "RMSE: 1.4083\n",
            "Computing the msd similarity matrix...\n",
            "Done computing similarity matrix.\n",
            "RMSE: 1.2837\n",
            "Computing the msd similarity matrix...\n",
            "Done computing similarity matrix.\n",
            "RMSE: 1.2781\n",
            "Estimating biases using als...\n",
            "RMSE: 1.2753\n",
            "RMSE: 1.3189\n",
            "defaultdict(<class 'list'>, {<surprise.prediction_algorithms.slope_one.SlopeOne object at 0x7fefcfd67358>: ('SlopeOne', 1.2899596547058831, 0.93489081567116, 33.0334837436676), <surprise.prediction_algorithms.matrix_factorization.NMF object at 0x7fefd0d69748>: ('NMF', 2.1736896446623732, 0.9455542557421168, 11.628531455993652), <surprise.prediction_algorithms.random_pred.NormalPredictor object at 0x7fefd0d694e0>: ('NormalPredictor', 2.3092578952414677, 0.8292477138575391, 0.6623504161834717), <surprise.prediction_algorithms.knns.KNNBaseline object at 0x7fefd0d69940>: ('KNNBaseline', 1.2568965618802521, 0.9339419518610244, 8.9441499710083), <surprise.prediction_algorithms.knns.KNNBasic object at 0x7fefd0088eb8>: ('KNNBasic', 1.4082817552821536, 0.9262111202862615, 6.9816508293151855), <surprise.prediction_algorithms.knns.KNNWithMeans object at 0x7fefd0088dd8>: ('KNNWithMeans', 1.2836753692433605, 0.9327224210172158, 7.539180040359497), <surprise.prediction_algorithms.knns.KNNWithZScore object at 0x7fefd0088e80>: ('KNNWithZScore', 1.2781432055162434, 0.9312956846193815, 8.102929830551147), <surprise.prediction_algorithms.baseline_only.BaselineOnly object at 0x7fefd0088278>: ('BaselineOnly', 1.2752836977010618, 0.9349535125546659, 0.967902660369873), <surprise.prediction_algorithms.co_clustering.CoClustering object at 0x7fefd0088518>: ('CoClustering', 1.3189435181251432, 0.9239884393063552, 4.149548053741455)})\n"
          ],
          "name": "stdout"
        }
      ]
    },
    {
      "cell_type": "code",
      "metadata": {
        "id": "S5nqq5Y0H3Vc",
        "colab_type": "code",
        "colab": {
          "base_uri": "https://localhost:8080/",
          "height": 317
        },
        "outputId": "e74a64ac-343d-4d6a-fddf-20030f29b467"
      },
      "source": [
        "analysis_df = pd.DataFrame.from_dict(analysis, orient = 'index', columns = ['Algorithm', 'RMSE', 'Precision@10', 'Time to run (in seconds)']).reset_index()\n",
        "\n",
        "#analysis_df['Algorithm'] = [ 'SlopeOne', 'NMF', 'NormalPredictor', 'KNNBaseline', 'KNNBasic', 'KNNWithMeans', 'KNNWithZScore', 'BaselineOnly', 'CoClustering']\n",
        "analysis_df = analysis_df[['Algorithm', 'RMSE', 'Precision@10', 'Time to run (in seconds)']]\n",
        "analysis_df = analysis_df.sort_values(by=['Precision@10'], ascending = False)\n",
        "analysis_df['RMSE^-1'] = analysis_df['RMSE'] ** -1\n",
        "analysis_df.head(n = 15)"
      ],
      "execution_count": 129,
      "outputs": [
        {
          "output_type": "execute_result",
          "data": {
            "text/html": [
              "<div>\n",
              "<style scoped>\n",
              "    .dataframe tbody tr th:only-of-type {\n",
              "        vertical-align: middle;\n",
              "    }\n",
              "\n",
              "    .dataframe tbody tr th {\n",
              "        vertical-align: top;\n",
              "    }\n",
              "\n",
              "    .dataframe thead th {\n",
              "        text-align: right;\n",
              "    }\n",
              "</style>\n",
              "<table border=\"1\" class=\"dataframe\">\n",
              "  <thead>\n",
              "    <tr style=\"text-align: right;\">\n",
              "      <th></th>\n",
              "      <th>Algorithm</th>\n",
              "      <th>RMSE</th>\n",
              "      <th>Precision@10</th>\n",
              "      <th>Time to run (in seconds)</th>\n",
              "      <th>RMSE^-1</th>\n",
              "    </tr>\n",
              "  </thead>\n",
              "  <tbody>\n",
              "    <tr>\n",
              "      <th>1</th>\n",
              "      <td>NMF</td>\n",
              "      <td>2.173690</td>\n",
              "      <td>0.945554</td>\n",
              "      <td>11.628531</td>\n",
              "      <td>0.460047</td>\n",
              "    </tr>\n",
              "    <tr>\n",
              "      <th>7</th>\n",
              "      <td>BaselineOnly</td>\n",
              "      <td>1.275284</td>\n",
              "      <td>0.934954</td>\n",
              "      <td>0.967903</td>\n",
              "      <td>0.784139</td>\n",
              "    </tr>\n",
              "    <tr>\n",
              "      <th>0</th>\n",
              "      <td>SlopeOne</td>\n",
              "      <td>1.289960</td>\n",
              "      <td>0.934891</td>\n",
              "      <td>33.033484</td>\n",
              "      <td>0.775218</td>\n",
              "    </tr>\n",
              "    <tr>\n",
              "      <th>3</th>\n",
              "      <td>KNNBaseline</td>\n",
              "      <td>1.256897</td>\n",
              "      <td>0.933942</td>\n",
              "      <td>8.944150</td>\n",
              "      <td>0.795610</td>\n",
              "    </tr>\n",
              "    <tr>\n",
              "      <th>5</th>\n",
              "      <td>KNNWithMeans</td>\n",
              "      <td>1.283675</td>\n",
              "      <td>0.932722</td>\n",
              "      <td>7.539180</td>\n",
              "      <td>0.779013</td>\n",
              "    </tr>\n",
              "    <tr>\n",
              "      <th>6</th>\n",
              "      <td>KNNWithZScore</td>\n",
              "      <td>1.278143</td>\n",
              "      <td>0.931296</td>\n",
              "      <td>8.102930</td>\n",
              "      <td>0.782385</td>\n",
              "    </tr>\n",
              "    <tr>\n",
              "      <th>4</th>\n",
              "      <td>KNNBasic</td>\n",
              "      <td>1.408282</td>\n",
              "      <td>0.926211</td>\n",
              "      <td>6.981651</td>\n",
              "      <td>0.710085</td>\n",
              "    </tr>\n",
              "    <tr>\n",
              "      <th>8</th>\n",
              "      <td>CoClustering</td>\n",
              "      <td>1.318944</td>\n",
              "      <td>0.923988</td>\n",
              "      <td>4.149548</td>\n",
              "      <td>0.758183</td>\n",
              "    </tr>\n",
              "    <tr>\n",
              "      <th>2</th>\n",
              "      <td>NormalPredictor</td>\n",
              "      <td>2.309258</td>\n",
              "      <td>0.829248</td>\n",
              "      <td>0.662350</td>\n",
              "      <td>0.433040</td>\n",
              "    </tr>\n",
              "  </tbody>\n",
              "</table>\n",
              "</div>"
            ],
            "text/plain": [
              "         Algorithm      RMSE  Precision@10  Time to run (in seconds)   RMSE^-1\n",
              "1              NMF  2.173690      0.945554                 11.628531  0.460047\n",
              "7     BaselineOnly  1.275284      0.934954                  0.967903  0.784139\n",
              "0         SlopeOne  1.289960      0.934891                 33.033484  0.775218\n",
              "3      KNNBaseline  1.256897      0.933942                  8.944150  0.795610\n",
              "5     KNNWithMeans  1.283675      0.932722                  7.539180  0.779013\n",
              "6    KNNWithZScore  1.278143      0.931296                  8.102930  0.782385\n",
              "4         KNNBasic  1.408282      0.926211                  6.981651  0.710085\n",
              "8     CoClustering  1.318944      0.923988                  4.149548  0.758183\n",
              "2  NormalPredictor  2.309258      0.829248                  0.662350  0.433040"
            ]
          },
          "metadata": {
            "tags": []
          },
          "execution_count": 129
        }
      ]
    },
    {
      "cell_type": "markdown",
      "metadata": {
        "id": "SoJS2iiJQXup",
        "colab_type": "text"
      },
      "source": [
        "Going to use Baselineonly because it has a lower RMSE than NMF and the precision is less than 0.01. While the RMSE is less than about .9.\n",
        "It is the simplest algorithm. This is how it works accorrding to the defintion.\n",
        "\" For example, suppose that we want a baseline estimate for the rating of the movie Titanic by user Joe. Now, say that the average rating over all movies, μ, is 3.7 stars. Furthermore, Titanic is better than an average movie, so it tends to be rated 0.5 stars above the average. On the other hand, Joe is a critical user, who tends to rate 0.3 stars lower than the average. Thus, the baseline estimate for Titanic’s rating by Joe would be 3.9 stars by calculating 3.7 − 0.3 + 0.5. \""
      ]
    },
    {
      "cell_type": "code",
      "metadata": {
        "id": "iKBoYn5DJGLW",
        "colab_type": "code",
        "colab": {
          "base_uri": "https://localhost:8080/",
          "height": 1000
        },
        "outputId": "fe946085-ccdb-4810-c576-ccaadcc4a592"
      },
      "source": [
        "#Show the graph of the scores\n",
        "ax = analysis_df.set_index('RMSE^-1')['Precision@10'].plot(style='o', c = 'DarkBlue', figsize = (15, 20))\n",
        "                                                                                                                                                                                                                                                                                                                                                                                                                                                                                                                                                                                                                                                                                                                                                                                                                                                                                                                                                                                                                                    \n",
        "def label_point(x, y, val, ax):\n",
        "    a = pd.concat({'x': x, 'y': y, 'val': val}, axis=1)\n",
        "    for i, point in a.iterrows():\n",
        "        ax.text(point['x'], point['y'], str(point['val']))\n",
        "\n",
        "label_point(analysis_df['RMSE^-1'], analysis_df['Precision@10'], analysis_df['Algorithm'], ax)"
      ],
      "execution_count": 131,
      "outputs": [
        {
          "output_type": "display_data",
          "data": {
            "image/png": "[encoded data removed]",
            "text/plain": [
              "<Figure size 1080x1440 with 1 Axes>"
            ]
          },
          "metadata": {
            "tags": []
          }
        }
      ]
    },
    {
      "cell_type": "code",
      "metadata": {
        "id": "WfGIsq3YJJvs",
        "colab_type": "code",
        "colab": {}
      },
      "source": [
        "als_param_grid = {'bsl_options': {'method': ['als'],\n",
        "                              'reg_i': [5, 10, 15],\n",
        "                              'reg_u': [10, 15, 20],\n",
        "                              'n_epochs': [5, 10, 15, 20]\n",
        "                              }\n",
        "              }\n",
        "\n",
        "sgd_param_grid = {'bsl_options': {'method': ['sgd'],\n",
        "                              'reg': [0.01, 0.02, 0.03],\n",
        "                              'n_epochs': [5, 10, 15, 20],\n",
        "                              'learning_rate' : [0.001, 0.005, 0.01]\n",
        "                              }\n",
        "              }\n",
        "\n",
        "als_gs = sp.model_selection.GridSearchCV(sp.BaselineOnly, als_param_grid, measures=['rmse'], cv = 3, joblib_verbose = 0)\n",
        "\n",
        "sgd_gs = sp.model_selection.GridSearchCV(sp.BaselineOnly, sgd_param_grid, measures=['rmse'], cv = 3, joblib_verbose = 0)"
      ],
      "execution_count": 0,
      "outputs": []
    },
    {
      "cell_type": "code",
      "metadata": {
        "id": "JnezvIJjJMgK",
        "colab_type": "code",
        "colab": {
          "base_uri": "https://localhost:8080/",
          "height": 1000
        },
        "outputId": "14e17940-2736-4e52-8c23-dde2a75febaa"
      },
      "source": [
        "als_gs.fit(data)\n",
        "\n",
        "# best RMSE score\n",
        "print(als_gs.best_score['rmse'])\n",
        "\n",
        "# combination of parameters that gave the best RMSE score\n",
        "print(als_gs.best_params['rmse'])"
      ],
      "execution_count": 118,
      "outputs": [
        {
          "output_type": "stream",
          "text": [
            "Estimating biases using als...\n",
            "Estimating biases using als...\n",
            "Estimating biases using als...\n",
            "Estimating biases using als...\n",
            "Estimating biases using als...\n",
            "Estimating biases using als...\n",
            "Estimating biases using als...\n",
            "Estimating biases using als...\n",
            "Estimating biases using als...\n",
            "Estimating biases using als...\n",
            "Estimating biases using als...\n",
            "Estimating biases using als...\n",
            "Estimating biases using als...\n",
            "Estimating biases using als...\n",
            "Estimating biases using als...\n",
            "Estimating biases using als...\n",
            "Estimating biases using als...\n",
            "Estimating biases using als...\n",
            "Estimating biases using als...\n",
            "Estimating biases using als...\n",
            "Estimating biases using als...\n",
            "Estimating biases using als...\n",
            "Estimating biases using als...\n",
            "Estimating biases using als...\n",
            "Estimating biases using als...\n",
            "Estimating biases using als...\n",
            "Estimating biases using als...\n",
            "Estimating biases using als...\n",
            "Estimating biases using als...\n",
            "Estimating biases using als...\n",
            "Estimating biases using als...\n",
            "Estimating biases using als...\n",
            "Estimating biases using als...\n",
            "Estimating biases using als...\n",
            "Estimating biases using als...\n",
            "Estimating biases using als...\n",
            "Estimating biases using als...\n",
            "Estimating biases using als...\n",
            "Estimating biases using als...\n",
            "Estimating biases using als...\n",
            "Estimating biases using als...\n",
            "Estimating biases using als...\n",
            "Estimating biases using als...\n",
            "Estimating biases using als...\n",
            "Estimating biases using als...\n",
            "Estimating biases using als...\n",
            "Estimating biases using als...\n",
            "Estimating biases using als...\n",
            "Estimating biases using als...\n",
            "Estimating biases using als...\n",
            "Estimating biases using als...\n",
            "Estimating biases using als...\n",
            "Estimating biases using als...\n",
            "Estimating biases using als...\n",
            "Estimating biases using als...\n",
            "Estimating biases using als...\n",
            "Estimating biases using als...\n",
            "Estimating biases using als...\n",
            "Estimating biases using als...\n",
            "Estimating biases using als...\n",
            "Estimating biases using als...\n",
            "Estimating biases using als...\n",
            "Estimating biases using als...\n",
            "Estimating biases using als...\n",
            "Estimating biases using als...\n",
            "Estimating biases using als...\n",
            "Estimating biases using als...\n",
            "Estimating biases using als...\n",
            "Estimating biases using als...\n",
            "Estimating biases using als...\n",
            "Estimating biases using als...\n",
            "Estimating biases using als...\n",
            "Estimating biases using als...\n",
            "Estimating biases using als...\n",
            "Estimating biases using als...\n",
            "Estimating biases using als...\n",
            "Estimating biases using als...\n",
            "Estimating biases using als...\n",
            "Estimating biases using als...\n",
            "Estimating biases using als...\n",
            "Estimating biases using als...\n",
            "Estimating biases using als...\n",
            "Estimating biases using als...\n",
            "Estimating biases using als...\n",
            "Estimating biases using als...\n",
            "Estimating biases using als...\n",
            "Estimating biases using als...\n",
            "Estimating biases using als...\n",
            "Estimating biases using als...\n",
            "Estimating biases using als...\n",
            "Estimating biases using als...\n",
            "Estimating biases using als...\n",
            "Estimating biases using als...\n",
            "Estimating biases using als...\n",
            "Estimating biases using als...\n",
            "Estimating biases using als...\n",
            "Estimating biases using als...\n",
            "Estimating biases using als...\n",
            "Estimating biases using als...\n",
            "Estimating biases using als...\n",
            "Estimating biases using als...\n",
            "Estimating biases using als...\n",
            "Estimating biases using als...\n",
            "Estimating biases using als...\n",
            "Estimating biases using als...\n",
            "Estimating biases using als...\n",
            "Estimating biases using als...\n",
            "Estimating biases using als...\n",
            "1.2740993587367955\n",
            "{'bsl_options': {'method': 'als', 'reg_i': 5, 'reg_u': 10, 'n_epochs': 20}}\n"
          ],
          "name": "stdout"
        }
      ]
    },
    {
      "cell_type": "code",
      "metadata": {
        "id": "5YnwlaIyJOAm",
        "colab_type": "code",
        "colab": {
          "base_uri": "https://localhost:8080/",
          "height": 1000
        },
        "outputId": "b06969fa-39a8-4ba1-fdfe-c379c1ba3686"
      },
      "source": [
        "sgd_gs.fit(data)\n",
        "\n",
        "# best RMSE score\n",
        "print(sgd_gs.best_score['rmse'])\n",
        "\n",
        "# combination of parameters that gave the best RMSE score\n",
        "print(sgd_gs.best_params['rmse'])"
      ],
      "execution_count": 119,
      "outputs": [
        {
          "output_type": "stream",
          "text": [
            "Estimating biases using sgd...\n",
            "Estimating biases using sgd...\n",
            "Estimating biases using sgd...\n",
            "Estimating biases using sgd...\n",
            "Estimating biases using sgd...\n",
            "Estimating biases using sgd...\n",
            "Estimating biases using sgd...\n",
            "Estimating biases using sgd...\n",
            "Estimating biases using sgd...\n",
            "Estimating biases using sgd...\n",
            "Estimating biases using sgd...\n",
            "Estimating biases using sgd...\n",
            "Estimating biases using sgd...\n",
            "Estimating biases using sgd...\n",
            "Estimating biases using sgd...\n",
            "Estimating biases using sgd...\n",
            "Estimating biases using sgd...\n",
            "Estimating biases using sgd...\n",
            "Estimating biases using sgd...\n",
            "Estimating biases using sgd...\n",
            "Estimating biases using sgd...\n",
            "Estimating biases using sgd...\n",
            "Estimating biases using sgd...\n",
            "Estimating biases using sgd...\n",
            "Estimating biases using sgd...\n",
            "Estimating biases using sgd...\n",
            "Estimating biases using sgd...\n",
            "Estimating biases using sgd...\n",
            "Estimating biases using sgd...\n",
            "Estimating biases using sgd...\n",
            "Estimating biases using sgd...\n",
            "Estimating biases using sgd...\n",
            "Estimating biases using sgd...\n",
            "Estimating biases using sgd...\n",
            "Estimating biases using sgd...\n",
            "Estimating biases using sgd...\n",
            "Estimating biases using sgd...\n",
            "Estimating biases using sgd...\n",
            "Estimating biases using sgd...\n",
            "Estimating biases using sgd...\n",
            "Estimating biases using sgd...\n",
            "Estimating biases using sgd...\n",
            "Estimating biases using sgd...\n",
            "Estimating biases using sgd...\n",
            "Estimating biases using sgd...\n",
            "Estimating biases using sgd...\n",
            "Estimating biases using sgd...\n",
            "Estimating biases using sgd...\n",
            "Estimating biases using sgd...\n",
            "Estimating biases using sgd...\n",
            "Estimating biases using sgd...\n",
            "Estimating biases using sgd...\n",
            "Estimating biases using sgd...\n",
            "Estimating biases using sgd...\n",
            "Estimating biases using sgd...\n",
            "Estimating biases using sgd...\n",
            "Estimating biases using sgd...\n",
            "Estimating biases using sgd...\n",
            "Estimating biases using sgd...\n",
            "Estimating biases using sgd...\n",
            "Estimating biases using sgd...\n",
            "Estimating biases using sgd...\n",
            "Estimating biases using sgd...\n",
            "Estimating biases using sgd...\n",
            "Estimating biases using sgd...\n",
            "Estimating biases using sgd...\n",
            "Estimating biases using sgd...\n",
            "Estimating biases using sgd...\n",
            "Estimating biases using sgd...\n",
            "Estimating biases using sgd...\n",
            "Estimating biases using sgd...\n",
            "Estimating biases using sgd...\n",
            "Estimating biases using sgd...\n",
            "Estimating biases using sgd...\n",
            "Estimating biases using sgd...\n",
            "Estimating biases using sgd...\n",
            "Estimating biases using sgd...\n",
            "Estimating biases using sgd...\n",
            "Estimating biases using sgd...\n",
            "Estimating biases using sgd...\n",
            "Estimating biases using sgd...\n",
            "Estimating biases using sgd...\n",
            "Estimating biases using sgd...\n",
            "Estimating biases using sgd...\n",
            "Estimating biases using sgd...\n",
            "Estimating biases using sgd...\n",
            "Estimating biases using sgd...\n",
            "Estimating biases using sgd...\n",
            "Estimating biases using sgd...\n",
            "Estimating biases using sgd...\n",
            "Estimating biases using sgd...\n",
            "Estimating biases using sgd...\n",
            "Estimating biases using sgd...\n",
            "Estimating biases using sgd...\n",
            "Estimating biases using sgd...\n",
            "Estimating biases using sgd...\n",
            "Estimating biases using sgd...\n",
            "Estimating biases using sgd...\n",
            "Estimating biases using sgd...\n",
            "Estimating biases using sgd...\n",
            "Estimating biases using sgd...\n",
            "Estimating biases using sgd...\n",
            "Estimating biases using sgd...\n",
            "Estimating biases using sgd...\n",
            "Estimating biases using sgd...\n",
            "Estimating biases using sgd...\n",
            "Estimating biases using sgd...\n",
            "Estimating biases using sgd...\n",
            "1.2733116583070494\n",
            "{'bsl_options': {'method': 'sgd', 'reg': 0.01, 'n_epochs': 20, 'learning_rate': 0.01}}\n"
          ],
          "name": "stdout"
        }
      ]
    },
    {
      "cell_type": "markdown",
      "metadata": {
        "id": "jk8gmcptL8-j",
        "colab_type": "text"
      },
      "source": [
        "sgd is the better option but the error is .001 difference. I'm not gonna change anything."
      ]
    },
    {
      "cell_type": "code",
      "metadata": {
        "id": "542JTmJBJSQF",
        "colab_type": "code",
        "colab": {
          "base_uri": "https://localhost:8080/",
          "height": 34
        },
        "outputId": "fed73e24-b9a9-45e8-d81d-6b49beb65677"
      },
      "source": [
        "trainset = data.build_full_trainset()\n",
        "algo = sp.BaselineOnly()\n",
        "algo.fit(trainset)\n",
        "testset = trainset.build_anti_testset()\n",
        "predictions = algo.test(testset)\n",
        "    \n",
        "last_predictions = pd.DataFrame(predictions, columns=['uid', 'iid', 'rui', 'est', 'details'])\n",
        "last_predictions.drop('rui', inplace = True, axis = 1)"
      ],
      "execution_count": 120,
      "outputs": [
        {
          "output_type": "stream",
          "text": [
            "Estimating biases using als...\n"
          ],
          "name": "stdout"
        }
      ]
    },
    {
      "cell_type": "code",
      "metadata": {
        "id": "kaAOD_d3JUbC",
        "colab_type": "code",
        "colab": {}
      },
      "source": [
        "def bringing_first_n_values(df, uid, n=10):\n",
        "    df = df[df['uid'] == uid].nlargest(n, 'est')[['uid', 'iid', 'est']]\n",
        "    df = pd.merge(df, df_anime, left_on = 'iid', right_on = 'anime_id', how = 'left')\n",
        "    return df[['uid', 'est', 'title', 'genre', 'premiered']]"
      ],
      "execution_count": 0,
      "outputs": []
    },
    {
      "cell_type": "code",
      "metadata": {
        "id": "A-q5j32gNhQn",
        "colab_type": "code",
        "colab": {
          "base_uri": "https://localhost:8080/",
          "height": 347
        },
        "outputId": "754f8ef5-1c5e-4868-bde4-a8f9309a0df7"
      },
      "source": [
        "bringing_first_n_values(last_predictions, 'adam1x6')"
      ],
      "execution_count": 142,
      "outputs": [
        {
          "output_type": "execute_result",
          "data": {
            "text/html": [
              "<div>\n",
              "<style scoped>\n",
              "    .dataframe tbody tr th:only-of-type {\n",
              "        vertical-align: middle;\n",
              "    }\n",
              "\n",
              "    .dataframe tbody tr th {\n",
              "        vertical-align: top;\n",
              "    }\n",
              "\n",
              "    .dataframe thead th {\n",
              "        text-align: right;\n",
              "    }\n",
              "</style>\n",
              "<table border=\"1\" class=\"dataframe\">\n",
              "  <thead>\n",
              "    <tr style=\"text-align: right;\">\n",
              "      <th></th>\n",
              "      <th>uid</th>\n",
              "      <th>est</th>\n",
              "      <th>title</th>\n",
              "      <th>genre</th>\n",
              "      <th>premiered</th>\n",
              "    </tr>\n",
              "  </thead>\n",
              "  <tbody>\n",
              "    <tr>\n",
              "      <th>0</th>\n",
              "      <td>adam1x6</td>\n",
              "      <td>9.138323</td>\n",
              "      <td>Ginga Eiyuu Densetsu</td>\n",
              "      <td>Military, Sci-Fi, Space, Drama</td>\n",
              "      <td>NaN</td>\n",
              "    </tr>\n",
              "    <tr>\n",
              "      <th>1</th>\n",
              "      <td>adam1x6</td>\n",
              "      <td>9.104904</td>\n",
              "      <td>Owarimonogatari 2nd Season</td>\n",
              "      <td>Comedy, Mystery, Supernatural, Vampire</td>\n",
              "      <td>Summer 2017</td>\n",
              "    </tr>\n",
              "    <tr>\n",
              "      <th>2</th>\n",
              "      <td>adam1x6</td>\n",
              "      <td>9.100998</td>\n",
              "      <td>Gintama&amp;#039;</td>\n",
              "      <td>Action, Sci-Fi, Comedy, Historical, Parody, Sa...</td>\n",
              "      <td>Spring 2011</td>\n",
              "    </tr>\n",
              "    <tr>\n",
              "      <th>3</th>\n",
              "      <td>adam1x6</td>\n",
              "      <td>9.075769</td>\n",
              "      <td>Made in Abyss</td>\n",
              "      <td>Sci-Fi, Adventure, Mystery, Drama, Fantasy</td>\n",
              "      <td>Summer 2017</td>\n",
              "    </tr>\n",
              "    <tr>\n",
              "      <th>4</th>\n",
              "      <td>adam1x6</td>\n",
              "      <td>9.059361</td>\n",
              "      <td>Kimi no Na wa.</td>\n",
              "      <td>Supernatural, Drama, Romance, School</td>\n",
              "      <td>NaN</td>\n",
              "    </tr>\n",
              "    <tr>\n",
              "      <th>5</th>\n",
              "      <td>adam1x6</td>\n",
              "      <td>9.054259</td>\n",
              "      <td>3-gatsu no Lion 2nd Season</td>\n",
              "      <td>Drama, Game, Seinen, Slice of Life</td>\n",
              "      <td>Fall 2017</td>\n",
              "    </tr>\n",
              "    <tr>\n",
              "      <th>6</th>\n",
              "      <td>adam1x6</td>\n",
              "      <td>9.016938</td>\n",
              "      <td>Gintama°</td>\n",
              "      <td>Action, Comedy, Historical, Parody, Samurai, S...</td>\n",
              "      <td>Spring 2015</td>\n",
              "    </tr>\n",
              "    <tr>\n",
              "      <th>7</th>\n",
              "      <td>adam1x6</td>\n",
              "      <td>9.004694</td>\n",
              "      <td>Kizumonogatari III: Reiketsu-hen</td>\n",
              "      <td>Action, Mystery, Supernatural, Vampire</td>\n",
              "      <td>NaN</td>\n",
              "    </tr>\n",
              "    <tr>\n",
              "      <th>8</th>\n",
              "      <td>adam1x6</td>\n",
              "      <td>8.993671</td>\n",
              "      <td>Gintama&amp;#039;: Enchousen</td>\n",
              "      <td>Action, Comedy, Historical, Parody, Samurai, S...</td>\n",
              "      <td>Fall 2012</td>\n",
              "    </tr>\n",
              "    <tr>\n",
              "      <th>9</th>\n",
              "      <td>adam1x6</td>\n",
              "      <td>8.969301</td>\n",
              "      <td>Mushishi Zoku Shou 2nd Season</td>\n",
              "      <td>Adventure, Fantasy, Historical, Mystery, Seine...</td>\n",
              "      <td>Fall 2014</td>\n",
              "    </tr>\n",
              "  </tbody>\n",
              "</table>\n",
              "</div>"
            ],
            "text/plain": [
              "       uid  ...    premiered\n",
              "0  adam1x6  ...          NaN\n",
              "1  adam1x6  ...  Summer 2017\n",
              "2  adam1x6  ...  Spring 2011\n",
              "3  adam1x6  ...  Summer 2017\n",
              "4  adam1x6  ...          NaN\n",
              "5  adam1x6  ...    Fall 2017\n",
              "6  adam1x6  ...  Spring 2015\n",
              "7  adam1x6  ...          NaN\n",
              "8  adam1x6  ...    Fall 2012\n",
              "9  adam1x6  ...    Fall 2014\n",
              "\n",
              "[10 rows x 5 columns]"
            ]
          },
          "metadata": {
            "tags": []
          },
          "execution_count": 142
        }
      ]
    },
    {
      "cell_type": "code",
      "metadata": {
        "id": "v7pu9WOwral3",
        "colab_type": "code",
        "colab": {
          "base_uri": "https://localhost:8080/",
          "height": 347
        },
        "outputId": "1c7c1cfa-a4c9-4b7c-ecb0-310129b72a3b"
      },
      "source": [
        "bringing_first_n_values(last_predictions, 'r0idzipoo')"
      ],
      "execution_count": 143,
      "outputs": [
        {
          "output_type": "execute_result",
          "data": {
            "text/html": [
              "<div>\n",
              "<style scoped>\n",
              "    .dataframe tbody tr th:only-of-type {\n",
              "        vertical-align: middle;\n",
              "    }\n",
              "\n",
              "    .dataframe tbody tr th {\n",
              "        vertical-align: top;\n",
              "    }\n",
              "\n",
              "    .dataframe thead th {\n",
              "        text-align: right;\n",
              "    }\n",
              "</style>\n",
              "<table border=\"1\" class=\"dataframe\">\n",
              "  <thead>\n",
              "    <tr style=\"text-align: right;\">\n",
              "      <th></th>\n",
              "      <th>uid</th>\n",
              "      <th>est</th>\n",
              "      <th>title</th>\n",
              "      <th>genre</th>\n",
              "      <th>premiered</th>\n",
              "    </tr>\n",
              "  </thead>\n",
              "  <tbody>\n",
              "    <tr>\n",
              "      <th>0</th>\n",
              "      <td>r0idzipoo</td>\n",
              "      <td>9.991368</td>\n",
              "      <td>Fullmetal Alchemist: Brotherhood</td>\n",
              "      <td>Action, Military, Adventure, Comedy, Drama, Ma...</td>\n",
              "      <td>Spring 2009</td>\n",
              "    </tr>\n",
              "    <tr>\n",
              "      <th>1</th>\n",
              "      <td>r0idzipoo</td>\n",
              "      <td>9.934125</td>\n",
              "      <td>Steins;Gate</td>\n",
              "      <td>Thriller, Sci-Fi</td>\n",
              "      <td>Spring 2011</td>\n",
              "    </tr>\n",
              "    <tr>\n",
              "      <th>2</th>\n",
              "      <td>r0idzipoo</td>\n",
              "      <td>9.885846</td>\n",
              "      <td>Ginga Eiyuu Densetsu</td>\n",
              "      <td>Military, Sci-Fi, Space, Drama</td>\n",
              "      <td>NaN</td>\n",
              "    </tr>\n",
              "    <tr>\n",
              "      <th>3</th>\n",
              "      <td>r0idzipoo</td>\n",
              "      <td>9.852426</td>\n",
              "      <td>Owarimonogatari 2nd Season</td>\n",
              "      <td>Comedy, Mystery, Supernatural, Vampire</td>\n",
              "      <td>Summer 2017</td>\n",
              "    </tr>\n",
              "    <tr>\n",
              "      <th>4</th>\n",
              "      <td>r0idzipoo</td>\n",
              "      <td>9.848521</td>\n",
              "      <td>Gintama&amp;#039;</td>\n",
              "      <td>Action, Sci-Fi, Comedy, Historical, Parody, Sa...</td>\n",
              "      <td>Spring 2011</td>\n",
              "    </tr>\n",
              "    <tr>\n",
              "      <th>5</th>\n",
              "      <td>r0idzipoo</td>\n",
              "      <td>9.823291</td>\n",
              "      <td>Made in Abyss</td>\n",
              "      <td>Sci-Fi, Adventure, Mystery, Drama, Fantasy</td>\n",
              "      <td>Summer 2017</td>\n",
              "    </tr>\n",
              "    <tr>\n",
              "      <th>6</th>\n",
              "      <td>r0idzipoo</td>\n",
              "      <td>9.806884</td>\n",
              "      <td>Kimi no Na wa.</td>\n",
              "      <td>Supernatural, Drama, Romance, School</td>\n",
              "      <td>NaN</td>\n",
              "    </tr>\n",
              "    <tr>\n",
              "      <th>7</th>\n",
              "      <td>r0idzipoo</td>\n",
              "      <td>9.801782</td>\n",
              "      <td>3-gatsu no Lion 2nd Season</td>\n",
              "      <td>Drama, Game, Seinen, Slice of Life</td>\n",
              "      <td>Fall 2017</td>\n",
              "    </tr>\n",
              "    <tr>\n",
              "      <th>8</th>\n",
              "      <td>r0idzipoo</td>\n",
              "      <td>9.764460</td>\n",
              "      <td>Gintama°</td>\n",
              "      <td>Action, Comedy, Historical, Parody, Samurai, S...</td>\n",
              "      <td>Spring 2015</td>\n",
              "    </tr>\n",
              "    <tr>\n",
              "      <th>9</th>\n",
              "      <td>r0idzipoo</td>\n",
              "      <td>9.752216</td>\n",
              "      <td>Kizumonogatari III: Reiketsu-hen</td>\n",
              "      <td>Action, Mystery, Supernatural, Vampire</td>\n",
              "      <td>NaN</td>\n",
              "    </tr>\n",
              "  </tbody>\n",
              "</table>\n",
              "</div>"
            ],
            "text/plain": [
              "         uid  ...    premiered\n",
              "0  r0idzipoo  ...  Spring 2009\n",
              "1  r0idzipoo  ...  Spring 2011\n",
              "2  r0idzipoo  ...          NaN\n",
              "3  r0idzipoo  ...  Summer 2017\n",
              "4  r0idzipoo  ...  Spring 2011\n",
              "5  r0idzipoo  ...  Summer 2017\n",
              "6  r0idzipoo  ...          NaN\n",
              "7  r0idzipoo  ...    Fall 2017\n",
              "8  r0idzipoo  ...  Spring 2015\n",
              "9  r0idzipoo  ...          NaN\n",
              "\n",
              "[10 rows x 5 columns]"
            ]
          },
          "metadata": {
            "tags": []
          },
          "execution_count": 143
        }
      ]
    },
    {
      "cell_type": "markdown",
      "metadata": {
        "id": "S75dpCEJO0bq",
        "colab_type": "text"
      },
      "source": [
        "This is an item-based recommender."
      ]
    },
    {
      "cell_type": "code",
      "metadata": {
        "id": "j8nx_EAdO6lT",
        "colab_type": "code",
        "colab": {
          "base_uri": "https://localhost:8080/",
          "height": 87
        },
        "outputId": "8d5c7186-6c95-4de7-ae01-14c6a0911da8"
      },
      "source": [
        "sim_options = {'name': 'pearson_baseline', 'user_based': False}\n",
        "algo_items = sp.KNNBaseline(sim_options=sim_options)\n",
        "algo_items.fit(trainset)"
      ],
      "execution_count": 127,
      "outputs": [
        {
          "output_type": "stream",
          "text": [
            "Estimating biases using als...\n",
            "Computing the pearson_baseline similarity matrix...\n",
            "Done computing similarity matrix.\n"
          ],
          "name": "stdout"
        },
        {
          "output_type": "execute_result",
          "data": {
            "text/plain": [
              "<surprise.prediction_algorithms.knns.KNNBaseline at 0x7fefd0d69828>"
            ]
          },
          "metadata": {
            "tags": []
          },
          "execution_count": 127
        }
      ]
    },
    {
      "cell_type": "code",
      "metadata": {
        "id": "mRPNzX1gPAre",
        "colab_type": "code",
        "colab": {}
      },
      "source": [
        "def get_item_recommendations(anime_title, anime_id=100000, k=10):\n",
        "    if anime_id == 100000:     \n",
        "        anime_id = df_anime[df_anime['title'] == anime_title]['anime_id'].iloc[0]\n",
        "        \n",
        "    iid = algo_items.trainset.to_inner_iid(anime_id)\n",
        "    neighbors = algo_items.get_neighbors(iid, k=k)\n",
        "    raw_neighbors = (algo.trainset.to_raw_iid(inner_id) for inner_id in neighbors)\n",
        "    df = pd.DataFrame(raw_neighbors, columns = ['Anime_ID'])\n",
        "    df = pd.merge(df, df_anime, left_on = 'Anime_ID', right_on = 'anime_id', how = 'left')\n",
        "    return df[['Anime_ID', 'title', 'genre', 'score', 'premiered']]"
      ],
      "execution_count": 0,
      "outputs": []
    },
    {
      "cell_type": "code",
      "metadata": {
        "id": "YIGtGcpKPp8l",
        "colab_type": "code",
        "colab": {
          "base_uri": "https://localhost:8080/",
          "height": 947
        },
        "outputId": "defdc0b9-d17a-4187-a284-0b19e5ed7750"
      },
      "source": [
        "get_item_recommendations('One Piece', k=30)"
      ],
      "execution_count": 138,
      "outputs": [
        {
          "output_type": "execute_result",
          "data": {
            "text/html": [
              "<div>\n",
              "<style scoped>\n",
              "    .dataframe tbody tr th:only-of-type {\n",
              "        vertical-align: middle;\n",
              "    }\n",
              "\n",
              "    .dataframe tbody tr th {\n",
              "        vertical-align: top;\n",
              "    }\n",
              "\n",
              "    .dataframe thead th {\n",
              "        text-align: right;\n",
              "    }\n",
              "</style>\n",
              "<table border=\"1\" class=\"dataframe\">\n",
              "  <thead>\n",
              "    <tr style=\"text-align: right;\">\n",
              "      <th></th>\n",
              "      <th>Anime_ID</th>\n",
              "      <th>title</th>\n",
              "      <th>genre</th>\n",
              "      <th>score</th>\n",
              "      <th>premiered</th>\n",
              "    </tr>\n",
              "  </thead>\n",
              "  <tbody>\n",
              "    <tr>\n",
              "      <th>0</th>\n",
              "      <td>11061</td>\n",
              "      <td>Hunter x Hunter (2011)</td>\n",
              "      <td>Action, Adventure, Super Power, Shounen</td>\n",
              "      <td>9.11</td>\n",
              "      <td>Fall 2011</td>\n",
              "    </tr>\n",
              "    <tr>\n",
              "      <th>1</th>\n",
              "      <td>15</td>\n",
              "      <td>Eyeshield 21</td>\n",
              "      <td>Action, Sports, Comedy, Shounen</td>\n",
              "      <td>8.05</td>\n",
              "      <td>Spring 2005</td>\n",
              "    </tr>\n",
              "    <tr>\n",
              "      <th>2</th>\n",
              "      <td>6702</td>\n",
              "      <td>Fairy Tail</td>\n",
              "      <td>Action, Adventure, Comedy, Magic, Fantasy, Sho...</td>\n",
              "      <td>8.08</td>\n",
              "      <td>Fall 2009</td>\n",
              "    </tr>\n",
              "    <tr>\n",
              "      <th>3</th>\n",
              "      <td>16498</td>\n",
              "      <td>Shingeki no Kyojin</td>\n",
              "      <td>Action, Military, Mystery, Super Power, Drama,...</td>\n",
              "      <td>8.49</td>\n",
              "      <td>Spring 2013</td>\n",
              "    </tr>\n",
              "    <tr>\n",
              "      <th>4</th>\n",
              "      <td>1604</td>\n",
              "      <td>Katekyo Hitman Reborn!</td>\n",
              "      <td>Action, Comedy, Shounen, Super Power</td>\n",
              "      <td>8.31</td>\n",
              "      <td>Fall 2006</td>\n",
              "    </tr>\n",
              "    <tr>\n",
              "      <th>5</th>\n",
              "      <td>235</td>\n",
              "      <td>Detective Conan</td>\n",
              "      <td>Adventure, Mystery, Comedy, Police, Shounen</td>\n",
              "      <td>8.25</td>\n",
              "      <td>Winter 1996</td>\n",
              "    </tr>\n",
              "    <tr>\n",
              "      <th>6</th>\n",
              "      <td>18115</td>\n",
              "      <td>Magi: The Kingdom of Magic</td>\n",
              "      <td>Action, Adventure, Magic, Fantasy, Shounen</td>\n",
              "      <td>8.44</td>\n",
              "      <td>Fall 2013</td>\n",
              "    </tr>\n",
              "    <tr>\n",
              "      <th>7</th>\n",
              "      <td>9253</td>\n",
              "      <td>Steins;Gate</td>\n",
              "      <td>Thriller, Sci-Fi</td>\n",
              "      <td>9.14</td>\n",
              "      <td>Spring 2011</td>\n",
              "    </tr>\n",
              "    <tr>\n",
              "      <th>8</th>\n",
              "      <td>170</td>\n",
              "      <td>Slam Dunk</td>\n",
              "      <td>Comedy, Sports, Drama, School, Shounen</td>\n",
              "      <td>8.55</td>\n",
              "      <td>Fall 1993</td>\n",
              "    </tr>\n",
              "    <tr>\n",
              "      <th>9</th>\n",
              "      <td>469</td>\n",
              "      <td>Karin</td>\n",
              "      <td>Comedy, Romance, Vampire, School, Shounen</td>\n",
              "      <td>7.28</td>\n",
              "      <td>Fall 2005</td>\n",
              "    </tr>\n",
              "    <tr>\n",
              "      <th>10</th>\n",
              "      <td>121</td>\n",
              "      <td>Fullmetal Alchemist</td>\n",
              "      <td>Action, Adventure, Comedy, Drama, Fantasy, Mag...</td>\n",
              "      <td>8.29</td>\n",
              "      <td>Fall 2003</td>\n",
              "    </tr>\n",
              "    <tr>\n",
              "      <th>11</th>\n",
              "      <td>18689</td>\n",
              "      <td>Diamond no Ace</td>\n",
              "      <td>Comedy, School, Shounen, Sports</td>\n",
              "      <td>8.20</td>\n",
              "      <td>Fall 2013</td>\n",
              "    </tr>\n",
              "    <tr>\n",
              "      <th>12</th>\n",
              "      <td>30276</td>\n",
              "      <td>One Punch Man</td>\n",
              "      <td>Action, Sci-Fi, Comedy, Parody, Super Power, S...</td>\n",
              "      <td>8.73</td>\n",
              "      <td>Fall 2015</td>\n",
              "    </tr>\n",
              "    <tr>\n",
              "      <th>13</th>\n",
              "      <td>1571</td>\n",
              "      <td>Ghost Hunt</td>\n",
              "      <td>Comedy, Horror, Mystery, Shoujo, Supernatural</td>\n",
              "      <td>7.92</td>\n",
              "      <td>Fall 2006</td>\n",
              "    </tr>\n",
              "    <tr>\n",
              "      <th>14</th>\n",
              "      <td>5252</td>\n",
              "      <td>One Piece: Romance Dawn Story</td>\n",
              "      <td>Action, Fantasy, Comedy, Super Power, Shounen</td>\n",
              "      <td>7.50</td>\n",
              "      <td>NaN</td>\n",
              "    </tr>\n",
              "    <tr>\n",
              "      <th>15</th>\n",
              "      <td>457</td>\n",
              "      <td>Mushishi</td>\n",
              "      <td>Adventure, Fantasy, Historical, Mystery, Seine...</td>\n",
              "      <td>8.74</td>\n",
              "      <td>Fall 2005</td>\n",
              "    </tr>\n",
              "    <tr>\n",
              "      <th>16</th>\n",
              "      <td>25777</td>\n",
              "      <td>Shingeki no Kyojin Season 2</td>\n",
              "      <td>Action, Military, Mystery, Super Power, Drama,...</td>\n",
              "      <td>8.47</td>\n",
              "      <td>Spring 2017</td>\n",
              "    </tr>\n",
              "    <tr>\n",
              "      <th>17</th>\n",
              "      <td>23283</td>\n",
              "      <td>Zankyou no Terror</td>\n",
              "      <td>Mystery, Psychological, Thriller</td>\n",
              "      <td>8.21</td>\n",
              "      <td>Summer 2014</td>\n",
              "    </tr>\n",
              "    <tr>\n",
              "      <th>18</th>\n",
              "      <td>25781</td>\n",
              "      <td>Shingeki no Kyojin: Kuinaki Sentaku</td>\n",
              "      <td>Action, Fantasy, Shoujo</td>\n",
              "      <td>8.42</td>\n",
              "      <td>NaN</td>\n",
              "    </tr>\n",
              "    <tr>\n",
              "      <th>19</th>\n",
              "      <td>9941</td>\n",
              "      <td>Tiger &amp; Bunny</td>\n",
              "      <td>Action, Mystery, Comedy, Super Power</td>\n",
              "      <td>8.06</td>\n",
              "      <td>Spring 2011</td>\n",
              "    </tr>\n",
              "    <tr>\n",
              "      <th>20</th>\n",
              "      <td>8740</td>\n",
              "      <td>One Piece Film: Strong World Episode 0</td>\n",
              "      <td>Action, Adventure, Comedy, Fantasy, Shounen, S...</td>\n",
              "      <td>8.12</td>\n",
              "      <td>NaN</td>\n",
              "    </tr>\n",
              "    <tr>\n",
              "      <th>21</th>\n",
              "      <td>11843</td>\n",
              "      <td>Danshi Koukousei no Nichijou</td>\n",
              "      <td>Slice of Life, Comedy, School</td>\n",
              "      <td>8.34</td>\n",
              "      <td>Winter 2012</td>\n",
              "    </tr>\n",
              "    <tr>\n",
              "      <th>22</th>\n",
              "      <td>3002</td>\n",
              "      <td>Gyakkyou Burai Kaiji: Ultimate Survivor</td>\n",
              "      <td>Game, Psychological, Seinen, Thriller</td>\n",
              "      <td>8.32</td>\n",
              "      <td>Fall 2007</td>\n",
              "    </tr>\n",
              "    <tr>\n",
              "      <th>23</th>\n",
              "      <td>2904</td>\n",
              "      <td>Code Geass: Hangyaku no Lelouch R2</td>\n",
              "      <td>Action, Military, Sci-Fi, Super Power, Drama, ...</td>\n",
              "      <td>8.95</td>\n",
              "      <td>Spring 2008</td>\n",
              "    </tr>\n",
              "    <tr>\n",
              "      <th>24</th>\n",
              "      <td>15417</td>\n",
              "      <td>Gintama&amp;#039;: Enchousen</td>\n",
              "      <td>Action, Comedy, Historical, Parody, Samurai, S...</td>\n",
              "      <td>9.07</td>\n",
              "      <td>Fall 2012</td>\n",
              "    </tr>\n",
              "    <tr>\n",
              "      <th>25</th>\n",
              "      <td>2116</td>\n",
              "      <td>Captain Tsubasa</td>\n",
              "      <td>Action, Shounen, Sports</td>\n",
              "      <td>7.36</td>\n",
              "      <td>Fall 1983</td>\n",
              "    </tr>\n",
              "    <tr>\n",
              "      <th>26</th>\n",
              "      <td>21339</td>\n",
              "      <td>Psycho-Pass Movie</td>\n",
              "      <td>Action, Military, Police, Sci-Fi</td>\n",
              "      <td>7.87</td>\n",
              "      <td>NaN</td>\n",
              "    </tr>\n",
              "    <tr>\n",
              "      <th>27</th>\n",
              "      <td>17549</td>\n",
              "      <td>Non Non Biyori</td>\n",
              "      <td>Comedy, School, Seinen, Slice of Life</td>\n",
              "      <td>8.01</td>\n",
              "      <td>Fall 2013</td>\n",
              "    </tr>\n",
              "    <tr>\n",
              "      <th>28</th>\n",
              "      <td>7472</td>\n",
              "      <td>Gintama Movie 1: Shinyaku Benizakura-hen</td>\n",
              "      <td>Action, Sci-Fi, Comedy, Historical, Parody, Sa...</td>\n",
              "      <td>8.57</td>\n",
              "      <td>NaN</td>\n",
              "    </tr>\n",
              "    <tr>\n",
              "      <th>29</th>\n",
              "      <td>6945</td>\n",
              "      <td>Gintama: Shiroyasha Koutan</td>\n",
              "      <td>Action, Sci-Fi, Comedy, Historical, Parody</td>\n",
              "      <td>8.37</td>\n",
              "      <td>NaN</td>\n",
              "    </tr>\n",
              "  </tbody>\n",
              "</table>\n",
              "</div>"
            ],
            "text/plain": [
              "    Anime_ID                                     title  ... score    premiered\n",
              "0      11061                    Hunter x Hunter (2011)  ...  9.11    Fall 2011\n",
              "1         15                              Eyeshield 21  ...  8.05  Spring 2005\n",
              "2       6702                                Fairy Tail  ...  8.08    Fall 2009\n",
              "3      16498                        Shingeki no Kyojin  ...  8.49  Spring 2013\n",
              "4       1604                    Katekyo Hitman Reborn!  ...  8.31    Fall 2006\n",
              "5        235                           Detective Conan  ...  8.25  Winter 1996\n",
              "6      18115                Magi: The Kingdom of Magic  ...  8.44    Fall 2013\n",
              "7       9253                               Steins;Gate  ...  9.14  Spring 2011\n",
              "8        170                                 Slam Dunk  ...  8.55    Fall 1993\n",
              "9        469                                     Karin  ...  7.28    Fall 2005\n",
              "10       121                       Fullmetal Alchemist  ...  8.29    Fall 2003\n",
              "11     18689                            Diamond no Ace  ...  8.20    Fall 2013\n",
              "12     30276                             One Punch Man  ...  8.73    Fall 2015\n",
              "13      1571                                Ghost Hunt  ...  7.92    Fall 2006\n",
              "14      5252             One Piece: Romance Dawn Story  ...  7.50          NaN\n",
              "15       457                                  Mushishi  ...  8.74    Fall 2005\n",
              "16     25777               Shingeki no Kyojin Season 2  ...  8.47  Spring 2017\n",
              "17     23283                         Zankyou no Terror  ...  8.21  Summer 2014\n",
              "18     25781       Shingeki no Kyojin: Kuinaki Sentaku  ...  8.42          NaN\n",
              "19      9941                             Tiger & Bunny  ...  8.06  Spring 2011\n",
              "20      8740    One Piece Film: Strong World Episode 0  ...  8.12          NaN\n",
              "21     11843              Danshi Koukousei no Nichijou  ...  8.34  Winter 2012\n",
              "22      3002   Gyakkyou Burai Kaiji: Ultimate Survivor  ...  8.32    Fall 2007\n",
              "23      2904        Code Geass: Hangyaku no Lelouch R2  ...  8.95  Spring 2008\n",
              "24     15417                  Gintama&#039;: Enchousen  ...  9.07    Fall 2012\n",
              "25      2116                           Captain Tsubasa  ...  7.36    Fall 1983\n",
              "26     21339                         Psycho-Pass Movie  ...  7.87          NaN\n",
              "27     17549                            Non Non Biyori  ...  8.01    Fall 2013\n",
              "28      7472  Gintama Movie 1: Shinyaku Benizakura-hen  ...  8.57          NaN\n",
              "29      6945                Gintama: Shiroyasha Koutan  ...  8.37          NaN\n",
              "\n",
              "[30 rows x 5 columns]"
            ]
          },
          "metadata": {
            "tags": []
          },
          "execution_count": 138
        }
      ]
    },
    {
      "cell_type": "code",
      "metadata": {
        "id": "vRd_kU5BPy72",
        "colab_type": "code",
        "colab": {
          "base_uri": "https://localhost:8080/",
          "height": 947
        },
        "outputId": "67f69e3d-60f3-4cca-ec0c-976be6688923"
      },
      "source": [
        "get_item_recommendations('Berserk', k=30)"
      ],
      "execution_count": 139,
      "outputs": [
        {
          "output_type": "execute_result",
          "data": {
            "text/html": [
              "<div>\n",
              "<style scoped>\n",
              "    .dataframe tbody tr th:only-of-type {\n",
              "        vertical-align: middle;\n",
              "    }\n",
              "\n",
              "    .dataframe tbody tr th {\n",
              "        vertical-align: top;\n",
              "    }\n",
              "\n",
              "    .dataframe thead th {\n",
              "        text-align: right;\n",
              "    }\n",
              "</style>\n",
              "<table border=\"1\" class=\"dataframe\">\n",
              "  <thead>\n",
              "    <tr style=\"text-align: right;\">\n",
              "      <th></th>\n",
              "      <th>Anime_ID</th>\n",
              "      <th>title</th>\n",
              "      <th>genre</th>\n",
              "      <th>score</th>\n",
              "      <th>premiered</th>\n",
              "    </tr>\n",
              "  </thead>\n",
              "  <tbody>\n",
              "    <tr>\n",
              "      <th>0</th>\n",
              "      <td>34055</td>\n",
              "      <td>Berserk 2nd Season</td>\n",
              "      <td>Action, Adventure, Demons, Drama, Fantasy, Hor...</td>\n",
              "      <td>7.09</td>\n",
              "      <td>Spring 2017</td>\n",
              "    </tr>\n",
              "    <tr>\n",
              "      <th>1</th>\n",
              "      <td>27899</td>\n",
              "      <td>Tokyo Ghoul √A</td>\n",
              "      <td>Action, Mystery, Horror, Psychological, Supern...</td>\n",
              "      <td>7.45</td>\n",
              "      <td>Winter 2015</td>\n",
              "    </tr>\n",
              "    <tr>\n",
              "      <th>2</th>\n",
              "      <td>10620</td>\n",
              "      <td>Mirai Nikki (TV)</td>\n",
              "      <td>Action, Psychological, Supernatural, Thriller,...</td>\n",
              "      <td>7.89</td>\n",
              "      <td>Fall 2011</td>\n",
              "    </tr>\n",
              "    <tr>\n",
              "      <th>3</th>\n",
              "      <td>15451</td>\n",
              "      <td>High School DxD New</td>\n",
              "      <td>Action, Harem, Comedy, Demons, Romance, Ecchi,...</td>\n",
              "      <td>7.79</td>\n",
              "      <td>Summer 2013</td>\n",
              "    </tr>\n",
              "    <tr>\n",
              "      <th>4</th>\n",
              "      <td>20785</td>\n",
              "      <td>Mahouka Koukou no Rettousei</td>\n",
              "      <td>Action, Sci-Fi, Supernatural, Magic, Romance, ...</td>\n",
              "      <td>7.74</td>\n",
              "      <td>Spring 2014</td>\n",
              "    </tr>\n",
              "    <tr>\n",
              "      <th>5</th>\n",
              "      <td>10218</td>\n",
              "      <td>Berserk: Ougon Jidai-hen I - Haou no Tamago</td>\n",
              "      <td>Action, Military, Adventure, Demons, Supernatu...</td>\n",
              "      <td>7.88</td>\n",
              "      <td>NaN</td>\n",
              "    </tr>\n",
              "    <tr>\n",
              "      <th>6</th>\n",
              "      <td>11757</td>\n",
              "      <td>Sword Art Online</td>\n",
              "      <td>Action, Adventure, Fantasy, Game, Romance</td>\n",
              "      <td>7.64</td>\n",
              "      <td>Summer 2012</td>\n",
              "    </tr>\n",
              "    <tr>\n",
              "      <th>7</th>\n",
              "      <td>6702</td>\n",
              "      <td>Fairy Tail</td>\n",
              "      <td>Action, Adventure, Comedy, Magic, Fantasy, Sho...</td>\n",
              "      <td>8.08</td>\n",
              "      <td>Fall 2009</td>\n",
              "    </tr>\n",
              "    <tr>\n",
              "      <th>8</th>\n",
              "      <td>11111</td>\n",
              "      <td>Another</td>\n",
              "      <td>Mystery, Horror, Supernatural, Thriller, School</td>\n",
              "      <td>7.77</td>\n",
              "      <td>Winter 2012</td>\n",
              "    </tr>\n",
              "    <tr>\n",
              "      <th>9</th>\n",
              "      <td>22319</td>\n",
              "      <td>Tokyo Ghoul</td>\n",
              "      <td>Action, Mystery, Horror, Psychological, Supern...</td>\n",
              "      <td>8.00</td>\n",
              "      <td>Summer 2014</td>\n",
              "    </tr>\n",
              "    <tr>\n",
              "      <th>10</th>\n",
              "      <td>22043</td>\n",
              "      <td>Fairy Tail (2014)</td>\n",
              "      <td>Action, Adventure, Comedy, Fantasy, Magic, Sho...</td>\n",
              "      <td>8.13</td>\n",
              "      <td>Spring 2014</td>\n",
              "    </tr>\n",
              "    <tr>\n",
              "      <th>11</th>\n",
              "      <td>31043</td>\n",
              "      <td>Boku dake ga Inai Machi</td>\n",
              "      <td>Mystery, Psychological, Seinen, Supernatural</td>\n",
              "      <td>8.56</td>\n",
              "      <td>Winter 2016</td>\n",
              "    </tr>\n",
              "    <tr>\n",
              "      <th>12</th>\n",
              "      <td>3712</td>\n",
              "      <td>Zero no Tsukaima: Princesses no Rondo</td>\n",
              "      <td>Action, Adventure, Harem, Comedy, Magic, Roman...</td>\n",
              "      <td>7.56</td>\n",
              "      <td>Summer 2008</td>\n",
              "    </tr>\n",
              "    <tr>\n",
              "      <th>13</th>\n",
              "      <td>31798</td>\n",
              "      <td>Kiznaiver</td>\n",
              "      <td>Sci-Fi, Drama, Romance</td>\n",
              "      <td>7.59</td>\n",
              "      <td>Spring 2016</td>\n",
              "    </tr>\n",
              "    <tr>\n",
              "      <th>14</th>\n",
              "      <td>11617</td>\n",
              "      <td>High School DxD</td>\n",
              "      <td>Comedy, Demons, Ecchi, Harem, Romance, School</td>\n",
              "      <td>7.62</td>\n",
              "      <td>Winter 2012</td>\n",
              "    </tr>\n",
              "    <tr>\n",
              "      <th>15</th>\n",
              "      <td>23847</td>\n",
              "      <td>Yahari Ore no Seishun Love Comedy wa Machigatt...</td>\n",
              "      <td>Slice of Life, Comedy, Drama, Romance, School</td>\n",
              "      <td>8.29</td>\n",
              "      <td>Spring 2015</td>\n",
              "    </tr>\n",
              "    <tr>\n",
              "      <th>16</th>\n",
              "      <td>12113</td>\n",
              "      <td>Berserk: Ougon Jidai-hen II - Doldrey Kouryaku</td>\n",
              "      <td>Action, Adventure, Demons, Drama, Fantasy, Hor...</td>\n",
              "      <td>8.06</td>\n",
              "      <td>NaN</td>\n",
              "    </tr>\n",
              "    <tr>\n",
              "      <th>17</th>\n",
              "      <td>10719</td>\n",
              "      <td>Boku wa Tomodachi ga Sukunai</td>\n",
              "      <td>Ecchi, Slice of Life, Comedy, Harem, Romance, ...</td>\n",
              "      <td>7.47</td>\n",
              "      <td>Fall 2011</td>\n",
              "    </tr>\n",
              "    <tr>\n",
              "      <th>18</th>\n",
              "      <td>32729</td>\n",
              "      <td>Orange</td>\n",
              "      <td>Sci-Fi, Drama, Romance, School, Shoujo</td>\n",
              "      <td>7.71</td>\n",
              "      <td>Summer 2016</td>\n",
              "    </tr>\n",
              "    <tr>\n",
              "      <th>19</th>\n",
              "      <td>8074</td>\n",
              "      <td>Highschool of the Dead</td>\n",
              "      <td>Action, Horror, Supernatural, Ecchi, Shounen</td>\n",
              "      <td>7.36</td>\n",
              "      <td>Summer 2010</td>\n",
              "    </tr>\n",
              "    <tr>\n",
              "      <th>20</th>\n",
              "      <td>8769</td>\n",
              "      <td>Ore no Imouto ga Konnani Kawaii Wake ga Nai</td>\n",
              "      <td>Slice of Life, Comedy</td>\n",
              "      <td>7.34</td>\n",
              "      <td>Fall 2010</td>\n",
              "    </tr>\n",
              "    <tr>\n",
              "      <th>21</th>\n",
              "      <td>12115</td>\n",
              "      <td>Berserk: Ougon Jidai-hen III - Kourin</td>\n",
              "      <td>Action, Adventure, Demons, Drama, Fantasy, Hor...</td>\n",
              "      <td>8.30</td>\n",
              "      <td>NaN</td>\n",
              "    </tr>\n",
              "    <tr>\n",
              "      <th>22</th>\n",
              "      <td>5530</td>\n",
              "      <td>Pandora Hearts</td>\n",
              "      <td>Adventure, Fantasy, Mystery, Shounen, Supernat...</td>\n",
              "      <td>7.85</td>\n",
              "      <td>Spring 2009</td>\n",
              "    </tr>\n",
              "    <tr>\n",
              "      <th>23</th>\n",
              "      <td>269</td>\n",
              "      <td>Bleach</td>\n",
              "      <td>Action, Adventure, Comedy, Super Power, Supern...</td>\n",
              "      <td>7.90</td>\n",
              "      <td>Fall 2004</td>\n",
              "    </tr>\n",
              "    <tr>\n",
              "      <th>24</th>\n",
              "      <td>21405</td>\n",
              "      <td>Bokura wa Minna Kawai-sou</td>\n",
              "      <td>Slice of Life, Comedy, Romance, School</td>\n",
              "      <td>7.83</td>\n",
              "      <td>Spring 2014</td>\n",
              "    </tr>\n",
              "    <tr>\n",
              "      <th>25</th>\n",
              "      <td>11701</td>\n",
              "      <td>Another: The Other - Inga</td>\n",
              "      <td>Horror, Mystery, Thriller</td>\n",
              "      <td>7.45</td>\n",
              "      <td>NaN</td>\n",
              "    </tr>\n",
              "    <tr>\n",
              "      <th>26</th>\n",
              "      <td>32949</td>\n",
              "      <td>Kuzu no Honkai</td>\n",
              "      <td>Drama, Romance, Ecchi, School, Seinen</td>\n",
              "      <td>7.60</td>\n",
              "      <td>Winter 2017</td>\n",
              "    </tr>\n",
              "    <tr>\n",
              "      <th>27</th>\n",
              "      <td>13667</td>\n",
              "      <td>Naruto: Shippuuden Movie 6 - Road to Ninja</td>\n",
              "      <td>Action, Super Power, Adventure, Martial Arts, ...</td>\n",
              "      <td>7.82</td>\n",
              "      <td>NaN</td>\n",
              "    </tr>\n",
              "    <tr>\n",
              "      <th>28</th>\n",
              "      <td>23233</td>\n",
              "      <td>Shinmai Maou no Testament</td>\n",
              "      <td>Action, Harem, Demons, Romance, Ecchi, Fantasy</td>\n",
              "      <td>7.07</td>\n",
              "      <td>Winter 2015</td>\n",
              "    </tr>\n",
              "    <tr>\n",
              "      <th>29</th>\n",
              "      <td>34933</td>\n",
              "      <td>Kakegurui</td>\n",
              "      <td>Drama, Game, Mystery, Psychological, School, S...</td>\n",
              "      <td>7.56</td>\n",
              "      <td>Summer 2017</td>\n",
              "    </tr>\n",
              "  </tbody>\n",
              "</table>\n",
              "</div>"
            ],
            "text/plain": [
              "    Anime_ID  ...    premiered\n",
              "0      34055  ...  Spring 2017\n",
              "1      27899  ...  Winter 2015\n",
              "2      10620  ...    Fall 2011\n",
              "3      15451  ...  Summer 2013\n",
              "4      20785  ...  Spring 2014\n",
              "5      10218  ...          NaN\n",
              "6      11757  ...  Summer 2012\n",
              "7       6702  ...    Fall 2009\n",
              "8      11111  ...  Winter 2012\n",
              "9      22319  ...  Summer 2014\n",
              "10     22043  ...  Spring 2014\n",
              "11     31043  ...  Winter 2016\n",
              "12      3712  ...  Summer 2008\n",
              "13     31798  ...  Spring 2016\n",
              "14     11617  ...  Winter 2012\n",
              "15     23847  ...  Spring 2015\n",
              "16     12113  ...          NaN\n",
              "17     10719  ...    Fall 2011\n",
              "18     32729  ...  Summer 2016\n",
              "19      8074  ...  Summer 2010\n",
              "20      8769  ...    Fall 2010\n",
              "21     12115  ...          NaN\n",
              "22      5530  ...  Spring 2009\n",
              "23       269  ...    Fall 2004\n",
              "24     21405  ...  Spring 2014\n",
              "25     11701  ...          NaN\n",
              "26     32949  ...  Winter 2017\n",
              "27     13667  ...          NaN\n",
              "28     23233  ...  Winter 2015\n",
              "29     34933  ...  Summer 2017\n",
              "\n",
              "[30 rows x 5 columns]"
            ]
          },
          "metadata": {
            "tags": []
          },
          "execution_count": 139
        }
      ]
    },
    {
      "cell_type": "code",
      "metadata": {
        "id": "ZBpwjORAU0M1",
        "colab_type": "code",
        "colab": {
          "base_uri": "https://localhost:8080/",
          "height": 947
        },
        "outputId": "5253f275-0fd9-4b2a-8a14-9bdf891fc98b"
      },
      "source": [
        "get_item_recommendations('Slam Dunk', k=30)"
      ],
      "execution_count": 140,
      "outputs": [
        {
          "output_type": "execute_result",
          "data": {
            "text/html": [
              "<div>\n",
              "<style scoped>\n",
              "    .dataframe tbody tr th:only-of-type {\n",
              "        vertical-align: middle;\n",
              "    }\n",
              "\n",
              "    .dataframe tbody tr th {\n",
              "        vertical-align: top;\n",
              "    }\n",
              "\n",
              "    .dataframe thead th {\n",
              "        text-align: right;\n",
              "    }\n",
              "</style>\n",
              "<table border=\"1\" class=\"dataframe\">\n",
              "  <thead>\n",
              "    <tr style=\"text-align: right;\">\n",
              "      <th></th>\n",
              "      <th>Anime_ID</th>\n",
              "      <th>title</th>\n",
              "      <th>genre</th>\n",
              "      <th>score</th>\n",
              "      <th>premiered</th>\n",
              "    </tr>\n",
              "  </thead>\n",
              "  <tbody>\n",
              "    <tr>\n",
              "      <th>0</th>\n",
              "      <td>6</td>\n",
              "      <td>Trigun</td>\n",
              "      <td>Action, Sci-Fi, Adventure, Comedy, Drama, Shounen</td>\n",
              "      <td>8.31</td>\n",
              "      <td>Spring 1998</td>\n",
              "    </tr>\n",
              "    <tr>\n",
              "      <th>1</th>\n",
              "      <td>263</td>\n",
              "      <td>Hajime no Ippo</td>\n",
              "      <td>Comedy, Sports, Drama, Shounen</td>\n",
              "      <td>8.80</td>\n",
              "      <td>Fall 2000</td>\n",
              "    </tr>\n",
              "    <tr>\n",
              "      <th>2</th>\n",
              "      <td>21</td>\n",
              "      <td>One Piece</td>\n",
              "      <td>Action, Adventure, Comedy, Super Power, Drama,...</td>\n",
              "      <td>8.54</td>\n",
              "      <td>Fall 1999</td>\n",
              "    </tr>\n",
              "    <tr>\n",
              "      <th>3</th>\n",
              "      <td>121</td>\n",
              "      <td>Fullmetal Alchemist</td>\n",
              "      <td>Action, Adventure, Comedy, Drama, Fantasy, Mag...</td>\n",
              "      <td>8.29</td>\n",
              "      <td>Fall 2003</td>\n",
              "    </tr>\n",
              "    <tr>\n",
              "      <th>4</th>\n",
              "      <td>4722</td>\n",
              "      <td>Skip Beat!</td>\n",
              "      <td>Comedy, Drama, Romance, Shoujo</td>\n",
              "      <td>8.24</td>\n",
              "      <td>Fall 2008</td>\n",
              "    </tr>\n",
              "    <tr>\n",
              "      <th>5</th>\n",
              "      <td>889</td>\n",
              "      <td>Black Lagoon</td>\n",
              "      <td>Action, Seinen</td>\n",
              "      <td>8.13</td>\n",
              "      <td>Spring 2006</td>\n",
              "    </tr>\n",
              "    <tr>\n",
              "      <th>6</th>\n",
              "      <td>813</td>\n",
              "      <td>Dragon Ball Z</td>\n",
              "      <td>Action, Adventure, Comedy, Fantasy, Martial Ar...</td>\n",
              "      <td>8.31</td>\n",
              "      <td>Spring 1989</td>\n",
              "    </tr>\n",
              "    <tr>\n",
              "      <th>7</th>\n",
              "      <td>13125</td>\n",
              "      <td>Shinsekai yori</td>\n",
              "      <td>Sci-Fi, Mystery, Horror, Psychological, Supern...</td>\n",
              "      <td>8.49</td>\n",
              "      <td>Fall 2012</td>\n",
              "    </tr>\n",
              "    <tr>\n",
              "      <th>8</th>\n",
              "      <td>11061</td>\n",
              "      <td>Hunter x Hunter (2011)</td>\n",
              "      <td>Action, Adventure, Super Power, Shounen</td>\n",
              "      <td>9.11</td>\n",
              "      <td>Fall 2011</td>\n",
              "    </tr>\n",
              "    <tr>\n",
              "      <th>9</th>\n",
              "      <td>15</td>\n",
              "      <td>Eyeshield 21</td>\n",
              "      <td>Action, Sports, Comedy, Shounen</td>\n",
              "      <td>8.05</td>\n",
              "      <td>Spring 2005</td>\n",
              "    </tr>\n",
              "    <tr>\n",
              "      <th>10</th>\n",
              "      <td>9969</td>\n",
              "      <td>Gintama&amp;#039;</td>\n",
              "      <td>Action, Sci-Fi, Comedy, Historical, Parody, Sa...</td>\n",
              "      <td>9.11</td>\n",
              "      <td>Spring 2011</td>\n",
              "    </tr>\n",
              "    <tr>\n",
              "      <th>11</th>\n",
              "      <td>20583</td>\n",
              "      <td>Haikyuu!!</td>\n",
              "      <td>Comedy, Drama, School, Shounen, Sports</td>\n",
              "      <td>8.65</td>\n",
              "      <td>Spring 2014</td>\n",
              "    </tr>\n",
              "    <tr>\n",
              "      <th>12</th>\n",
              "      <td>245</td>\n",
              "      <td>Great Teacher Onizuka</td>\n",
              "      <td>Comedy, Drama, School, Shounen, Slice of Life</td>\n",
              "      <td>8.74</td>\n",
              "      <td>Summer 1999</td>\n",
              "    </tr>\n",
              "    <tr>\n",
              "      <th>13</th>\n",
              "      <td>23283</td>\n",
              "      <td>Zankyou no Terror</td>\n",
              "      <td>Mystery, Psychological, Thriller</td>\n",
              "      <td>8.21</td>\n",
              "      <td>Summer 2014</td>\n",
              "    </tr>\n",
              "    <tr>\n",
              "      <th>14</th>\n",
              "      <td>18679</td>\n",
              "      <td>Kill la Kill</td>\n",
              "      <td>Action, Comedy, Super Power, Ecchi, School</td>\n",
              "      <td>8.19</td>\n",
              "      <td>Fall 2013</td>\n",
              "    </tr>\n",
              "    <tr>\n",
              "      <th>15</th>\n",
              "      <td>5114</td>\n",
              "      <td>Fullmetal Alchemist: Brotherhood</td>\n",
              "      <td>Action, Military, Adventure, Comedy, Drama, Ma...</td>\n",
              "      <td>9.25</td>\n",
              "      <td>Spring 2009</td>\n",
              "    </tr>\n",
              "    <tr>\n",
              "      <th>16</th>\n",
              "      <td>1818</td>\n",
              "      <td>Claymore</td>\n",
              "      <td>Action, Adventure, Super Power, Demons, Supern...</td>\n",
              "      <td>7.87</td>\n",
              "      <td>Spring 2007</td>\n",
              "    </tr>\n",
              "    <tr>\n",
              "      <th>17</th>\n",
              "      <td>22535</td>\n",
              "      <td>Kiseijuu: Sei no Kakuritsu</td>\n",
              "      <td>Action, Sci-Fi, Horror, Psychological, Drama, ...</td>\n",
              "      <td>8.52</td>\n",
              "      <td>Fall 2014</td>\n",
              "    </tr>\n",
              "    <tr>\n",
              "      <th>18</th>\n",
              "      <td>2251</td>\n",
              "      <td>Baccano!</td>\n",
              "      <td>Action, Mystery, Comedy, Historical, Supernatural</td>\n",
              "      <td>8.49</td>\n",
              "      <td>Summer 2007</td>\n",
              "    </tr>\n",
              "    <tr>\n",
              "      <th>19</th>\n",
              "      <td>5258</td>\n",
              "      <td>Hajime no Ippo: New Challenger</td>\n",
              "      <td>Comedy, Sports, Drama, Shounen</td>\n",
              "      <td>8.73</td>\n",
              "      <td>Winter 2009</td>\n",
              "    </tr>\n",
              "    <tr>\n",
              "      <th>20</th>\n",
              "      <td>19</td>\n",
              "      <td>Monster</td>\n",
              "      <td>Drama, Horror, Mystery, Police, Psychological,...</td>\n",
              "      <td>8.69</td>\n",
              "      <td>Spring 2004</td>\n",
              "    </tr>\n",
              "    <tr>\n",
              "      <th>21</th>\n",
              "      <td>1604</td>\n",
              "      <td>Katekyo Hitman Reborn!</td>\n",
              "      <td>Action, Comedy, Shounen, Super Power</td>\n",
              "      <td>8.31</td>\n",
              "      <td>Fall 2006</td>\n",
              "    </tr>\n",
              "    <tr>\n",
              "      <th>22</th>\n",
              "      <td>777</td>\n",
              "      <td>Hellsing Ultimate</td>\n",
              "      <td>Action, Military, Horror, Supernatural, Vampir...</td>\n",
              "      <td>8.53</td>\n",
              "      <td>NaN</td>\n",
              "    </tr>\n",
              "    <tr>\n",
              "      <th>23</th>\n",
              "      <td>33</td>\n",
              "      <td>Kenpuu Denki Berserk</td>\n",
              "      <td>Action, Adventure, Demons, Drama, Fantasy, Hor...</td>\n",
              "      <td>8.45</td>\n",
              "      <td>Fall 1997</td>\n",
              "    </tr>\n",
              "    <tr>\n",
              "      <th>24</th>\n",
              "      <td>11843</td>\n",
              "      <td>Danshi Koukousei no Nichijou</td>\n",
              "      <td>Slice of Life, Comedy, School</td>\n",
              "      <td>8.34</td>\n",
              "      <td>Winter 2012</td>\n",
              "    </tr>\n",
              "    <tr>\n",
              "      <th>25</th>\n",
              "      <td>15417</td>\n",
              "      <td>Gintama&amp;#039;: Enchousen</td>\n",
              "      <td>Action, Comedy, Historical, Parody, Samurai, S...</td>\n",
              "      <td>9.07</td>\n",
              "      <td>Fall 2012</td>\n",
              "    </tr>\n",
              "    <tr>\n",
              "      <th>26</th>\n",
              "      <td>28977</td>\n",
              "      <td>Gintama°</td>\n",
              "      <td>Action, Comedy, Historical, Parody, Samurai, S...</td>\n",
              "      <td>9.15</td>\n",
              "      <td>Spring 2015</td>\n",
              "    </tr>\n",
              "    <tr>\n",
              "      <th>27</th>\n",
              "      <td>30276</td>\n",
              "      <td>One Punch Man</td>\n",
              "      <td>Action, Sci-Fi, Comedy, Parody, Super Power, S...</td>\n",
              "      <td>8.73</td>\n",
              "      <td>Fall 2015</td>\n",
              "    </tr>\n",
              "    <tr>\n",
              "      <th>28</th>\n",
              "      <td>2034</td>\n",
              "      <td>Lovely★Complex</td>\n",
              "      <td>Comedy, Romance, Shoujo</td>\n",
              "      <td>8.18</td>\n",
              "      <td>Spring 2007</td>\n",
              "    </tr>\n",
              "    <tr>\n",
              "      <th>29</th>\n",
              "      <td>7674</td>\n",
              "      <td>Bakuman.</td>\n",
              "      <td>Comedy, Drama, Romance, Shounen</td>\n",
              "      <td>8.32</td>\n",
              "      <td>Fall 2010</td>\n",
              "    </tr>\n",
              "  </tbody>\n",
              "</table>\n",
              "</div>"
            ],
            "text/plain": [
              "    Anime_ID                             title  ... score    premiered\n",
              "0          6                            Trigun  ...  8.31  Spring 1998\n",
              "1        263                    Hajime no Ippo  ...  8.80    Fall 2000\n",
              "2         21                         One Piece  ...  8.54    Fall 1999\n",
              "3        121               Fullmetal Alchemist  ...  8.29    Fall 2003\n",
              "4       4722                        Skip Beat!  ...  8.24    Fall 2008\n",
              "5        889                      Black Lagoon  ...  8.13  Spring 2006\n",
              "6        813                     Dragon Ball Z  ...  8.31  Spring 1989\n",
              "7      13125                    Shinsekai yori  ...  8.49    Fall 2012\n",
              "8      11061            Hunter x Hunter (2011)  ...  9.11    Fall 2011\n",
              "9         15                      Eyeshield 21  ...  8.05  Spring 2005\n",
              "10      9969                     Gintama&#039;  ...  9.11  Spring 2011\n",
              "11     20583                         Haikyuu!!  ...  8.65  Spring 2014\n",
              "12       245             Great Teacher Onizuka  ...  8.74  Summer 1999\n",
              "13     23283                 Zankyou no Terror  ...  8.21  Summer 2014\n",
              "14     18679                      Kill la Kill  ...  8.19    Fall 2013\n",
              "15      5114  Fullmetal Alchemist: Brotherhood  ...  9.25  Spring 2009\n",
              "16      1818                          Claymore  ...  7.87  Spring 2007\n",
              "17     22535        Kiseijuu: Sei no Kakuritsu  ...  8.52    Fall 2014\n",
              "18      2251                          Baccano!  ...  8.49  Summer 2007\n",
              "19      5258    Hajime no Ippo: New Challenger  ...  8.73  Winter 2009\n",
              "20        19                           Monster  ...  8.69  Spring 2004\n",
              "21      1604            Katekyo Hitman Reborn!  ...  8.31    Fall 2006\n",
              "22       777                 Hellsing Ultimate  ...  8.53          NaN\n",
              "23        33              Kenpuu Denki Berserk  ...  8.45    Fall 1997\n",
              "24     11843      Danshi Koukousei no Nichijou  ...  8.34  Winter 2012\n",
              "25     15417          Gintama&#039;: Enchousen  ...  9.07    Fall 2012\n",
              "26     28977                          Gintama°  ...  9.15  Spring 2015\n",
              "27     30276                     One Punch Man  ...  8.73    Fall 2015\n",
              "28      2034                    Lovely★Complex  ...  8.18  Spring 2007\n",
              "29      7674                          Bakuman.  ...  8.32    Fall 2010\n",
              "\n",
              "[30 rows x 5 columns]"
            ]
          },
          "metadata": {
            "tags": []
          },
          "execution_count": 140
        }
      ]
    },
    {
      "cell_type": "markdown",
      "metadata": {
        "id": "Pj1LlXwVUcOh",
        "colab_type": "text"
      },
      "source": [
        "This is results of using KNN model since it score the best for algorthims that can do item-item recommendation. Based on judgement, I would say it is accurate.\n",
        "Now I'm going to use pyspark to use the ALS algorthim to compare with baseline. It's going to use all the data."
      ]
    },
    {
      "cell_type": "code",
      "metadata": {
        "id": "mqvAaUjGUyhd",
        "colab_type": "code",
        "colab": {}
      },
      "source": [
        ""
      ],
      "execution_count": 0,
      "outputs": []
    }
  ]
}